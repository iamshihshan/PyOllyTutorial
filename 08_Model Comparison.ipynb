{
 "cells": [
  {
   "cell_type": "code",
   "execution_count": 1,
   "metadata": {
    "collapsed": false
   },
   "outputs": [
    {
     "name": "stderr",
     "output_type": "stream",
     "text": [
      "/usr/lib64/python3.4/site-packages/sklearn/cross_validation.py:44: DeprecationWarning: This module was deprecated in version 0.18 in favor of the model_selection module into which all the refactored classes and functions are moved. Also note that the interface of the new CV iterators are different from that of this module. This module will be removed in 0.20.\n",
      "  \"This module will be removed in 0.20.\", DeprecationWarning)\n"
     ]
    }
   ],
   "source": [
    "%matplotlib inline\n",
    "import pandas\n",
    "import numpy as np\n",
    "import matplotlib.pyplot as plt\n",
    "from sklearn import model_selection\n",
    "from sklearn.cross_validation import train_test_split, cross_val_score\n",
    "from sklearn.linear_model import LogisticRegression\n",
    "from sklearn.linear_model import LinearRegression\n",
    "from sklearn.discriminant_analysis import LinearDiscriminantAnalysis\n",
    "from sklearn.neighbors import KNeighborsClassifier\n",
    "from sklearn.tree import DecisionTreeClassifier\n",
    "from sklearn.ensemble import RandomForestClassifier\n",
    "from sklearn.naive_bayes import GaussianNB\n",
    "from sklearn.svm import SVC"
   ]
  },
  {
   "cell_type": "code",
   "execution_count": 2,
   "metadata": {
    "collapsed": false
   },
   "outputs": [],
   "source": [
    "# load dataset\n",
    "var = ['preg', 'plas', 'pres', 'skin', 'test', 'mass', 'pedi', 'age', 'class']\n",
    "dataframe = pandas.read_csv('DataBase/ForModelCamparison.csv', names=var)\n",
    "array = dataframe.values\n",
    "\n",
    "X = array[:,0:8]\n",
    "y = array[:,8]"
   ]
  },
  {
   "cell_type": "code",
   "execution_count": 3,
   "metadata": {
    "collapsed": false
   },
   "outputs": [],
   "source": [
    "# prepare models\n",
    "models = []\n",
    "models.append(('Logistic Regression', LogisticRegression()))\n",
    "models.append(('Linear Regression', LogisticRegression()))\n",
    "models.append(('Linear Discriminant', LinearDiscriminantAnalysis()))\n",
    "models.append(('K Neighbors Classifier', KNeighborsClassifier()))\n",
    "models.append(('Decision Tree', DecisionTreeClassifier()))\n",
    "models.append(('Randomforest', RandomForestClassifier()))\n",
    "models.append(('SVM', SVC(C=1, gamma=0.0001)))"
   ]
  },
  {
   "cell_type": "code",
   "execution_count": 4,
   "metadata": {
    "collapsed": false
   },
   "outputs": [
    {
     "name": "stdout",
     "output_type": "stream",
     "text": [
      "Logistic Regression: \t 0.769515 (0.048411)\n",
      "Linear Regression: \t 0.769515 (0.048411)\n",
      "Linear Discriminant: \t 0.773462 (0.051592)\n",
      "K Neighbors Classifier: \t 0.726555 (0.061821)\n",
      "Decision Tree: \t 0.690038 (0.063101)\n",
      "Randomforest: \t 0.746036 (0.050381)\n",
      "SVM: \t 0.761722 (0.052578)\n"
     ]
    }
   ],
   "source": [
    "# prepare configuration for cross validation test harness\n",
    "seed = 3591\n",
    "# Validate each model in turn\n",
    "results = []\n",
    "names = []\n",
    "scoring = 'accuracy'\n",
    "\n",
    "for name, model in models:\n",
    "    kfold = model_selection.KFold(n_splits=10, random_state=seed)\n",
    "    cv_results = model_selection.cross_val_score(model, X, y, cv=kfold, scoring=scoring)\n",
    "    results.append(cv_results)\n",
    "    names.append(name)\n",
    "    msg = \"%s: \\t %f (%f)\" % (name, cv_results.mean(), cv_results.std())\n",
    "    print(msg)"
   ]
  },
  {
   "cell_type": "code",
   "execution_count": 5,
   "metadata": {
    "collapsed": false
   },
   "outputs": [
    {
     "data": {
      "image/png": "[encoded data removed]",
      "text/plain": [
       "<matplotlib.figure.Figure at 0x7f6ce9fa6208>"
      ]
     },
     "metadata": {},
     "output_type": "display_data"
    }
   ],
   "source": [
    "# boxplot algorithm comparison\n",
    "fig = plt.figure()\n",
    "fig.suptitle('Algorithm Comparison')\n",
    "ax = fig.add_subplot(111)\n",
    "plt.boxplot(results)\n",
    "ax.set_xticklabels(names)\n",
    "plt.show()"
   ]
  },
  {
   "cell_type": "code",
   "execution_count": 6,
   "metadata": {
    "collapsed": false
   },
   "outputs": [],
   "source": [
    "def perf_measure(y_actual, y_hat):\n",
    "    TP = 0\n",
    "    FP = 0\n",
    "    TN = 0\n",
    "    FN = 0\n",
    "    for i in range(len(y_hat)): \n",
    "        if y_actual[i]==y_hat[i]==1:\n",
    "           TP += 1\n",
    "    for i in range(len(y_hat)): \n",
    "        if y_hat[i]==1 and y_actual!=y_hat[i]:\n",
    "           FP += 1\n",
    "    for i in range(len(y_hat)): \n",
    "        if y_actual[i]==y_hat[i]==0:\n",
    "           TN += 1\n",
    "    for i in range(len(y_hat)): \n",
    "        if y_hat[i]==0 and y_actual!=y_hat[i]:\n",
    "           FN += 1\n",
    "    return 'Sen.:{:.4f}'.format(TP/(TP+FP*1.0)),'PPV.:{:.4f}'.format(TP/(TP+FN*1.0)), 'Spe.:{:.4f}'.format(TN/(TN+FN*1.0)),'NPV.:{:.4f}'.format(TN/(TN+FP*1.0))"
   ]
  },
  {
   "cell_type": "code",
   "execution_count": 12,
   "metadata": {
    "collapsed": false
   },
   "outputs": [
    {
     "name": "stdout",
     "output_type": "stream",
     "text": [
      "✪ Logistic Regression >>\n",
      "\t * Train Accuracy :\t 0.773615635179 \n",
      "\t\t\t\t★ ('Sen.:0.4220', 'PPV.:0.2088', 'Spe.:0.4411', 'NPV.:0.6859')\n",
      "\t * Test Accuracy :\t 0.792207792208 \n",
      "\t\t\t\t★ ('Sen.:0.4412', 'PPV.:0.2055', 'Spe.:0.4423', 'NPV.:0.7077')\n",
      "✪ Linear Regression >>\n",
      "\t * Train Accuracy :\t 0.773615635179 \n",
      "\t\t\t\t★ ('Sen.:0.4220', 'PPV.:0.2088', 'Spe.:0.4411', 'NPV.:0.6859')\n",
      "\t * Test Accuracy :\t 0.792207792208 \n",
      "\t\t\t\t★ ('Sen.:0.4412', 'PPV.:0.2055', 'Spe.:0.4423', 'NPV.:0.7077')\n",
      "✪ Linear Discriminant >>\n",
      "\t * Train Accuracy :\t 0.768729641694 \n",
      "\t\t\t\t★ ('Sen.:0.4158', 'PPV.:0.2142', 'Spe.:0.4415', 'NPV.:0.6737')\n",
      "\t * Test Accuracy :\t 0.798701298701 \n",
      "\t\t\t\t★ ('Sen.:0.4304', 'PPV.:0.2378', 'Spe.:0.4495', 'NPV.:0.6642')\n",
      "✪ K Neighbors Classifier >>\n",
      "\t * Train Accuracy :\t 0.791530944625 \n",
      "\t\t\t\t★ ('Sen.:0.4215', 'PPV.:0.2433', 'Spe.:0.4503', 'NPV.:0.6499')\n",
      "\t * Test Accuracy :\t 0.714285714286 \n",
      "\t\t\t\t★ ('Sen.:0.3766', 'PPV.:0.2148', 'Spe.:0.4332', 'NPV.:0.6279')\n",
      "✪ Decision Tree >>\n",
      "\t * Train Accuracy :\t 1.0 \n",
      "\t\t\t\t★ ('Sen.:0.5000', 'PPV.:0.3485', 'Spe.:0.5000', 'NPV.:0.6515')\n",
      "\t * Test Accuracy :\t 0.766233766234 \n",
      "\t\t\t\t★ ('Sen.:0.4048', 'PPV.:0.2464', 'Spe.:0.4468', 'NPV.:0.6269')\n",
      "✪ Randomforest >>\n",
      "\t * Train Accuracy :\t 0.975570032573 \n",
      "\t\t\t\t★ ('Sen.:0.4988', 'PPV.:0.3263', 'Spe.:0.4914', 'NPV.:0.6650')\n",
      "\t * Test Accuracy :\t 0.746753246753 \n",
      "\t\t\t\t★ ('Sen.:0.4091', 'PPV.:0.1901', 'Spe.:0.4335', 'NPV.:0.6929')\n",
      "✪ SVM >>\n",
      "\t * Train Accuracy :\t 0.78013029316 \n",
      "\t\t\t\t★ ('Sen.:0.4382', 'PPV.:0.1887', 'Spe.:0.4382', 'NPV.:0.7235')\n",
      "\t * Test Accuracy :\t 0.727272727273 \n",
      "\t\t\t\t★ ('Sen.:0.3913', 'PPV.:0.1942', 'Spe.:0.4315', 'NPV.:0.6693')\n"
     ]
    }
   ],
   "source": [
    "Xtr, Xte, ytr, yte = train_test_split(X, y, test_size=0.20)\n",
    "for name, model in models:\n",
    "    md = model\n",
    "    md.fit(Xtr, ytr)\n",
    "    print('✪',name,'>>')\n",
    "#     print('\\t * Vars Importancy :\\t', list(var[i] for i in clf.feature_importances_.argsort()[-6:][::-1].tolist()))\n",
    "    print('\\t * Train Accuracy :\\t', np.mean(md.predict(Xtr) == ytr),'\\n\\t\\t\\t\\t★', perf_measure(ytr.tolist(), md.predict(Xtr).tolist()))\n",
    "    print('\\t * Test Accuracy :\\t', np.mean(md.predict(Xte) == yte),'\\n\\t\\t\\t\\t★', perf_measure(yte.tolist(), md.predict(Xte).tolist()))"
   ]
  }
 ],
 "metadata": {
  "kernelspec": {
   "display_name": "Python 3",
   "language": "python",
   "name": "python3"
  },
  "language_info": {
   "codemirror_mode": {
    "name": "ipython",
    "version": 3
   },
   "file_extension": ".py",
   "mimetype": "text/x-python",
   "name": "python",
   "nbconvert_exporter": "python",
   "pygments_lexer": "ipython3",
   "version": "3.4.3"
  }
 },
 "nbformat": 4,
 "nbformat_minor": 0
}
