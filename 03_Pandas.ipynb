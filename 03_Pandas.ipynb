{
 "cells": [
  {
   "cell_type": "markdown",
   "metadata": {},
   "source": [
    "# [Pandas](https://pandas.pydata.org/pandas-docs/stable/) data proccess\n",
    "* Environment require **Python 3+**"
   ]
  },
  {
   "cell_type": "code",
   "execution_count": 1,
   "metadata": {
    "collapsed": true
   },
   "outputs": [],
   "source": [
    "import pandas as pd"
   ]
  },
  {
   "cell_type": "markdown",
   "metadata": {},
   "source": [
    "# Import csv data with pandas"
   ]
  },
  {
   "cell_type": "code",
   "execution_count": 2,
   "metadata": {
    "collapsed": false
   },
   "outputs": [
    {
     "data": {
      "text/html": [
       "<div>\n",
       "<style>\n",
       "    .dataframe thead tr:only-child th {\n",
       "        text-align: right;\n",
       "    }\n",
       "\n",
       "    .dataframe thead th {\n",
       "        text-align: left;\n",
       "    }\n",
       "\n",
       "    .dataframe tbody tr th {\n",
       "        vertical-align: top;\n",
       "    }\n",
       "</style>\n",
       "<table border=\"1\" class=\"dataframe\">\n",
       "  <thead>\n",
       "    <tr style=\"text-align: right;\">\n",
       "      <th></th>\n",
       "      <th>ID</th>\n",
       "      <th>Date</th>\n",
       "      <th>Country</th>\n",
       "      <th>Star</th>\n",
       "      <th>Total Customer</th>\n",
       "      <th>Status</th>\n",
       "      <th>Target</th>\n",
       "    </tr>\n",
       "  </thead>\n",
       "  <tbody>\n",
       "    <tr>\n",
       "      <th>0</th>\n",
       "      <td>1</td>\n",
       "      <td>6/9/2017 0:00</td>\n",
       "      <td>USA</td>\n",
       "      <td>6</td>\n",
       "      <td>5244337.0</td>\n",
       "      <td>O</td>\n",
       "      <td>Y</td>\n",
       "    </tr>\n",
       "    <tr>\n",
       "      <th>1</th>\n",
       "      <td>2</td>\n",
       "      <td>6/9/2017 0:00</td>\n",
       "      <td>Canada</td>\n",
       "      <td>5</td>\n",
       "      <td>3531127.0</td>\n",
       "      <td>R</td>\n",
       "      <td>Y</td>\n",
       "    </tr>\n",
       "    <tr>\n",
       "      <th>2</th>\n",
       "      <td>3</td>\n",
       "      <td>6/9/2017 0:00</td>\n",
       "      <td>French</td>\n",
       "      <td>5</td>\n",
       "      <td>253535.0</td>\n",
       "      <td>I</td>\n",
       "      <td>N</td>\n",
       "    </tr>\n",
       "    <tr>\n",
       "      <th>3</th>\n",
       "      <td>4</td>\n",
       "      <td>6/9/2017 0:00</td>\n",
       "      <td>Taiwan</td>\n",
       "      <td>4</td>\n",
       "      <td>5165465.0</td>\n",
       "      <td>NaN</td>\n",
       "      <td>N</td>\n",
       "    </tr>\n",
       "    <tr>\n",
       "      <th>4</th>\n",
       "      <td>5</td>\n",
       "      <td>6/9/2017 0:00</td>\n",
       "      <td>Japan</td>\n",
       "      <td>6</td>\n",
       "      <td>NaN</td>\n",
       "      <td>NaN</td>\n",
       "      <td>Y</td>\n",
       "    </tr>\n",
       "    <tr>\n",
       "      <th>5</th>\n",
       "      <td>6</td>\n",
       "      <td>6/9/2017 0:00</td>\n",
       "      <td>Korea</td>\n",
       "      <td>4</td>\n",
       "      <td>16546.0</td>\n",
       "      <td>R</td>\n",
       "      <td>N</td>\n",
       "    </tr>\n",
       "    <tr>\n",
       "      <th>6</th>\n",
       "      <td>7</td>\n",
       "      <td>6/9/2017 0:00</td>\n",
       "      <td>England</td>\n",
       "      <td>7</td>\n",
       "      <td>4461441.0</td>\n",
       "      <td>I</td>\n",
       "      <td>Y</td>\n",
       "    </tr>\n",
       "    <tr>\n",
       "      <th>7</th>\n",
       "      <td>1</td>\n",
       "      <td>6/10/2017 0:00</td>\n",
       "      <td>USA</td>\n",
       "      <td>4</td>\n",
       "      <td>5852132.0</td>\n",
       "      <td>O</td>\n",
       "      <td>Y</td>\n",
       "    </tr>\n",
       "    <tr>\n",
       "      <th>8</th>\n",
       "      <td>2</td>\n",
       "      <td>6/10/2017 0:00</td>\n",
       "      <td>Canada</td>\n",
       "      <td>6</td>\n",
       "      <td>3836524.0</td>\n",
       "      <td>R</td>\n",
       "      <td>Y</td>\n",
       "    </tr>\n",
       "    <tr>\n",
       "      <th>9</th>\n",
       "      <td>3</td>\n",
       "      <td>6/10/2017 0:00</td>\n",
       "      <td>French</td>\n",
       "      <td>4</td>\n",
       "      <td>253952.0</td>\n",
       "      <td>I</td>\n",
       "      <td>N</td>\n",
       "    </tr>\n",
       "    <tr>\n",
       "      <th>10</th>\n",
       "      <td>4</td>\n",
       "      <td>6/10/2017 0:00</td>\n",
       "      <td>Taiwan</td>\n",
       "      <td>7</td>\n",
       "      <td>5865521.0</td>\n",
       "      <td>I</td>\n",
       "      <td>Y</td>\n",
       "    </tr>\n",
       "    <tr>\n",
       "      <th>11</th>\n",
       "      <td>5</td>\n",
       "      <td>6/10/2017 0:00</td>\n",
       "      <td>Japan</td>\n",
       "      <td>6</td>\n",
       "      <td>19752.0</td>\n",
       "      <td>Q</td>\n",
       "      <td>N</td>\n",
       "    </tr>\n",
       "    <tr>\n",
       "      <th>12</th>\n",
       "      <td>6</td>\n",
       "      <td>6/10/2017 0:00</td>\n",
       "      <td>Korea</td>\n",
       "      <td>5</td>\n",
       "      <td>96211.0</td>\n",
       "      <td>O</td>\n",
       "      <td>N</td>\n",
       "    </tr>\n",
       "    <tr>\n",
       "      <th>13</th>\n",
       "      <td>7</td>\n",
       "      <td>6/10/2017 0:00</td>\n",
       "      <td>England</td>\n",
       "      <td>5</td>\n",
       "      <td>4852122.0</td>\n",
       "      <td>R</td>\n",
       "      <td>Y</td>\n",
       "    </tr>\n",
       "  </tbody>\n",
       "</table>\n",
       "</div>"
      ],
      "text/plain": [
       "    ID            Date  Country  Star  Total Customer Status Target\n",
       "0    1   6/9/2017 0:00      USA     6       5244337.0      O      Y\n",
       "1    2   6/9/2017 0:00   Canada     5       3531127.0      R      Y\n",
       "2    3   6/9/2017 0:00   French     5        253535.0      I      N\n",
       "3    4   6/9/2017 0:00   Taiwan     4       5165465.0    NaN      N\n",
       "4    5   6/9/2017 0:00    Japan     6             NaN    NaN      Y\n",
       "5    6   6/9/2017 0:00    Korea     4         16546.0      R      N\n",
       "6    7   6/9/2017 0:00  England     7       4461441.0      I      Y\n",
       "7    1  6/10/2017 0:00      USA     4       5852132.0      O      Y\n",
       "8    2  6/10/2017 0:00   Canada     6       3836524.0      R      Y\n",
       "9    3  6/10/2017 0:00   French     4        253952.0      I      N\n",
       "10   4  6/10/2017 0:00   Taiwan     7       5865521.0      I      Y\n",
       "11   5  6/10/2017 0:00    Japan     6         19752.0      Q      N\n",
       "12   6  6/10/2017 0:00    Korea     5         96211.0      O      N\n",
       "13   7  6/10/2017 0:00  England     5       4852122.0      R      Y"
      ]
     },
     "execution_count": 2,
     "metadata": {},
     "output_type": "execute_result"
    }
   ],
   "source": [
    "df = pd.read_csv('DataBase/CSVData.csv')\n",
    "df"
   ]
  },
  {
   "cell_type": "markdown",
   "metadata": {},
   "source": [
    "# Explore Data Format\n",
    "* Check data frame infomation"
   ]
  },
  {
   "cell_type": "code",
   "execution_count": 3,
   "metadata": {
    "collapsed": false
   },
   "outputs": [
    {
     "name": "stdout",
     "output_type": "stream",
     "text": [
      "<class 'pandas.core.frame.DataFrame'>\n",
      "RangeIndex: 14 entries, 0 to 13\n",
      "Data columns (total 7 columns):\n",
      "ID                14 non-null int64\n",
      "Date              14 non-null object\n",
      "Country           14 non-null object\n",
      "Star              14 non-null int64\n",
      "Total Customer    13 non-null float64\n",
      "Status            12 non-null object\n",
      "Target            14 non-null object\n",
      "dtypes: float64(1), int64(2), object(4)\n",
      "memory usage: 864.0+ bytes\n",
      "None\n"
     ]
    }
   ],
   "source": [
    "print(df.info())"
   ]
  },
  {
   "cell_type": "markdown",
   "metadata": {},
   "source": [
    "* Check head & tail"
   ]
  },
  {
   "cell_type": "code",
   "execution_count": 4,
   "metadata": {
    "collapsed": false
   },
   "outputs": [
    {
     "name": "stdout",
     "output_type": "stream",
     "text": [
      "   ID           Date Country  Star  Total Customer Status Target\n",
      "0   1  6/9/2017 0:00     USA     6       5244337.0      O      Y\n",
      "1   2  6/9/2017 0:00  Canada     5       3531127.0      R      Y\n",
      "2   3  6/9/2017 0:00  French     5        253535.0      I      N\n",
      "3   4  6/9/2017 0:00  Taiwan     4       5165465.0    NaN      N\n",
      "4   5  6/9/2017 0:00   Japan     6             NaN    NaN      Y\n",
      "    ID            Date  Country  Star  Total Customer Status Target\n",
      "9    3  6/10/2017 0:00   French     4        253952.0      I      N\n",
      "10   4  6/10/2017 0:00   Taiwan     7       5865521.0      I      Y\n",
      "11   5  6/10/2017 0:00    Japan     6         19752.0      Q      N\n",
      "12   6  6/10/2017 0:00    Korea     5         96211.0      O      N\n",
      "13   7  6/10/2017 0:00  England     5       4852122.0      R      Y\n"
     ]
    }
   ],
   "source": [
    "print(df.head())\n",
    "print(df.tail())"
   ]
  },
  {
   "cell_type": "markdown",
   "metadata": {},
   "source": [
    "* Check columns name"
   ]
  },
  {
   "cell_type": "code",
   "execution_count": 5,
   "metadata": {
    "collapsed": false
   },
   "outputs": [
    {
     "data": {
      "text/plain": [
       "Index(['ID', 'Date', 'Country', 'Star', 'Total Customer', 'Status', 'Target'], dtype='object')"
      ]
     },
     "execution_count": 5,
     "metadata": {},
     "output_type": "execute_result"
    }
   ],
   "source": [
    "df.columns"
   ]
  },
  {
   "cell_type": "markdown",
   "metadata": {},
   "source": [
    "* Check how many rows * columns"
   ]
  },
  {
   "cell_type": "code",
   "execution_count": 6,
   "metadata": {
    "collapsed": false
   },
   "outputs": [
    {
     "data": {
      "text/plain": [
       "(14, 7)"
      ]
     },
     "execution_count": 6,
     "metadata": {},
     "output_type": "execute_result"
    }
   ],
   "source": [
    "df.shape"
   ]
  },
  {
   "cell_type": "markdown",
   "metadata": {},
   "source": [
    "# Basic Analysis"
   ]
  },
  {
   "cell_type": "markdown",
   "metadata": {},
   "source": [
    "* Summary describe"
   ]
  },
  {
   "cell_type": "code",
   "execution_count": 7,
   "metadata": {
    "collapsed": false
   },
   "outputs": [
    {
     "data": {
      "text/html": [
       "<div>\n",
       "<style>\n",
       "    .dataframe thead tr:only-child th {\n",
       "        text-align: right;\n",
       "    }\n",
       "\n",
       "    .dataframe thead th {\n",
       "        text-align: left;\n",
       "    }\n",
       "\n",
       "    .dataframe tbody tr th {\n",
       "        vertical-align: top;\n",
       "    }\n",
       "</style>\n",
       "<table border=\"1\" class=\"dataframe\">\n",
       "  <thead>\n",
       "    <tr style=\"text-align: right;\">\n",
       "      <th></th>\n",
       "      <th>ID</th>\n",
       "      <th>Star</th>\n",
       "      <th>Total Customer</th>\n",
       "    </tr>\n",
       "  </thead>\n",
       "  <tbody>\n",
       "    <tr>\n",
       "      <th>count</th>\n",
       "      <td>14.000000</td>\n",
       "      <td>14.000000</td>\n",
       "      <td>1.300000e+01</td>\n",
       "    </tr>\n",
       "    <tr>\n",
       "      <th>mean</th>\n",
       "      <td>4.000000</td>\n",
       "      <td>5.285714</td>\n",
       "      <td>3.034513e+06</td>\n",
       "    </tr>\n",
       "    <tr>\n",
       "      <th>std</th>\n",
       "      <td>2.075498</td>\n",
       "      <td>1.069045</td>\n",
       "      <td>2.481656e+06</td>\n",
       "    </tr>\n",
       "    <tr>\n",
       "      <th>min</th>\n",
       "      <td>1.000000</td>\n",
       "      <td>4.000000</td>\n",
       "      <td>1.654600e+04</td>\n",
       "    </tr>\n",
       "    <tr>\n",
       "      <th>25%</th>\n",
       "      <td>2.250000</td>\n",
       "      <td>4.250000</td>\n",
       "      <td>2.535350e+05</td>\n",
       "    </tr>\n",
       "    <tr>\n",
       "      <th>50%</th>\n",
       "      <td>4.000000</td>\n",
       "      <td>5.000000</td>\n",
       "      <td>3.836524e+06</td>\n",
       "    </tr>\n",
       "    <tr>\n",
       "      <th>75%</th>\n",
       "      <td>5.750000</td>\n",
       "      <td>6.000000</td>\n",
       "      <td>5.165465e+06</td>\n",
       "    </tr>\n",
       "    <tr>\n",
       "      <th>max</th>\n",
       "      <td>7.000000</td>\n",
       "      <td>7.000000</td>\n",
       "      <td>5.865521e+06</td>\n",
       "    </tr>\n",
       "  </tbody>\n",
       "</table>\n",
       "</div>"
      ],
      "text/plain": [
       "              ID       Star  Total Customer\n",
       "count  14.000000  14.000000    1.300000e+01\n",
       "mean    4.000000   5.285714    3.034513e+06\n",
       "std     2.075498   1.069045    2.481656e+06\n",
       "min     1.000000   4.000000    1.654600e+04\n",
       "25%     2.250000   4.250000    2.535350e+05\n",
       "50%     4.000000   5.000000    3.836524e+06\n",
       "75%     5.750000   6.000000    5.165465e+06\n",
       "max     7.000000   7.000000    5.865521e+06"
      ]
     },
     "execution_count": 7,
     "metadata": {},
     "output_type": "execute_result"
    }
   ],
   "source": [
    "df.describe()"
   ]
  },
  {
   "cell_type": "markdown",
   "metadata": {
    "collapsed": true
   },
   "source": [
    "* Count (without Nan)"
   ]
  },
  {
   "cell_type": "code",
   "execution_count": 8,
   "metadata": {
    "collapsed": false
   },
   "outputs": [
    {
     "data": {
      "text/plain": [
       "12"
      ]
     },
     "execution_count": 8,
     "metadata": {},
     "output_type": "execute_result"
    }
   ],
   "source": [
    "df['Status'].count()"
   ]
  },
  {
   "cell_type": "markdown",
   "metadata": {},
   "source": [
    "* Mean"
   ]
  },
  {
   "cell_type": "code",
   "execution_count": 9,
   "metadata": {
    "collapsed": false
   },
   "outputs": [
    {
     "data": {
      "text/plain": [
       "3034512.6923076925"
      ]
     },
     "execution_count": 9,
     "metadata": {},
     "output_type": "execute_result"
    }
   ],
   "source": [
    "df['Total Customer'].mean()"
   ]
  },
  {
   "cell_type": "markdown",
   "metadata": {},
   "source": [
    "* Standard Deviation"
   ]
  },
  {
   "cell_type": "code",
   "execution_count": 10,
   "metadata": {
    "collapsed": false
   },
   "outputs": [
    {
     "data": {
      "text/plain": [
       "2481656.372605213"
      ]
     },
     "execution_count": 10,
     "metadata": {},
     "output_type": "execute_result"
    }
   ],
   "source": [
    "df['Total Customer'].std()"
   ]
  },
  {
   "cell_type": "markdown",
   "metadata": {},
   "source": [
    "* Maxmum/Minimum"
   ]
  },
  {
   "cell_type": "code",
   "execution_count": 11,
   "metadata": {
    "collapsed": false,
    "scrolled": true
   },
   "outputs": [
    {
     "data": {
      "text/plain": [
       "16546.0"
      ]
     },
     "execution_count": 11,
     "metadata": {},
     "output_type": "execute_result"
    }
   ],
   "source": [
    "df['Total Customer'].max()\n",
    "df['Total Customer'].min()"
   ]
  },
  {
   "cell_type": "markdown",
   "metadata": {},
   "source": [
    "* Value counts"
   ]
  },
  {
   "cell_type": "code",
   "execution_count": 12,
   "metadata": {
    "collapsed": false
   },
   "outputs": [
    {
     "data": {
      "text/plain": [
       "I      4\n",
       "R      4\n",
       "O      3\n",
       "NaN    2\n",
       "Q      1\n",
       "Name: Status, dtype: int64"
      ]
     },
     "execution_count": 12,
     "metadata": {},
     "output_type": "execute_result"
    }
   ],
   "source": [
    "df['Status'].value_counts(dropna=False)"
   ]
  },
  {
   "cell_type": "markdown",
   "metadata": {},
   "source": [
    "# Deal with Nan"
   ]
  },
  {
   "cell_type": "markdown",
   "metadata": {},
   "source": [
    "* Count how many Nan values for each columns"
   ]
  },
  {
   "cell_type": "code",
   "execution_count": 13,
   "metadata": {
    "collapsed": false
   },
   "outputs": [
    {
     "data": {
      "text/plain": [
       "ID                0\n",
       "Date              0\n",
       "Country           0\n",
       "Star              0\n",
       "Total Customer    1\n",
       "Status            2\n",
       "Target            0\n",
       "dtype: int64"
      ]
     },
     "execution_count": 13,
     "metadata": {},
     "output_type": "execute_result"
    }
   ],
   "source": [
    "df.isnull().sum()\n",
    "# df.notnull().sum()"
   ]
  },
  {
   "cell_type": "markdown",
   "metadata": {},
   "source": [
    "* Keep Nan rows for specific column "
   ]
  },
  {
   "cell_type": "code",
   "execution_count": 14,
   "metadata": {
    "collapsed": false
   },
   "outputs": [
    {
     "data": {
      "text/html": [
       "<div>\n",
       "<style>\n",
       "    .dataframe thead tr:only-child th {\n",
       "        text-align: right;\n",
       "    }\n",
       "\n",
       "    .dataframe thead th {\n",
       "        text-align: left;\n",
       "    }\n",
       "\n",
       "    .dataframe tbody tr th {\n",
       "        vertical-align: top;\n",
       "    }\n",
       "</style>\n",
       "<table border=\"1\" class=\"dataframe\">\n",
       "  <thead>\n",
       "    <tr style=\"text-align: right;\">\n",
       "      <th></th>\n",
       "      <th>ID</th>\n",
       "      <th>Date</th>\n",
       "      <th>Country</th>\n",
       "      <th>Star</th>\n",
       "      <th>Total Customer</th>\n",
       "      <th>Status</th>\n",
       "      <th>Target</th>\n",
       "    </tr>\n",
       "  </thead>\n",
       "  <tbody>\n",
       "    <tr>\n",
       "      <th>3</th>\n",
       "      <td>4</td>\n",
       "      <td>6/9/2017 0:00</td>\n",
       "      <td>Taiwan</td>\n",
       "      <td>4</td>\n",
       "      <td>5165465.0</td>\n",
       "      <td>NaN</td>\n",
       "      <td>N</td>\n",
       "    </tr>\n",
       "    <tr>\n",
       "      <th>4</th>\n",
       "      <td>5</td>\n",
       "      <td>6/9/2017 0:00</td>\n",
       "      <td>Japan</td>\n",
       "      <td>6</td>\n",
       "      <td>NaN</td>\n",
       "      <td>NaN</td>\n",
       "      <td>Y</td>\n",
       "    </tr>\n",
       "  </tbody>\n",
       "</table>\n",
       "</div>"
      ],
      "text/plain": [
       "   ID           Date Country  Star  Total Customer Status Target\n",
       "3   4  6/9/2017 0:00  Taiwan     4       5165465.0    NaN      N\n",
       "4   5  6/9/2017 0:00   Japan     6             NaN    NaN      Y"
      ]
     },
     "execution_count": 14,
     "metadata": {},
     "output_type": "execute_result"
    }
   ],
   "source": [
    "df[df.Status.isnull()]"
   ]
  },
  {
   "cell_type": "markdown",
   "metadata": {},
   "source": [
    "* Drop Columns or Rows with Nan\n",
    "* Drop according to column : axis = 1; drop according to rows: axis = 0 \n",
    "* Criteria : how='any' or 'all"
   ]
  },
  {
   "cell_type": "code",
   "execution_count": 15,
   "metadata": {
    "collapsed": false
   },
   "outputs": [
    {
     "data": {
      "text/html": [
       "<div>\n",
       "<style>\n",
       "    .dataframe thead tr:only-child th {\n",
       "        text-align: right;\n",
       "    }\n",
       "\n",
       "    .dataframe thead th {\n",
       "        text-align: left;\n",
       "    }\n",
       "\n",
       "    .dataframe tbody tr th {\n",
       "        vertical-align: top;\n",
       "    }\n",
       "</style>\n",
       "<table border=\"1\" class=\"dataframe\">\n",
       "  <thead>\n",
       "    <tr style=\"text-align: right;\">\n",
       "      <th></th>\n",
       "      <th>ID</th>\n",
       "      <th>Date</th>\n",
       "      <th>Country</th>\n",
       "      <th>Star</th>\n",
       "      <th>Total Customer</th>\n",
       "      <th>Status</th>\n",
       "      <th>Target</th>\n",
       "    </tr>\n",
       "  </thead>\n",
       "  <tbody>\n",
       "    <tr>\n",
       "      <th>0</th>\n",
       "      <td>1</td>\n",
       "      <td>6/9/2017 0:00</td>\n",
       "      <td>USA</td>\n",
       "      <td>6</td>\n",
       "      <td>5244337.0</td>\n",
       "      <td>O</td>\n",
       "      <td>Y</td>\n",
       "    </tr>\n",
       "    <tr>\n",
       "      <th>1</th>\n",
       "      <td>2</td>\n",
       "      <td>6/9/2017 0:00</td>\n",
       "      <td>Canada</td>\n",
       "      <td>5</td>\n",
       "      <td>3531127.0</td>\n",
       "      <td>R</td>\n",
       "      <td>Y</td>\n",
       "    </tr>\n",
       "    <tr>\n",
       "      <th>2</th>\n",
       "      <td>3</td>\n",
       "      <td>6/9/2017 0:00</td>\n",
       "      <td>French</td>\n",
       "      <td>5</td>\n",
       "      <td>253535.0</td>\n",
       "      <td>I</td>\n",
       "      <td>N</td>\n",
       "    </tr>\n",
       "    <tr>\n",
       "      <th>5</th>\n",
       "      <td>6</td>\n",
       "      <td>6/9/2017 0:00</td>\n",
       "      <td>Korea</td>\n",
       "      <td>4</td>\n",
       "      <td>16546.0</td>\n",
       "      <td>R</td>\n",
       "      <td>N</td>\n",
       "    </tr>\n",
       "    <tr>\n",
       "      <th>6</th>\n",
       "      <td>7</td>\n",
       "      <td>6/9/2017 0:00</td>\n",
       "      <td>England</td>\n",
       "      <td>7</td>\n",
       "      <td>4461441.0</td>\n",
       "      <td>I</td>\n",
       "      <td>Y</td>\n",
       "    </tr>\n",
       "    <tr>\n",
       "      <th>7</th>\n",
       "      <td>1</td>\n",
       "      <td>6/10/2017 0:00</td>\n",
       "      <td>USA</td>\n",
       "      <td>4</td>\n",
       "      <td>5852132.0</td>\n",
       "      <td>O</td>\n",
       "      <td>Y</td>\n",
       "    </tr>\n",
       "    <tr>\n",
       "      <th>8</th>\n",
       "      <td>2</td>\n",
       "      <td>6/10/2017 0:00</td>\n",
       "      <td>Canada</td>\n",
       "      <td>6</td>\n",
       "      <td>3836524.0</td>\n",
       "      <td>R</td>\n",
       "      <td>Y</td>\n",
       "    </tr>\n",
       "    <tr>\n",
       "      <th>9</th>\n",
       "      <td>3</td>\n",
       "      <td>6/10/2017 0:00</td>\n",
       "      <td>French</td>\n",
       "      <td>4</td>\n",
       "      <td>253952.0</td>\n",
       "      <td>I</td>\n",
       "      <td>N</td>\n",
       "    </tr>\n",
       "    <tr>\n",
       "      <th>10</th>\n",
       "      <td>4</td>\n",
       "      <td>6/10/2017 0:00</td>\n",
       "      <td>Taiwan</td>\n",
       "      <td>7</td>\n",
       "      <td>5865521.0</td>\n",
       "      <td>I</td>\n",
       "      <td>Y</td>\n",
       "    </tr>\n",
       "    <tr>\n",
       "      <th>11</th>\n",
       "      <td>5</td>\n",
       "      <td>6/10/2017 0:00</td>\n",
       "      <td>Japan</td>\n",
       "      <td>6</td>\n",
       "      <td>19752.0</td>\n",
       "      <td>Q</td>\n",
       "      <td>N</td>\n",
       "    </tr>\n",
       "    <tr>\n",
       "      <th>12</th>\n",
       "      <td>6</td>\n",
       "      <td>6/10/2017 0:00</td>\n",
       "      <td>Korea</td>\n",
       "      <td>5</td>\n",
       "      <td>96211.0</td>\n",
       "      <td>O</td>\n",
       "      <td>N</td>\n",
       "    </tr>\n",
       "    <tr>\n",
       "      <th>13</th>\n",
       "      <td>7</td>\n",
       "      <td>6/10/2017 0:00</td>\n",
       "      <td>England</td>\n",
       "      <td>5</td>\n",
       "      <td>4852122.0</td>\n",
       "      <td>R</td>\n",
       "      <td>Y</td>\n",
       "    </tr>\n",
       "  </tbody>\n",
       "</table>\n",
       "</div>"
      ],
      "text/plain": [
       "    ID            Date  Country  Star  Total Customer Status Target\n",
       "0    1   6/9/2017 0:00      USA     6       5244337.0      O      Y\n",
       "1    2   6/9/2017 0:00   Canada     5       3531127.0      R      Y\n",
       "2    3   6/9/2017 0:00   French     5        253535.0      I      N\n",
       "5    6   6/9/2017 0:00    Korea     4         16546.0      R      N\n",
       "6    7   6/9/2017 0:00  England     7       4461441.0      I      Y\n",
       "7    1  6/10/2017 0:00      USA     4       5852132.0      O      Y\n",
       "8    2  6/10/2017 0:00   Canada     6       3836524.0      R      Y\n",
       "9    3  6/10/2017 0:00   French     4        253952.0      I      N\n",
       "10   4  6/10/2017 0:00   Taiwan     7       5865521.0      I      Y\n",
       "11   5  6/10/2017 0:00    Japan     6         19752.0      Q      N\n",
       "12   6  6/10/2017 0:00    Korea     5         96211.0      O      N\n",
       "13   7  6/10/2017 0:00  England     5       4852122.0      R      Y"
      ]
     },
     "execution_count": 15,
     "metadata": {},
     "output_type": "execute_result"
    }
   ],
   "source": [
    "df.dropna(axis=0)"
   ]
  },
  {
   "cell_type": "code",
   "execution_count": 16,
   "metadata": {
    "collapsed": false
   },
   "outputs": [
    {
     "data": {
      "text/html": [
       "<div>\n",
       "<style>\n",
       "    .dataframe thead tr:only-child th {\n",
       "        text-align: right;\n",
       "    }\n",
       "\n",
       "    .dataframe thead th {\n",
       "        text-align: left;\n",
       "    }\n",
       "\n",
       "    .dataframe tbody tr th {\n",
       "        vertical-align: top;\n",
       "    }\n",
       "</style>\n",
       "<table border=\"1\" class=\"dataframe\">\n",
       "  <thead>\n",
       "    <tr style=\"text-align: right;\">\n",
       "      <th></th>\n",
       "      <th>ID</th>\n",
       "      <th>Date</th>\n",
       "      <th>Country</th>\n",
       "      <th>Star</th>\n",
       "      <th>Total Customer</th>\n",
       "      <th>Status</th>\n",
       "      <th>Target</th>\n",
       "    </tr>\n",
       "  </thead>\n",
       "  <tbody>\n",
       "    <tr>\n",
       "      <th>0</th>\n",
       "      <td>1</td>\n",
       "      <td>6/9/2017 0:00</td>\n",
       "      <td>USA</td>\n",
       "      <td>6</td>\n",
       "      <td>5244337.0</td>\n",
       "      <td>O</td>\n",
       "      <td>Y</td>\n",
       "    </tr>\n",
       "    <tr>\n",
       "      <th>1</th>\n",
       "      <td>2</td>\n",
       "      <td>6/9/2017 0:00</td>\n",
       "      <td>Canada</td>\n",
       "      <td>5</td>\n",
       "      <td>3531127.0</td>\n",
       "      <td>R</td>\n",
       "      <td>Y</td>\n",
       "    </tr>\n",
       "    <tr>\n",
       "      <th>2</th>\n",
       "      <td>3</td>\n",
       "      <td>6/9/2017 0:00</td>\n",
       "      <td>French</td>\n",
       "      <td>5</td>\n",
       "      <td>253535.0</td>\n",
       "      <td>I</td>\n",
       "      <td>N</td>\n",
       "    </tr>\n",
       "    <tr>\n",
       "      <th>3</th>\n",
       "      <td>4</td>\n",
       "      <td>6/9/2017 0:00</td>\n",
       "      <td>Taiwan</td>\n",
       "      <td>4</td>\n",
       "      <td>5165465.0</td>\n",
       "      <td>NaN</td>\n",
       "      <td>N</td>\n",
       "    </tr>\n",
       "    <tr>\n",
       "      <th>5</th>\n",
       "      <td>6</td>\n",
       "      <td>6/9/2017 0:00</td>\n",
       "      <td>Korea</td>\n",
       "      <td>4</td>\n",
       "      <td>16546.0</td>\n",
       "      <td>R</td>\n",
       "      <td>N</td>\n",
       "    </tr>\n",
       "    <tr>\n",
       "      <th>6</th>\n",
       "      <td>7</td>\n",
       "      <td>6/9/2017 0:00</td>\n",
       "      <td>England</td>\n",
       "      <td>7</td>\n",
       "      <td>4461441.0</td>\n",
       "      <td>I</td>\n",
       "      <td>Y</td>\n",
       "    </tr>\n",
       "    <tr>\n",
       "      <th>7</th>\n",
       "      <td>1</td>\n",
       "      <td>6/10/2017 0:00</td>\n",
       "      <td>USA</td>\n",
       "      <td>4</td>\n",
       "      <td>5852132.0</td>\n",
       "      <td>O</td>\n",
       "      <td>Y</td>\n",
       "    </tr>\n",
       "    <tr>\n",
       "      <th>8</th>\n",
       "      <td>2</td>\n",
       "      <td>6/10/2017 0:00</td>\n",
       "      <td>Canada</td>\n",
       "      <td>6</td>\n",
       "      <td>3836524.0</td>\n",
       "      <td>R</td>\n",
       "      <td>Y</td>\n",
       "    </tr>\n",
       "    <tr>\n",
       "      <th>9</th>\n",
       "      <td>3</td>\n",
       "      <td>6/10/2017 0:00</td>\n",
       "      <td>French</td>\n",
       "      <td>4</td>\n",
       "      <td>253952.0</td>\n",
       "      <td>I</td>\n",
       "      <td>N</td>\n",
       "    </tr>\n",
       "    <tr>\n",
       "      <th>10</th>\n",
       "      <td>4</td>\n",
       "      <td>6/10/2017 0:00</td>\n",
       "      <td>Taiwan</td>\n",
       "      <td>7</td>\n",
       "      <td>5865521.0</td>\n",
       "      <td>I</td>\n",
       "      <td>Y</td>\n",
       "    </tr>\n",
       "    <tr>\n",
       "      <th>11</th>\n",
       "      <td>5</td>\n",
       "      <td>6/10/2017 0:00</td>\n",
       "      <td>Japan</td>\n",
       "      <td>6</td>\n",
       "      <td>19752.0</td>\n",
       "      <td>Q</td>\n",
       "      <td>N</td>\n",
       "    </tr>\n",
       "    <tr>\n",
       "      <th>12</th>\n",
       "      <td>6</td>\n",
       "      <td>6/10/2017 0:00</td>\n",
       "      <td>Korea</td>\n",
       "      <td>5</td>\n",
       "      <td>96211.0</td>\n",
       "      <td>O</td>\n",
       "      <td>N</td>\n",
       "    </tr>\n",
       "    <tr>\n",
       "      <th>13</th>\n",
       "      <td>7</td>\n",
       "      <td>6/10/2017 0:00</td>\n",
       "      <td>England</td>\n",
       "      <td>5</td>\n",
       "      <td>4852122.0</td>\n",
       "      <td>R</td>\n",
       "      <td>Y</td>\n",
       "    </tr>\n",
       "  </tbody>\n",
       "</table>\n",
       "</div>"
      ],
      "text/plain": [
       "    ID            Date  Country  Star  Total Customer Status Target\n",
       "0    1   6/9/2017 0:00      USA     6       5244337.0      O      Y\n",
       "1    2   6/9/2017 0:00   Canada     5       3531127.0      R      Y\n",
       "2    3   6/9/2017 0:00   French     5        253535.0      I      N\n",
       "3    4   6/9/2017 0:00   Taiwan     4       5165465.0    NaN      N\n",
       "5    6   6/9/2017 0:00    Korea     4         16546.0      R      N\n",
       "6    7   6/9/2017 0:00  England     7       4461441.0      I      Y\n",
       "7    1  6/10/2017 0:00      USA     4       5852132.0      O      Y\n",
       "8    2  6/10/2017 0:00   Canada     6       3836524.0      R      Y\n",
       "9    3  6/10/2017 0:00   French     4        253952.0      I      N\n",
       "10   4  6/10/2017 0:00   Taiwan     7       5865521.0      I      Y\n",
       "11   5  6/10/2017 0:00    Japan     6         19752.0      Q      N\n",
       "12   6  6/10/2017 0:00    Korea     5         96211.0      O      N\n",
       "13   7  6/10/2017 0:00  England     5       4852122.0      R      Y"
      ]
     },
     "execution_count": 16,
     "metadata": {},
     "output_type": "execute_result"
    }
   ],
   "source": [
    "df.dropna(subset=['Total Customer', 'Status'], how='all') "
   ]
  },
  {
   "cell_type": "markdown",
   "metadata": {},
   "source": [
    "* Other format Nan"
   ]
  },
  {
   "cell_type": "code",
   "execution_count": 17,
   "metadata": {
    "collapsed": false
   },
   "outputs": [
    {
     "data": {
      "text/html": [
       "<div>\n",
       "<style>\n",
       "    .dataframe thead tr:only-child th {\n",
       "        text-align: right;\n",
       "    }\n",
       "\n",
       "    .dataframe thead th {\n",
       "        text-align: left;\n",
       "    }\n",
       "\n",
       "    .dataframe tbody tr th {\n",
       "        vertical-align: top;\n",
       "    }\n",
       "</style>\n",
       "<table border=\"1\" class=\"dataframe\">\n",
       "  <thead>\n",
       "    <tr style=\"text-align: right;\">\n",
       "      <th></th>\n",
       "      <th>ID</th>\n",
       "      <th>Date</th>\n",
       "      <th>Country</th>\n",
       "      <th>Star</th>\n",
       "      <th>Total Customer</th>\n",
       "      <th>Status</th>\n",
       "      <th>Target</th>\n",
       "    </tr>\n",
       "  </thead>\n",
       "  <tbody>\n",
       "    <tr>\n",
       "      <th>0</th>\n",
       "      <td>1</td>\n",
       "      <td>6/9/2017 0:00</td>\n",
       "      <td>USA</td>\n",
       "      <td>6</td>\n",
       "      <td>5244337.0</td>\n",
       "      <td>O</td>\n",
       "      <td>Y</td>\n",
       "    </tr>\n",
       "    <tr>\n",
       "      <th>1</th>\n",
       "      <td>2</td>\n",
       "      <td>6/9/2017 0:00</td>\n",
       "      <td>Canada</td>\n",
       "      <td>5</td>\n",
       "      <td>3531127.0</td>\n",
       "      <td>R</td>\n",
       "      <td>Y</td>\n",
       "    </tr>\n",
       "    <tr>\n",
       "      <th>2</th>\n",
       "      <td>3</td>\n",
       "      <td>6/9/2017 0:00</td>\n",
       "      <td>French</td>\n",
       "      <td>5</td>\n",
       "      <td>253535.0</td>\n",
       "      <td>I</td>\n",
       "      <td>N</td>\n",
       "    </tr>\n",
       "    <tr>\n",
       "      <th>3</th>\n",
       "      <td>4</td>\n",
       "      <td>6/9/2017 0:00</td>\n",
       "      <td>Taiwan</td>\n",
       "      <td>4</td>\n",
       "      <td>5165465.0</td>\n",
       "      <td>Missing</td>\n",
       "      <td>N</td>\n",
       "    </tr>\n",
       "    <tr>\n",
       "      <th>4</th>\n",
       "      <td>5</td>\n",
       "      <td>6/9/2017 0:00</td>\n",
       "      <td>Japan</td>\n",
       "      <td>6</td>\n",
       "      <td>NaN</td>\n",
       "      <td>Missing</td>\n",
       "      <td>Y</td>\n",
       "    </tr>\n",
       "  </tbody>\n",
       "</table>\n",
       "</div>"
      ],
      "text/plain": [
       "   ID           Date Country  Star  Total Customer   Status Target\n",
       "0   1  6/9/2017 0:00     USA     6       5244337.0        O      Y\n",
       "1   2  6/9/2017 0:00  Canada     5       3531127.0        R      Y\n",
       "2   3  6/9/2017 0:00  French     5        253535.0        I      N\n",
       "3   4  6/9/2017 0:00  Taiwan     4       5165465.0  Missing      N\n",
       "4   5  6/9/2017 0:00   Japan     6             NaN  Missing      Y"
      ]
     },
     "execution_count": 17,
     "metadata": {},
     "output_type": "execute_result"
    }
   ],
   "source": [
    "df['Status'].fillna(value='Missing', inplace=True)\n",
    "df.head()"
   ]
  },
  {
   "cell_type": "markdown",
   "metadata": {},
   "source": [
    "* Summary describe (after clean Nan)"
   ]
  },
  {
   "cell_type": "code",
   "execution_count": 18,
   "metadata": {
    "collapsed": false
   },
   "outputs": [
    {
     "data": {
      "text/html": [
       "<div>\n",
       "<style>\n",
       "    .dataframe thead tr:only-child th {\n",
       "        text-align: right;\n",
       "    }\n",
       "\n",
       "    .dataframe thead th {\n",
       "        text-align: left;\n",
       "    }\n",
       "\n",
       "    .dataframe tbody tr th {\n",
       "        vertical-align: top;\n",
       "    }\n",
       "</style>\n",
       "<table border=\"1\" class=\"dataframe\">\n",
       "  <thead>\n",
       "    <tr style=\"text-align: right;\">\n",
       "      <th></th>\n",
       "      <th>ID</th>\n",
       "      <th>Star</th>\n",
       "      <th>Total Customer</th>\n",
       "    </tr>\n",
       "  </thead>\n",
       "  <tbody>\n",
       "    <tr>\n",
       "      <th>count</th>\n",
       "      <td>13.000000</td>\n",
       "      <td>13.000000</td>\n",
       "      <td>1.300000e+01</td>\n",
       "    </tr>\n",
       "    <tr>\n",
       "      <th>mean</th>\n",
       "      <td>3.923077</td>\n",
       "      <td>5.230769</td>\n",
       "      <td>3.034513e+06</td>\n",
       "    </tr>\n",
       "    <tr>\n",
       "      <th>std</th>\n",
       "      <td>2.139374</td>\n",
       "      <td>1.091928</td>\n",
       "      <td>2.481656e+06</td>\n",
       "    </tr>\n",
       "    <tr>\n",
       "      <th>min</th>\n",
       "      <td>1.000000</td>\n",
       "      <td>4.000000</td>\n",
       "      <td>1.654600e+04</td>\n",
       "    </tr>\n",
       "    <tr>\n",
       "      <th>25%</th>\n",
       "      <td>2.000000</td>\n",
       "      <td>4.000000</td>\n",
       "      <td>2.535350e+05</td>\n",
       "    </tr>\n",
       "    <tr>\n",
       "      <th>50%</th>\n",
       "      <td>4.000000</td>\n",
       "      <td>5.000000</td>\n",
       "      <td>3.836524e+06</td>\n",
       "    </tr>\n",
       "    <tr>\n",
       "      <th>75%</th>\n",
       "      <td>6.000000</td>\n",
       "      <td>6.000000</td>\n",
       "      <td>5.165465e+06</td>\n",
       "    </tr>\n",
       "    <tr>\n",
       "      <th>max</th>\n",
       "      <td>7.000000</td>\n",
       "      <td>7.000000</td>\n",
       "      <td>5.865521e+06</td>\n",
       "    </tr>\n",
       "  </tbody>\n",
       "</table>\n",
       "</div>"
      ],
      "text/plain": [
       "              ID       Star  Total Customer\n",
       "count  13.000000  13.000000    1.300000e+01\n",
       "mean    3.923077   5.230769    3.034513e+06\n",
       "std     2.139374   1.091928    2.481656e+06\n",
       "min     1.000000   4.000000    1.654600e+04\n",
       "25%     2.000000   4.000000    2.535350e+05\n",
       "50%     4.000000   5.000000    3.836524e+06\n",
       "75%     6.000000   6.000000    5.165465e+06\n",
       "max     7.000000   7.000000    5.865521e+06"
      ]
     },
     "execution_count": 18,
     "metadata": {},
     "output_type": "execute_result"
    }
   ],
   "source": [
    "df.dropna().describe()"
   ]
  },
  {
   "cell_type": "markdown",
   "metadata": {},
   "source": [
    "# Replace"
   ]
  },
  {
   "cell_type": "code",
   "execution_count": 19,
   "metadata": {
    "collapsed": false
   },
   "outputs": [
    {
     "data": {
      "text/html": [
       "<div>\n",
       "<style>\n",
       "    .dataframe thead tr:only-child th {\n",
       "        text-align: right;\n",
       "    }\n",
       "\n",
       "    .dataframe thead th {\n",
       "        text-align: left;\n",
       "    }\n",
       "\n",
       "    .dataframe tbody tr th {\n",
       "        vertical-align: top;\n",
       "    }\n",
       "</style>\n",
       "<table border=\"1\" class=\"dataframe\">\n",
       "  <thead>\n",
       "    <tr style=\"text-align: right;\">\n",
       "      <th></th>\n",
       "      <th>ID</th>\n",
       "      <th>Date</th>\n",
       "      <th>Country</th>\n",
       "      <th>Star</th>\n",
       "      <th>Total Customer</th>\n",
       "      <th>Status</th>\n",
       "      <th>Target</th>\n",
       "    </tr>\n",
       "  </thead>\n",
       "  <tbody>\n",
       "    <tr>\n",
       "      <th>0</th>\n",
       "      <td>1</td>\n",
       "      <td>6/9/2017 0:00</td>\n",
       "      <td>USA</td>\n",
       "      <td>6</td>\n",
       "      <td>5244337.0</td>\n",
       "      <td>O</td>\n",
       "      <td>Y</td>\n",
       "    </tr>\n",
       "    <tr>\n",
       "      <th>1</th>\n",
       "      <td>2</td>\n",
       "      <td>6/9/2017 0:00</td>\n",
       "      <td>CA</td>\n",
       "      <td>5</td>\n",
       "      <td>3531127.0</td>\n",
       "      <td>R</td>\n",
       "      <td>Y</td>\n",
       "    </tr>\n",
       "    <tr>\n",
       "      <th>2</th>\n",
       "      <td>3</td>\n",
       "      <td>6/9/2017 0:00</td>\n",
       "      <td>FH</td>\n",
       "      <td>5</td>\n",
       "      <td>253535.0</td>\n",
       "      <td>I</td>\n",
       "      <td>N</td>\n",
       "    </tr>\n",
       "    <tr>\n",
       "      <th>3</th>\n",
       "      <td>4</td>\n",
       "      <td>6/9/2017 0:00</td>\n",
       "      <td>TW</td>\n",
       "      <td>4</td>\n",
       "      <td>5165465.0</td>\n",
       "      <td>Missing</td>\n",
       "      <td>N</td>\n",
       "    </tr>\n",
       "    <tr>\n",
       "      <th>4</th>\n",
       "      <td>5</td>\n",
       "      <td>6/9/2017 0:00</td>\n",
       "      <td>JP</td>\n",
       "      <td>6</td>\n",
       "      <td>NaN</td>\n",
       "      <td>Missing</td>\n",
       "      <td>Y</td>\n",
       "    </tr>\n",
       "  </tbody>\n",
       "</table>\n",
       "</div>"
      ],
      "text/plain": [
       "   ID           Date Country  Star  Total Customer   Status Target\n",
       "0   1  6/9/2017 0:00     USA     6       5244337.0        O      Y\n",
       "1   2  6/9/2017 0:00      CA     5       3531127.0        R      Y\n",
       "2   3  6/9/2017 0:00      FH     5        253535.0        I      N\n",
       "3   4  6/9/2017 0:00      TW     4       5165465.0  Missing      N\n",
       "4   5  6/9/2017 0:00      JP     6             NaN  Missing      Y"
      ]
     },
     "execution_count": 19,
     "metadata": {},
     "output_type": "execute_result"
    }
   ],
   "source": [
    "df.loc[:, 'Country'].replace(['Canada','Korea','French','England','Japan','Taiwan'], \n",
    "                             ['CA','KA','FH','UK','JP','TW'], inplace=True)\n",
    "df.head()"
   ]
  },
  {
   "cell_type": "markdown",
   "metadata": {},
   "source": [
    "# Select"
   ]
  },
  {
   "cell_type": "code",
   "execution_count": 20,
   "metadata": {
    "collapsed": false
   },
   "outputs": [
    {
     "data": {
      "text/html": [
       "<div>\n",
       "<style>\n",
       "    .dataframe thead tr:only-child th {\n",
       "        text-align: right;\n",
       "    }\n",
       "\n",
       "    .dataframe thead th {\n",
       "        text-align: left;\n",
       "    }\n",
       "\n",
       "    .dataframe tbody tr th {\n",
       "        vertical-align: top;\n",
       "    }\n",
       "</style>\n",
       "<table border=\"1\" class=\"dataframe\">\n",
       "  <thead>\n",
       "    <tr style=\"text-align: right;\">\n",
       "      <th></th>\n",
       "      <th>Country</th>\n",
       "      <th>Star</th>\n",
       "    </tr>\n",
       "  </thead>\n",
       "  <tbody>\n",
       "    <tr>\n",
       "      <th>0</th>\n",
       "      <td>USA</td>\n",
       "      <td>6</td>\n",
       "    </tr>\n",
       "    <tr>\n",
       "      <th>1</th>\n",
       "      <td>CA</td>\n",
       "      <td>5</td>\n",
       "    </tr>\n",
       "    <tr>\n",
       "      <th>2</th>\n",
       "      <td>FH</td>\n",
       "      <td>5</td>\n",
       "    </tr>\n",
       "    <tr>\n",
       "      <th>3</th>\n",
       "      <td>TW</td>\n",
       "      <td>4</td>\n",
       "    </tr>\n",
       "    <tr>\n",
       "      <th>4</th>\n",
       "      <td>JP</td>\n",
       "      <td>6</td>\n",
       "    </tr>\n",
       "  </tbody>\n",
       "</table>\n",
       "</div>"
      ],
      "text/plain": [
       "  Country  Star\n",
       "0     USA     6\n",
       "1      CA     5\n",
       "2      FH     5\n",
       "3      TW     4\n",
       "4      JP     6"
      ]
     },
     "execution_count": 20,
     "metadata": {},
     "output_type": "execute_result"
    }
   ],
   "source": [
    "df[['Country','Star']].head()"
   ]
  },
  {
   "cell_type": "markdown",
   "metadata": {},
   "source": [
    "# Where\n",
    "```SQL\n",
    "SELECT    *\n",
    "FROM      df\n",
    "WHERE     Status='O'\n",
    "```"
   ]
  },
  {
   "cell_type": "code",
   "execution_count": 21,
   "metadata": {
    "collapsed": false
   },
   "outputs": [
    {
     "data": {
      "text/html": [
       "<div>\n",
       "<style>\n",
       "    .dataframe thead tr:only-child th {\n",
       "        text-align: right;\n",
       "    }\n",
       "\n",
       "    .dataframe thead th {\n",
       "        text-align: left;\n",
       "    }\n",
       "\n",
       "    .dataframe tbody tr th {\n",
       "        vertical-align: top;\n",
       "    }\n",
       "</style>\n",
       "<table border=\"1\" class=\"dataframe\">\n",
       "  <thead>\n",
       "    <tr style=\"text-align: right;\">\n",
       "      <th></th>\n",
       "      <th>ID</th>\n",
       "      <th>Date</th>\n",
       "      <th>Country</th>\n",
       "      <th>Star</th>\n",
       "      <th>Total Customer</th>\n",
       "      <th>Status</th>\n",
       "      <th>Target</th>\n",
       "    </tr>\n",
       "  </thead>\n",
       "  <tbody>\n",
       "    <tr>\n",
       "      <th>0</th>\n",
       "      <td>1</td>\n",
       "      <td>6/9/2017 0:00</td>\n",
       "      <td>USA</td>\n",
       "      <td>6</td>\n",
       "      <td>5244337.0</td>\n",
       "      <td>O</td>\n",
       "      <td>Y</td>\n",
       "    </tr>\n",
       "    <tr>\n",
       "      <th>7</th>\n",
       "      <td>1</td>\n",
       "      <td>6/10/2017 0:00</td>\n",
       "      <td>USA</td>\n",
       "      <td>4</td>\n",
       "      <td>5852132.0</td>\n",
       "      <td>O</td>\n",
       "      <td>Y</td>\n",
       "    </tr>\n",
       "    <tr>\n",
       "      <th>12</th>\n",
       "      <td>6</td>\n",
       "      <td>6/10/2017 0:00</td>\n",
       "      <td>KA</td>\n",
       "      <td>5</td>\n",
       "      <td>96211.0</td>\n",
       "      <td>O</td>\n",
       "      <td>N</td>\n",
       "    </tr>\n",
       "  </tbody>\n",
       "</table>\n",
       "</div>"
      ],
      "text/plain": [
       "    ID            Date Country  Star  Total Customer Status Target\n",
       "0    1   6/9/2017 0:00     USA     6       5244337.0      O      Y\n",
       "7    1  6/10/2017 0:00     USA     4       5852132.0      O      Y\n",
       "12   6  6/10/2017 0:00      KA     5         96211.0      O      N"
      ]
     },
     "execution_count": 21,
     "metadata": {},
     "output_type": "execute_result"
    }
   ],
   "source": [
    "df[df['Status']=='O']"
   ]
  },
  {
   "cell_type": "markdown",
   "metadata": {},
   "source": [
    "* AND : **&**; OR : **|**\n",
    "```SQL\n",
    "SELECT    *\n",
    "FROM      df\n",
    "WHERE     Status='O'\n",
    "AND       Star>=5\n",
    "```"
   ]
  },
  {
   "cell_type": "code",
   "execution_count": 22,
   "metadata": {
    "collapsed": false
   },
   "outputs": [
    {
     "data": {
      "text/html": [
       "<div>\n",
       "<style>\n",
       "    .dataframe thead tr:only-child th {\n",
       "        text-align: right;\n",
       "    }\n",
       "\n",
       "    .dataframe thead th {\n",
       "        text-align: left;\n",
       "    }\n",
       "\n",
       "    .dataframe tbody tr th {\n",
       "        vertical-align: top;\n",
       "    }\n",
       "</style>\n",
       "<table border=\"1\" class=\"dataframe\">\n",
       "  <thead>\n",
       "    <tr style=\"text-align: right;\">\n",
       "      <th></th>\n",
       "      <th>ID</th>\n",
       "      <th>Date</th>\n",
       "      <th>Country</th>\n",
       "      <th>Star</th>\n",
       "      <th>Total Customer</th>\n",
       "      <th>Status</th>\n",
       "      <th>Target</th>\n",
       "    </tr>\n",
       "  </thead>\n",
       "  <tbody>\n",
       "    <tr>\n",
       "      <th>0</th>\n",
       "      <td>1</td>\n",
       "      <td>6/9/2017 0:00</td>\n",
       "      <td>USA</td>\n",
       "      <td>6</td>\n",
       "      <td>5244337.0</td>\n",
       "      <td>O</td>\n",
       "      <td>Y</td>\n",
       "    </tr>\n",
       "    <tr>\n",
       "      <th>12</th>\n",
       "      <td>6</td>\n",
       "      <td>6/10/2017 0:00</td>\n",
       "      <td>KA</td>\n",
       "      <td>5</td>\n",
       "      <td>96211.0</td>\n",
       "      <td>O</td>\n",
       "      <td>N</td>\n",
       "    </tr>\n",
       "  </tbody>\n",
       "</table>\n",
       "</div>"
      ],
      "text/plain": [
       "    ID            Date Country  Star  Total Customer Status Target\n",
       "0    1   6/9/2017 0:00     USA     6       5244337.0      O      Y\n",
       "12   6  6/10/2017 0:00      KA     5         96211.0      O      N"
      ]
     },
     "execution_count": 22,
     "metadata": {},
     "output_type": "execute_result"
    }
   ],
   "source": [
    "df[(df['Status']=='O') & \n",
    "   (df['Star']>=5)]"
   ]
  },
  {
   "cell_type": "markdown",
   "metadata": {},
   "source": [
    "# Group by\n",
    "* df.**groupby**().**size**()\n",
    "\n",
    "```SQL\n",
    "SELECT    Status,\n",
    "          COUNT(1)\n",
    "FROM      df\n",
    "GROUP BY  Status\n",
    "```"
   ]
  },
  {
   "cell_type": "code",
   "execution_count": 23,
   "metadata": {
    "collapsed": false
   },
   "outputs": [
    {
     "data": {
      "text/plain": [
       "Status\n",
       "I          4\n",
       "Missing    2\n",
       "O          3\n",
       "Q          1\n",
       "R          4\n",
       "dtype: int64"
      ]
     },
     "execution_count": 23,
     "metadata": {},
     "output_type": "execute_result"
    }
   ],
   "source": [
    "df.groupby(['Status']).size()"
   ]
  },
  {
   "cell_type": "markdown",
   "metadata": {},
   "source": [
    "* df.**groupby**().**max**()\n",
    "* You can use : sum(), min(), max(), median(), count().size()\n",
    "\n",
    "```SQL\n",
    "SELECT    Country,\n",
    "          MAX(Start) AS Start,\n",
    "          MAX(Total Customer) AS [Total Customer]\n",
    "FROM      df\n",
    "GROUP BY  Country\n",
    "``` "
   ]
  },
  {
   "cell_type": "code",
   "execution_count": 24,
   "metadata": {
    "collapsed": false
   },
   "outputs": [
    {
     "data": {
      "text/html": [
       "<div>\n",
       "<style>\n",
       "    .dataframe thead tr:only-child th {\n",
       "        text-align: right;\n",
       "    }\n",
       "\n",
       "    .dataframe thead th {\n",
       "        text-align: left;\n",
       "    }\n",
       "\n",
       "    .dataframe tbody tr th {\n",
       "        vertical-align: top;\n",
       "    }\n",
       "</style>\n",
       "<table border=\"1\" class=\"dataframe\">\n",
       "  <thead>\n",
       "    <tr style=\"text-align: right;\">\n",
       "      <th></th>\n",
       "      <th>Star</th>\n",
       "      <th>Total Customer</th>\n",
       "    </tr>\n",
       "    <tr>\n",
       "      <th>Country</th>\n",
       "      <th></th>\n",
       "      <th></th>\n",
       "    </tr>\n",
       "  </thead>\n",
       "  <tbody>\n",
       "    <tr>\n",
       "      <th>CA</th>\n",
       "      <td>6</td>\n",
       "      <td>3836524.0</td>\n",
       "    </tr>\n",
       "    <tr>\n",
       "      <th>FH</th>\n",
       "      <td>5</td>\n",
       "      <td>253952.0</td>\n",
       "    </tr>\n",
       "    <tr>\n",
       "      <th>JP</th>\n",
       "      <td>6</td>\n",
       "      <td>19752.0</td>\n",
       "    </tr>\n",
       "    <tr>\n",
       "      <th>KA</th>\n",
       "      <td>5</td>\n",
       "      <td>96211.0</td>\n",
       "    </tr>\n",
       "    <tr>\n",
       "      <th>TW</th>\n",
       "      <td>7</td>\n",
       "      <td>5865521.0</td>\n",
       "    </tr>\n",
       "    <tr>\n",
       "      <th>UK</th>\n",
       "      <td>7</td>\n",
       "      <td>4852122.0</td>\n",
       "    </tr>\n",
       "    <tr>\n",
       "      <th>USA</th>\n",
       "      <td>6</td>\n",
       "      <td>5852132.0</td>\n",
       "    </tr>\n",
       "  </tbody>\n",
       "</table>\n",
       "</div>"
      ],
      "text/plain": [
       "         Star  Total Customer\n",
       "Country                      \n",
       "CA          6       3836524.0\n",
       "FH          5        253952.0\n",
       "JP          6         19752.0\n",
       "KA          5         96211.0\n",
       "TW          7       5865521.0\n",
       "UK          7       4852122.0\n",
       "USA         6       5852132.0"
      ]
     },
     "execution_count": 24,
     "metadata": {},
     "output_type": "execute_result"
    }
   ],
   "source": [
    "df.groupby(['Country']).max()[['Star','Total Customer']]"
   ]
  },
  {
   "cell_type": "markdown",
   "metadata": {},
   "source": [
    "* df.**groupby**().**agg**()\n",
    "* You can use : np.mean, np.size, np.std, np.\n",
    "\n",
    "```SQL\n",
    "SELECT    Country,\n",
    "          AVG(Star) AS mean,\n",
    "          Std(Star) AS std,\n",
    "          Med(Star) AS median\n",
    "FROM      df\n",
    "GROUP BY  Country\n",
    "``` "
   ]
  },
  {
   "cell_type": "code",
   "execution_count": 25,
   "metadata": {
    "collapsed": false
   },
   "outputs": [],
   "source": [
    "import numpy as np\n",
    "# df.groupby(['Country']).agg({'Star': [np.mean, np.std, np.median]}).head()\n",
    "# df.groupby(['Country']).agg([np.mean,np.std,np.median]).head()"
   ]
  },
  {
   "cell_type": "markdown",
   "metadata": {},
   "source": [
    "# Sort by"
   ]
  },
  {
   "cell_type": "markdown",
   "metadata": {},
   "source": [
    "* df.groupby().max().**sort_values**()\n",
    "* Default sort is ascending\n",
    "\n",
    "```SQL\n",
    "SELECT    Country,\n",
    "          MAX(Start) AS Start,\n",
    "          MAX(Total Customer) AS [Total Customer]\n",
    "FROM      df\n",
    "GROUP BY  Country\n",
    "ORDER BY  MAX(Total Customer) DESC\n",
    "``` "
   ]
  },
  {
   "cell_type": "code",
   "execution_count": 26,
   "metadata": {
    "collapsed": false
   },
   "outputs": [
    {
     "data": {
      "text/html": [
       "<div>\n",
       "<style>\n",
       "    .dataframe thead tr:only-child th {\n",
       "        text-align: right;\n",
       "    }\n",
       "\n",
       "    .dataframe thead th {\n",
       "        text-align: left;\n",
       "    }\n",
       "\n",
       "    .dataframe tbody tr th {\n",
       "        vertical-align: top;\n",
       "    }\n",
       "</style>\n",
       "<table border=\"1\" class=\"dataframe\">\n",
       "  <thead>\n",
       "    <tr style=\"text-align: right;\">\n",
       "      <th></th>\n",
       "      <th>Star</th>\n",
       "      <th>Total Customer</th>\n",
       "    </tr>\n",
       "    <tr>\n",
       "      <th>Country</th>\n",
       "      <th></th>\n",
       "      <th></th>\n",
       "    </tr>\n",
       "  </thead>\n",
       "  <tbody>\n",
       "    <tr>\n",
       "      <th>TW</th>\n",
       "      <td>7</td>\n",
       "      <td>5865521.0</td>\n",
       "    </tr>\n",
       "    <tr>\n",
       "      <th>USA</th>\n",
       "      <td>6</td>\n",
       "      <td>5852132.0</td>\n",
       "    </tr>\n",
       "    <tr>\n",
       "      <th>UK</th>\n",
       "      <td>7</td>\n",
       "      <td>4852122.0</td>\n",
       "    </tr>\n",
       "    <tr>\n",
       "      <th>CA</th>\n",
       "      <td>6</td>\n",
       "      <td>3836524.0</td>\n",
       "    </tr>\n",
       "    <tr>\n",
       "      <th>FH</th>\n",
       "      <td>5</td>\n",
       "      <td>253952.0</td>\n",
       "    </tr>\n",
       "    <tr>\n",
       "      <th>KA</th>\n",
       "      <td>5</td>\n",
       "      <td>96211.0</td>\n",
       "    </tr>\n",
       "    <tr>\n",
       "      <th>JP</th>\n",
       "      <td>6</td>\n",
       "      <td>19752.0</td>\n",
       "    </tr>\n",
       "  </tbody>\n",
       "</table>\n",
       "</div>"
      ],
      "text/plain": [
       "         Star  Total Customer\n",
       "Country                      \n",
       "TW          7       5865521.0\n",
       "USA         6       5852132.0\n",
       "UK          7       4852122.0\n",
       "CA          6       3836524.0\n",
       "FH          5        253952.0\n",
       "KA          5         96211.0\n",
       "JP          6         19752.0"
      ]
     },
     "execution_count": 26,
     "metadata": {},
     "output_type": "execute_result"
    }
   ],
   "source": [
    "df.groupby(['Country']).max()[['Star','Total Customer']].sort_values(['Total Customer'], ascending=False)"
   ]
  },
  {
   "cell_type": "markdown",
   "metadata": {},
   "source": [
    "```SQL\n",
    "SELECT    *\n",
    "FROM      df\n",
    "GROUP BY  Country\n",
    "ORDER BY  Star\n",
    "``` "
   ]
  },
  {
   "cell_type": "code",
   "execution_count": 27,
   "metadata": {
    "collapsed": false
   },
   "outputs": [
    {
     "data": {
      "text/html": [
       "<div>\n",
       "<style>\n",
       "    .dataframe thead tr:only-child th {\n",
       "        text-align: right;\n",
       "    }\n",
       "\n",
       "    .dataframe thead th {\n",
       "        text-align: left;\n",
       "    }\n",
       "\n",
       "    .dataframe tbody tr th {\n",
       "        vertical-align: top;\n",
       "    }\n",
       "</style>\n",
       "<table border=\"1\" class=\"dataframe\">\n",
       "  <thead>\n",
       "    <tr style=\"text-align: right;\">\n",
       "      <th></th>\n",
       "      <th>ID</th>\n",
       "      <th>Date</th>\n",
       "      <th>Country</th>\n",
       "      <th>Star</th>\n",
       "      <th>Total Customer</th>\n",
       "      <th>Status</th>\n",
       "      <th>Target</th>\n",
       "    </tr>\n",
       "  </thead>\n",
       "  <tbody>\n",
       "    <tr>\n",
       "      <th>3</th>\n",
       "      <td>4</td>\n",
       "      <td>6/9/2017 0:00</td>\n",
       "      <td>TW</td>\n",
       "      <td>4</td>\n",
       "      <td>5165465.0</td>\n",
       "      <td>Missing</td>\n",
       "      <td>N</td>\n",
       "    </tr>\n",
       "    <tr>\n",
       "      <th>5</th>\n",
       "      <td>6</td>\n",
       "      <td>6/9/2017 0:00</td>\n",
       "      <td>KA</td>\n",
       "      <td>4</td>\n",
       "      <td>16546.0</td>\n",
       "      <td>R</td>\n",
       "      <td>N</td>\n",
       "    </tr>\n",
       "    <tr>\n",
       "      <th>7</th>\n",
       "      <td>1</td>\n",
       "      <td>6/10/2017 0:00</td>\n",
       "      <td>USA</td>\n",
       "      <td>4</td>\n",
       "      <td>5852132.0</td>\n",
       "      <td>O</td>\n",
       "      <td>Y</td>\n",
       "    </tr>\n",
       "    <tr>\n",
       "      <th>9</th>\n",
       "      <td>3</td>\n",
       "      <td>6/10/2017 0:00</td>\n",
       "      <td>FH</td>\n",
       "      <td>4</td>\n",
       "      <td>253952.0</td>\n",
       "      <td>I</td>\n",
       "      <td>N</td>\n",
       "    </tr>\n",
       "    <tr>\n",
       "      <th>1</th>\n",
       "      <td>2</td>\n",
       "      <td>6/9/2017 0:00</td>\n",
       "      <td>CA</td>\n",
       "      <td>5</td>\n",
       "      <td>3531127.0</td>\n",
       "      <td>R</td>\n",
       "      <td>Y</td>\n",
       "    </tr>\n",
       "    <tr>\n",
       "      <th>2</th>\n",
       "      <td>3</td>\n",
       "      <td>6/9/2017 0:00</td>\n",
       "      <td>FH</td>\n",
       "      <td>5</td>\n",
       "      <td>253535.0</td>\n",
       "      <td>I</td>\n",
       "      <td>N</td>\n",
       "    </tr>\n",
       "    <tr>\n",
       "      <th>12</th>\n",
       "      <td>6</td>\n",
       "      <td>6/10/2017 0:00</td>\n",
       "      <td>KA</td>\n",
       "      <td>5</td>\n",
       "      <td>96211.0</td>\n",
       "      <td>O</td>\n",
       "      <td>N</td>\n",
       "    </tr>\n",
       "    <tr>\n",
       "      <th>13</th>\n",
       "      <td>7</td>\n",
       "      <td>6/10/2017 0:00</td>\n",
       "      <td>UK</td>\n",
       "      <td>5</td>\n",
       "      <td>4852122.0</td>\n",
       "      <td>R</td>\n",
       "      <td>Y</td>\n",
       "    </tr>\n",
       "    <tr>\n",
       "      <th>0</th>\n",
       "      <td>1</td>\n",
       "      <td>6/9/2017 0:00</td>\n",
       "      <td>USA</td>\n",
       "      <td>6</td>\n",
       "      <td>5244337.0</td>\n",
       "      <td>O</td>\n",
       "      <td>Y</td>\n",
       "    </tr>\n",
       "    <tr>\n",
       "      <th>4</th>\n",
       "      <td>5</td>\n",
       "      <td>6/9/2017 0:00</td>\n",
       "      <td>JP</td>\n",
       "      <td>6</td>\n",
       "      <td>NaN</td>\n",
       "      <td>Missing</td>\n",
       "      <td>Y</td>\n",
       "    </tr>\n",
       "    <tr>\n",
       "      <th>8</th>\n",
       "      <td>2</td>\n",
       "      <td>6/10/2017 0:00</td>\n",
       "      <td>CA</td>\n",
       "      <td>6</td>\n",
       "      <td>3836524.0</td>\n",
       "      <td>R</td>\n",
       "      <td>Y</td>\n",
       "    </tr>\n",
       "    <tr>\n",
       "      <th>11</th>\n",
       "      <td>5</td>\n",
       "      <td>6/10/2017 0:00</td>\n",
       "      <td>JP</td>\n",
       "      <td>6</td>\n",
       "      <td>19752.0</td>\n",
       "      <td>Q</td>\n",
       "      <td>N</td>\n",
       "    </tr>\n",
       "    <tr>\n",
       "      <th>6</th>\n",
       "      <td>7</td>\n",
       "      <td>6/9/2017 0:00</td>\n",
       "      <td>UK</td>\n",
       "      <td>7</td>\n",
       "      <td>4461441.0</td>\n",
       "      <td>I</td>\n",
       "      <td>Y</td>\n",
       "    </tr>\n",
       "    <tr>\n",
       "      <th>10</th>\n",
       "      <td>4</td>\n",
       "      <td>6/10/2017 0:00</td>\n",
       "      <td>TW</td>\n",
       "      <td>7</td>\n",
       "      <td>5865521.0</td>\n",
       "      <td>I</td>\n",
       "      <td>Y</td>\n",
       "    </tr>\n",
       "  </tbody>\n",
       "</table>\n",
       "</div>"
      ],
      "text/plain": [
       "    ID            Date Country  Star  Total Customer   Status Target\n",
       "3    4   6/9/2017 0:00      TW     4       5165465.0  Missing      N\n",
       "5    6   6/9/2017 0:00      KA     4         16546.0        R      N\n",
       "7    1  6/10/2017 0:00     USA     4       5852132.0        O      Y\n",
       "9    3  6/10/2017 0:00      FH     4        253952.0        I      N\n",
       "1    2   6/9/2017 0:00      CA     5       3531127.0        R      Y\n",
       "2    3   6/9/2017 0:00      FH     5        253535.0        I      N\n",
       "12   6  6/10/2017 0:00      KA     5         96211.0        O      N\n",
       "13   7  6/10/2017 0:00      UK     5       4852122.0        R      Y\n",
       "0    1   6/9/2017 0:00     USA     6       5244337.0        O      Y\n",
       "4    5   6/9/2017 0:00      JP     6             NaN  Missing      Y\n",
       "8    2  6/10/2017 0:00      CA     6       3836524.0        R      Y\n",
       "11   5  6/10/2017 0:00      JP     6         19752.0        Q      N\n",
       "6    7   6/9/2017 0:00      UK     7       4461441.0        I      Y\n",
       "10   4  6/10/2017 0:00      TW     7       5865521.0        I      Y"
      ]
     },
     "execution_count": 27,
     "metadata": {},
     "output_type": "execute_result"
    }
   ],
   "source": [
    "df.sort_values(['Star'])"
   ]
  },
  {
   "cell_type": "markdown",
   "metadata": {},
   "source": [
    "# Case When"
   ]
  },
  {
   "cell_type": "code",
   "execution_count": 28,
   "metadata": {
    "collapsed": false
   },
   "outputs": [],
   "source": [
    "def StarLevelConvert(df):\n",
    "    if (df['Star']>0) & (df['Star']<=5):\n",
    "        return 'Low'\n",
    "    elif (df['Star']>5) & (df['Star']<=10):\n",
    "        return 'Medium'\n",
    "    elif df['Star']>10:\n",
    "        return 'High'\n",
    "    else:\n",
    "        return np.nan"
   ]
  },
  {
   "cell_type": "code",
   "execution_count": 29,
   "metadata": {
    "collapsed": false
   },
   "outputs": [
    {
     "data": {
      "text/html": [
       "<div>\n",
       "<style>\n",
       "    .dataframe thead tr:only-child th {\n",
       "        text-align: right;\n",
       "    }\n",
       "\n",
       "    .dataframe thead th {\n",
       "        text-align: left;\n",
       "    }\n",
       "\n",
       "    .dataframe tbody tr th {\n",
       "        vertical-align: top;\n",
       "    }\n",
       "</style>\n",
       "<table border=\"1\" class=\"dataframe\">\n",
       "  <thead>\n",
       "    <tr style=\"text-align: right;\">\n",
       "      <th></th>\n",
       "      <th>ID</th>\n",
       "      <th>Date</th>\n",
       "      <th>Country</th>\n",
       "      <th>Star</th>\n",
       "      <th>Total Customer</th>\n",
       "      <th>Status</th>\n",
       "      <th>Target</th>\n",
       "      <th>StarLevel</th>\n",
       "    </tr>\n",
       "  </thead>\n",
       "  <tbody>\n",
       "    <tr>\n",
       "      <th>0</th>\n",
       "      <td>1</td>\n",
       "      <td>6/9/2017 0:00</td>\n",
       "      <td>USA</td>\n",
       "      <td>6</td>\n",
       "      <td>5244337.0</td>\n",
       "      <td>O</td>\n",
       "      <td>Y</td>\n",
       "      <td>Medium</td>\n",
       "    </tr>\n",
       "    <tr>\n",
       "      <th>1</th>\n",
       "      <td>2</td>\n",
       "      <td>6/9/2017 0:00</td>\n",
       "      <td>CA</td>\n",
       "      <td>5</td>\n",
       "      <td>3531127.0</td>\n",
       "      <td>R</td>\n",
       "      <td>Y</td>\n",
       "      <td>Low</td>\n",
       "    </tr>\n",
       "    <tr>\n",
       "      <th>2</th>\n",
       "      <td>3</td>\n",
       "      <td>6/9/2017 0:00</td>\n",
       "      <td>FH</td>\n",
       "      <td>5</td>\n",
       "      <td>253535.0</td>\n",
       "      <td>I</td>\n",
       "      <td>N</td>\n",
       "      <td>Low</td>\n",
       "    </tr>\n",
       "    <tr>\n",
       "      <th>3</th>\n",
       "      <td>4</td>\n",
       "      <td>6/9/2017 0:00</td>\n",
       "      <td>TW</td>\n",
       "      <td>4</td>\n",
       "      <td>5165465.0</td>\n",
       "      <td>Missing</td>\n",
       "      <td>N</td>\n",
       "      <td>Low</td>\n",
       "    </tr>\n",
       "    <tr>\n",
       "      <th>4</th>\n",
       "      <td>5</td>\n",
       "      <td>6/9/2017 0:00</td>\n",
       "      <td>JP</td>\n",
       "      <td>6</td>\n",
       "      <td>NaN</td>\n",
       "      <td>Missing</td>\n",
       "      <td>Y</td>\n",
       "      <td>Medium</td>\n",
       "    </tr>\n",
       "  </tbody>\n",
       "</table>\n",
       "</div>"
      ],
      "text/plain": [
       "   ID           Date Country  Star  Total Customer   Status Target StarLevel\n",
       "0   1  6/9/2017 0:00     USA     6       5244337.0        O      Y    Medium\n",
       "1   2  6/9/2017 0:00      CA     5       3531127.0        R      Y       Low\n",
       "2   3  6/9/2017 0:00      FH     5        253535.0        I      N       Low\n",
       "3   4  6/9/2017 0:00      TW     4       5165465.0  Missing      N       Low\n",
       "4   5  6/9/2017 0:00      JP     6             NaN  Missing      Y    Medium"
      ]
     },
     "execution_count": 29,
     "metadata": {},
     "output_type": "execute_result"
    }
   ],
   "source": [
    "df['StarLevel']=df.apply(StarLevelConvert, axis=1)\n",
    "df.head()"
   ]
  },
  {
   "cell_type": "markdown",
   "metadata": {
    "collapsed": true
   },
   "source": [
    "# Join"
   ]
  },
  {
   "cell_type": "code",
   "execution_count": 30,
   "metadata": {
    "collapsed": false
   },
   "outputs": [
    {
     "name": "stdout",
     "output_type": "stream",
     "text": [
      "     Name  age\n",
      "0    Olly   13\n",
      "1  Ollier   25\n",
      "2     Oil   60\n",
      "3     Ola   65\n",
      "   Name  height\n",
      "0  Olly     130\n",
      "1   Ola     165\n",
      "2   Ola     120\n"
     ]
    }
   ],
   "source": [
    "df1 = pd.DataFrame({'Name':['Olly','Ollier','Oil','Ola'],\n",
    "                    'age':[13,25,60,65]})\n",
    "df2 = pd.DataFrame({'Name':['Olly','Ola','Ola'],\n",
    "                    'height':[130,165,120]})\n",
    "print(df1.head())\n",
    "print(df2.head())"
   ]
  },
  {
   "cell_type": "markdown",
   "metadata": {},
   "source": [
    "* Inner join\n",
    "```SQL\n",
    "SELECT      *\n",
    "FROM        df1 a \n",
    "INNER JOIN  df2 b\n",
    "ON          a.Name=b.Name\n",
    "```"
   ]
  },
  {
   "cell_type": "code",
   "execution_count": 31,
   "metadata": {
    "collapsed": false
   },
   "outputs": [
    {
     "data": {
      "text/html": [
       "<div>\n",
       "<style>\n",
       "    .dataframe thead tr:only-child th {\n",
       "        text-align: right;\n",
       "    }\n",
       "\n",
       "    .dataframe thead th {\n",
       "        text-align: left;\n",
       "    }\n",
       "\n",
       "    .dataframe tbody tr th {\n",
       "        vertical-align: top;\n",
       "    }\n",
       "</style>\n",
       "<table border=\"1\" class=\"dataframe\">\n",
       "  <thead>\n",
       "    <tr style=\"text-align: right;\">\n",
       "      <th></th>\n",
       "      <th>Name</th>\n",
       "      <th>age</th>\n",
       "      <th>height</th>\n",
       "    </tr>\n",
       "  </thead>\n",
       "  <tbody>\n",
       "    <tr>\n",
       "      <th>0</th>\n",
       "      <td>Olly</td>\n",
       "      <td>13</td>\n",
       "      <td>130</td>\n",
       "    </tr>\n",
       "    <tr>\n",
       "      <th>1</th>\n",
       "      <td>Ola</td>\n",
       "      <td>65</td>\n",
       "      <td>165</td>\n",
       "    </tr>\n",
       "    <tr>\n",
       "      <th>2</th>\n",
       "      <td>Ola</td>\n",
       "      <td>65</td>\n",
       "      <td>120</td>\n",
       "    </tr>\n",
       "  </tbody>\n",
       "</table>\n",
       "</div>"
      ],
      "text/plain": [
       "   Name  age  height\n",
       "0  Olly   13     130\n",
       "1   Ola   65     165\n",
       "2   Ola   65     120"
      ]
     },
     "execution_count": 31,
     "metadata": {},
     "output_type": "execute_result"
    }
   ],
   "source": [
    "pd.merge(df1, df2, on='Name', how='inner')"
   ]
  },
  {
   "cell_type": "markdown",
   "metadata": {},
   "source": [
    "* Left join\n",
    "```SQL\n",
    "SELECT      *\n",
    "FROM        df1 a \n",
    "LEFT JOIN   df2 b\n",
    "ON          a.Name=b.Name\n",
    "```"
   ]
  },
  {
   "cell_type": "code",
   "execution_count": 32,
   "metadata": {
    "collapsed": false
   },
   "outputs": [
    {
     "data": {
      "text/html": [
       "<div>\n",
       "<style>\n",
       "    .dataframe thead tr:only-child th {\n",
       "        text-align: right;\n",
       "    }\n",
       "\n",
       "    .dataframe thead th {\n",
       "        text-align: left;\n",
       "    }\n",
       "\n",
       "    .dataframe tbody tr th {\n",
       "        vertical-align: top;\n",
       "    }\n",
       "</style>\n",
       "<table border=\"1\" class=\"dataframe\">\n",
       "  <thead>\n",
       "    <tr style=\"text-align: right;\">\n",
       "      <th></th>\n",
       "      <th>Name</th>\n",
       "      <th>age</th>\n",
       "      <th>height</th>\n",
       "    </tr>\n",
       "  </thead>\n",
       "  <tbody>\n",
       "    <tr>\n",
       "      <th>0</th>\n",
       "      <td>Olly</td>\n",
       "      <td>13</td>\n",
       "      <td>130.0</td>\n",
       "    </tr>\n",
       "    <tr>\n",
       "      <th>1</th>\n",
       "      <td>Ollier</td>\n",
       "      <td>25</td>\n",
       "      <td>NaN</td>\n",
       "    </tr>\n",
       "    <tr>\n",
       "      <th>2</th>\n",
       "      <td>Oil</td>\n",
       "      <td>60</td>\n",
       "      <td>NaN</td>\n",
       "    </tr>\n",
       "    <tr>\n",
       "      <th>3</th>\n",
       "      <td>Ola</td>\n",
       "      <td>65</td>\n",
       "      <td>165.0</td>\n",
       "    </tr>\n",
       "    <tr>\n",
       "      <th>4</th>\n",
       "      <td>Ola</td>\n",
       "      <td>65</td>\n",
       "      <td>120.0</td>\n",
       "    </tr>\n",
       "  </tbody>\n",
       "</table>\n",
       "</div>"
      ],
      "text/plain": [
       "     Name  age  height\n",
       "0    Olly   13   130.0\n",
       "1  Ollier   25     NaN\n",
       "2     Oil   60     NaN\n",
       "3     Ola   65   165.0\n",
       "4     Ola   65   120.0"
      ]
     },
     "execution_count": 32,
     "metadata": {},
     "output_type": "execute_result"
    }
   ],
   "source": [
    "pd.merge(df1, df2, on='Name', how='left')"
   ]
  },
  {
   "cell_type": "markdown",
   "metadata": {},
   "source": [
    "* Right join\n",
    "\n",
    "```SQL\n",
    "SELECT      *\n",
    "FROM        df1 a \n",
    "RIGHT JOIN  df2 b\n",
    "ON          a.Name=b.Name\n",
    "```"
   ]
  },
  {
   "cell_type": "code",
   "execution_count": 33,
   "metadata": {
    "collapsed": false
   },
   "outputs": [
    {
     "data": {
      "text/html": [
       "<div>\n",
       "<style>\n",
       "    .dataframe thead tr:only-child th {\n",
       "        text-align: right;\n",
       "    }\n",
       "\n",
       "    .dataframe thead th {\n",
       "        text-align: left;\n",
       "    }\n",
       "\n",
       "    .dataframe tbody tr th {\n",
       "        vertical-align: top;\n",
       "    }\n",
       "</style>\n",
       "<table border=\"1\" class=\"dataframe\">\n",
       "  <thead>\n",
       "    <tr style=\"text-align: right;\">\n",
       "      <th></th>\n",
       "      <th>Name</th>\n",
       "      <th>age</th>\n",
       "      <th>height</th>\n",
       "    </tr>\n",
       "  </thead>\n",
       "  <tbody>\n",
       "    <tr>\n",
       "      <th>0</th>\n",
       "      <td>Olly</td>\n",
       "      <td>13</td>\n",
       "      <td>130</td>\n",
       "    </tr>\n",
       "    <tr>\n",
       "      <th>1</th>\n",
       "      <td>Ola</td>\n",
       "      <td>65</td>\n",
       "      <td>165</td>\n",
       "    </tr>\n",
       "    <tr>\n",
       "      <th>2</th>\n",
       "      <td>Ola</td>\n",
       "      <td>65</td>\n",
       "      <td>120</td>\n",
       "    </tr>\n",
       "  </tbody>\n",
       "</table>\n",
       "</div>"
      ],
      "text/plain": [
       "   Name  age  height\n",
       "0  Olly   13     130\n",
       "1   Ola   65     165\n",
       "2   Ola   65     120"
      ]
     },
     "execution_count": 33,
     "metadata": {},
     "output_type": "execute_result"
    }
   ],
   "source": [
    "pd.merge(df1, df2, on='Name', how='right')"
   ]
  },
  {
   "cell_type": "markdown",
   "metadata": {},
   "source": [
    "# Union"
   ]
  },
  {
   "cell_type": "code",
   "execution_count": 34,
   "metadata": {
    "collapsed": false
   },
   "outputs": [
    {
     "name": "stdout",
     "output_type": "stream",
     "text": [
      "     Name  age\n",
      "0    Olly   13\n",
      "1  Ollier   25\n",
      "2     Oil   60\n",
      "3     Ola   65\n",
      "   Name  age\n",
      "0  Olly   13\n",
      "1  Olly   13\n",
      "2   Dog   20\n"
     ]
    }
   ],
   "source": [
    "df3 = pd.DataFrame({'Name':['Olly','Olly','Dog'],\n",
    "                    'age':[13,13,20]})\n",
    "print(df1)\n",
    "print(df3)"
   ]
  },
  {
   "cell_type": "markdown",
   "metadata": {},
   "source": [
    "* Union ALL"
   ]
  },
  {
   "cell_type": "code",
   "execution_count": 35,
   "metadata": {
    "collapsed": false
   },
   "outputs": [
    {
     "data": {
      "text/html": [
       "<div>\n",
       "<style>\n",
       "    .dataframe thead tr:only-child th {\n",
       "        text-align: right;\n",
       "    }\n",
       "\n",
       "    .dataframe thead th {\n",
       "        text-align: left;\n",
       "    }\n",
       "\n",
       "    .dataframe tbody tr th {\n",
       "        vertical-align: top;\n",
       "    }\n",
       "</style>\n",
       "<table border=\"1\" class=\"dataframe\">\n",
       "  <thead>\n",
       "    <tr style=\"text-align: right;\">\n",
       "      <th></th>\n",
       "      <th>Name</th>\n",
       "      <th>age</th>\n",
       "    </tr>\n",
       "  </thead>\n",
       "  <tbody>\n",
       "    <tr>\n",
       "      <th>0</th>\n",
       "      <td>Olly</td>\n",
       "      <td>13</td>\n",
       "    </tr>\n",
       "    <tr>\n",
       "      <th>1</th>\n",
       "      <td>Ollier</td>\n",
       "      <td>25</td>\n",
       "    </tr>\n",
       "    <tr>\n",
       "      <th>2</th>\n",
       "      <td>Oil</td>\n",
       "      <td>60</td>\n",
       "    </tr>\n",
       "    <tr>\n",
       "      <th>3</th>\n",
       "      <td>Ola</td>\n",
       "      <td>65</td>\n",
       "    </tr>\n",
       "    <tr>\n",
       "      <th>0</th>\n",
       "      <td>Olly</td>\n",
       "      <td>13</td>\n",
       "    </tr>\n",
       "    <tr>\n",
       "      <th>1</th>\n",
       "      <td>Olly</td>\n",
       "      <td>13</td>\n",
       "    </tr>\n",
       "    <tr>\n",
       "      <th>2</th>\n",
       "      <td>Dog</td>\n",
       "      <td>20</td>\n",
       "    </tr>\n",
       "  </tbody>\n",
       "</table>\n",
       "</div>"
      ],
      "text/plain": [
       "     Name  age\n",
       "0    Olly   13\n",
       "1  Ollier   25\n",
       "2     Oil   60\n",
       "3     Ola   65\n",
       "0    Olly   13\n",
       "1    Olly   13\n",
       "2     Dog   20"
      ]
     },
     "execution_count": 35,
     "metadata": {},
     "output_type": "execute_result"
    }
   ],
   "source": [
    "pd.concat([df1, df3])"
   ]
  },
  {
   "cell_type": "markdown",
   "metadata": {},
   "source": [
    "* Union"
   ]
  },
  {
   "cell_type": "code",
   "execution_count": 36,
   "metadata": {
    "collapsed": false
   },
   "outputs": [
    {
     "data": {
      "text/html": [
       "<div>\n",
       "<style>\n",
       "    .dataframe thead tr:only-child th {\n",
       "        text-align: right;\n",
       "    }\n",
       "\n",
       "    .dataframe thead th {\n",
       "        text-align: left;\n",
       "    }\n",
       "\n",
       "    .dataframe tbody tr th {\n",
       "        vertical-align: top;\n",
       "    }\n",
       "</style>\n",
       "<table border=\"1\" class=\"dataframe\">\n",
       "  <thead>\n",
       "    <tr style=\"text-align: right;\">\n",
       "      <th></th>\n",
       "      <th>Name</th>\n",
       "      <th>age</th>\n",
       "    </tr>\n",
       "  </thead>\n",
       "  <tbody>\n",
       "    <tr>\n",
       "      <th>0</th>\n",
       "      <td>Olly</td>\n",
       "      <td>13</td>\n",
       "    </tr>\n",
       "    <tr>\n",
       "      <th>1</th>\n",
       "      <td>Ollier</td>\n",
       "      <td>25</td>\n",
       "    </tr>\n",
       "    <tr>\n",
       "      <th>2</th>\n",
       "      <td>Oil</td>\n",
       "      <td>60</td>\n",
       "    </tr>\n",
       "    <tr>\n",
       "      <th>3</th>\n",
       "      <td>Ola</td>\n",
       "      <td>65</td>\n",
       "    </tr>\n",
       "    <tr>\n",
       "      <th>2</th>\n",
       "      <td>Dog</td>\n",
       "      <td>20</td>\n",
       "    </tr>\n",
       "  </tbody>\n",
       "</table>\n",
       "</div>"
      ],
      "text/plain": [
       "     Name  age\n",
       "0    Olly   13\n",
       "1  Ollier   25\n",
       "2     Oil   60\n",
       "3     Ola   65\n",
       "2     Dog   20"
      ]
     },
     "execution_count": 36,
     "metadata": {},
     "output_type": "execute_result"
    }
   ],
   "source": [
    "pd.concat([df1, df3]).drop_duplicates()"
   ]
  },
  {
   "cell_type": "markdown",
   "metadata": {},
   "source": [
    "# Odds Ratio Caculator"
   ]
  },
  {
   "cell_type": "code",
   "execution_count": 37,
   "metadata": {
    "collapsed": true
   },
   "outputs": [],
   "source": [
    "def OddsRatio(df=None, TargetCol=None, var=None):\n",
    "    df_YN = df[(df[TargetCol]=='Y')|(df[TargetCol]=='N')].groupby(var, as_index=False).count()[[var,TargetCol]]\n",
    "    df_Y = df[df[TargetCol]=='Y'].groupby(var, as_index=False).count()[[var,TargetCol]]\n",
    "    df_N = df[df[TargetCol]=='N'].groupby(var, as_index=False).count()[[var,TargetCol]]\n",
    "    df_YN.rename(columns={TargetCol:'Total'}, inplace=True)\n",
    "    df_Y.rename(columns={TargetCol:'Y'}, inplace=True)\n",
    "    df_N.rename(columns={TargetCol:'N'}, inplace=True)\n",
    "    join_Y = pd.merge(df_YN, df_Y, on=var, how='left').fillna(0)\n",
    "    join = pd.merge(join_Y, df_N, on=var, how='left').fillna(0)\n",
    "    join['Odds'] = join['Y']/join['Total']\n",
    "    join['BaseOdds'] = join['Y'].sum()/join['Total'].sum()\n",
    "    join['OddsRatio'] = join['Odds']/join['BaseOdds']\n",
    "    return join"
   ]
  },
  {
   "cell_type": "code",
   "execution_count": 38,
   "metadata": {
    "collapsed": false
   },
   "outputs": [
    {
     "data": {
      "text/html": [
       "<div>\n",
       "<style>\n",
       "    .dataframe thead tr:only-child th {\n",
       "        text-align: right;\n",
       "    }\n",
       "\n",
       "    .dataframe thead th {\n",
       "        text-align: left;\n",
       "    }\n",
       "\n",
       "    .dataframe tbody tr th {\n",
       "        vertical-align: top;\n",
       "    }\n",
       "</style>\n",
       "<table border=\"1\" class=\"dataframe\">\n",
       "  <thead>\n",
       "    <tr style=\"text-align: right;\">\n",
       "      <th></th>\n",
       "      <th>Status</th>\n",
       "      <th>Total</th>\n",
       "      <th>Y</th>\n",
       "      <th>N</th>\n",
       "      <th>Odds</th>\n",
       "      <th>BaseOdds</th>\n",
       "      <th>OddsRatio</th>\n",
       "    </tr>\n",
       "  </thead>\n",
       "  <tbody>\n",
       "    <tr>\n",
       "      <th>0</th>\n",
       "      <td>I</td>\n",
       "      <td>4</td>\n",
       "      <td>2.0</td>\n",
       "      <td>2</td>\n",
       "      <td>0.500000</td>\n",
       "      <td>0.571429</td>\n",
       "      <td>0.875000</td>\n",
       "    </tr>\n",
       "    <tr>\n",
       "      <th>1</th>\n",
       "      <td>Missing</td>\n",
       "      <td>2</td>\n",
       "      <td>1.0</td>\n",
       "      <td>1</td>\n",
       "      <td>0.500000</td>\n",
       "      <td>0.571429</td>\n",
       "      <td>0.875000</td>\n",
       "    </tr>\n",
       "    <tr>\n",
       "      <th>2</th>\n",
       "      <td>O</td>\n",
       "      <td>3</td>\n",
       "      <td>2.0</td>\n",
       "      <td>1</td>\n",
       "      <td>0.666667</td>\n",
       "      <td>0.571429</td>\n",
       "      <td>1.166667</td>\n",
       "    </tr>\n",
       "    <tr>\n",
       "      <th>3</th>\n",
       "      <td>Q</td>\n",
       "      <td>1</td>\n",
       "      <td>0.0</td>\n",
       "      <td>1</td>\n",
       "      <td>0.000000</td>\n",
       "      <td>0.571429</td>\n",
       "      <td>0.000000</td>\n",
       "    </tr>\n",
       "    <tr>\n",
       "      <th>4</th>\n",
       "      <td>R</td>\n",
       "      <td>4</td>\n",
       "      <td>3.0</td>\n",
       "      <td>1</td>\n",
       "      <td>0.750000</td>\n",
       "      <td>0.571429</td>\n",
       "      <td>1.312500</td>\n",
       "    </tr>\n",
       "  </tbody>\n",
       "</table>\n",
       "</div>"
      ],
      "text/plain": [
       "    Status  Total    Y  N      Odds  BaseOdds  OddsRatio\n",
       "0        I      4  2.0  2  0.500000  0.571429   0.875000\n",
       "1  Missing      2  1.0  1  0.500000  0.571429   0.875000\n",
       "2        O      3  2.0  1  0.666667  0.571429   1.166667\n",
       "3        Q      1  0.0  1  0.000000  0.571429   0.000000\n",
       "4        R      4  3.0  1  0.750000  0.571429   1.312500"
      ]
     },
     "execution_count": 38,
     "metadata": {},
     "output_type": "execute_result"
    }
   ],
   "source": [
    "OddsRatio(df=df, TargetCol='Target', var='Status')"
   ]
  },
  {
   "cell_type": "markdown",
   "metadata": {},
   "source": [
    "## Why?\n",
    "\n",
    "<img src=\"http://www.tmdqq.com/uploads/allimg/c170228/14X2Q464T450-1Q42.jpg\"></img>"
   ]
  },
  {
   "cell_type": "markdown",
   "metadata": {},
   "source": [
    "* df().groupby.count()"
   ]
  },
  {
   "cell_type": "code",
   "execution_count": 39,
   "metadata": {
    "collapsed": false
   },
   "outputs": [
    {
     "data": {
      "text/html": [
       "<div>\n",
       "<style>\n",
       "    .dataframe thead tr:only-child th {\n",
       "        text-align: right;\n",
       "    }\n",
       "\n",
       "    .dataframe thead th {\n",
       "        text-align: left;\n",
       "    }\n",
       "\n",
       "    .dataframe tbody tr th {\n",
       "        vertical-align: top;\n",
       "    }\n",
       "</style>\n",
       "<table border=\"1\" class=\"dataframe\">\n",
       "  <thead>\n",
       "    <tr style=\"text-align: right;\">\n",
       "      <th></th>\n",
       "      <th>Status</th>\n",
       "      <th>Target</th>\n",
       "    </tr>\n",
       "  </thead>\n",
       "  <tbody>\n",
       "    <tr>\n",
       "      <th>0</th>\n",
       "      <td>I</td>\n",
       "      <td>4</td>\n",
       "    </tr>\n",
       "    <tr>\n",
       "      <th>1</th>\n",
       "      <td>Missing</td>\n",
       "      <td>2</td>\n",
       "    </tr>\n",
       "    <tr>\n",
       "      <th>2</th>\n",
       "      <td>O</td>\n",
       "      <td>3</td>\n",
       "    </tr>\n",
       "    <tr>\n",
       "      <th>3</th>\n",
       "      <td>Q</td>\n",
       "      <td>1</td>\n",
       "    </tr>\n",
       "    <tr>\n",
       "      <th>4</th>\n",
       "      <td>R</td>\n",
       "      <td>4</td>\n",
       "    </tr>\n",
       "  </tbody>\n",
       "</table>\n",
       "</div>"
      ],
      "text/plain": [
       "    Status  Target\n",
       "0        I       4\n",
       "1  Missing       2\n",
       "2        O       3\n",
       "3        Q       1\n",
       "4        R       4"
      ]
     },
     "execution_count": 39,
     "metadata": {},
     "output_type": "execute_result"
    }
   ],
   "source": [
    "df_YN = df[(df['Target']=='Y')|(df['Target']=='N')].groupby('Status', as_index=False).count()[['Status','Target']]\n",
    "df_YN"
   ]
  },
  {
   "cell_type": "code",
   "execution_count": 40,
   "metadata": {
    "collapsed": false
   },
   "outputs": [
    {
     "name": "stdout",
     "output_type": "stream",
     "text": [
      "df_Y :\n",
      "     Status  Target\n",
      "0        I       2\n",
      "1  Missing       1\n",
      "2        O       2\n",
      "3        R       3 \n",
      "\n",
      "df_N :\n",
      "     Status  Target\n",
      "0        I       2\n",
      "1  Missing       1\n",
      "2        O       1\n",
      "3        Q       1\n",
      "4        R       1\n"
     ]
    }
   ],
   "source": [
    "df_Y = df[df['Target']=='Y'].groupby('Status', as_index=False).count()[['Status','Target']]\n",
    "df_N = df[df['Target']=='N'].groupby('Status', as_index=False).count()[['Status','Target']]\n",
    "print('df_Y :\\n', df_Y, '\\n\\ndf_N :\\n',df_N)"
   ]
  },
  {
   "cell_type": "code",
   "execution_count": 41,
   "metadata": {
    "collapsed": false
   },
   "outputs": [
    {
     "data": {
      "text/html": [
       "<div>\n",
       "<style>\n",
       "    .dataframe thead tr:only-child th {\n",
       "        text-align: right;\n",
       "    }\n",
       "\n",
       "    .dataframe thead th {\n",
       "        text-align: left;\n",
       "    }\n",
       "\n",
       "    .dataframe tbody tr th {\n",
       "        vertical-align: top;\n",
       "    }\n",
       "</style>\n",
       "<table border=\"1\" class=\"dataframe\">\n",
       "  <thead>\n",
       "    <tr style=\"text-align: right;\">\n",
       "      <th></th>\n",
       "      <th>Status</th>\n",
       "      <th>Total</th>\n",
       "    </tr>\n",
       "  </thead>\n",
       "  <tbody>\n",
       "    <tr>\n",
       "      <th>0</th>\n",
       "      <td>I</td>\n",
       "      <td>4</td>\n",
       "    </tr>\n",
       "    <tr>\n",
       "      <th>1</th>\n",
       "      <td>Missing</td>\n",
       "      <td>2</td>\n",
       "    </tr>\n",
       "    <tr>\n",
       "      <th>2</th>\n",
       "      <td>O</td>\n",
       "      <td>3</td>\n",
       "    </tr>\n",
       "    <tr>\n",
       "      <th>3</th>\n",
       "      <td>Q</td>\n",
       "      <td>1</td>\n",
       "    </tr>\n",
       "    <tr>\n",
       "      <th>4</th>\n",
       "      <td>R</td>\n",
       "      <td>4</td>\n",
       "    </tr>\n",
       "  </tbody>\n",
       "</table>\n",
       "</div>"
      ],
      "text/plain": [
       "    Status  Total\n",
       "0        I      4\n",
       "1  Missing      2\n",
       "2        O      3\n",
       "3        Q      1\n",
       "4        R      4"
      ]
     },
     "execution_count": 41,
     "metadata": {},
     "output_type": "execute_result"
    }
   ],
   "source": [
    "df_YN.rename(columns={'Target':'Total'}, inplace=True)\n",
    "df_Y.rename(columns={'Target':'Y'}, inplace=True)\n",
    "df_N.rename(columns={'Target':'N'}, inplace=True)\n",
    "df_YN"
   ]
  },
  {
   "cell_type": "code",
   "execution_count": 42,
   "metadata": {
    "collapsed": false
   },
   "outputs": [
    {
     "name": "stdout",
     "output_type": "stream",
     "text": [
      "join_Y :\n",
      "     Status  Total    Y\n",
      "0        I      4  2.0\n",
      "1  Missing      2  1.0\n",
      "2        O      3  2.0\n",
      "3        Q      1  0.0\n",
      "4        R      4  3.0 \n",
      "\n",
      "join :\n",
      "     Status  Total    Y  N\n",
      "0        I      4  2.0  2\n",
      "1  Missing      2  1.0  1\n",
      "2        O      3  2.0  1\n",
      "3        Q      1  0.0  1\n",
      "4        R      4  3.0  1\n"
     ]
    }
   ],
   "source": [
    "join_Y = pd.merge(df_YN, df_Y, on='Status', how='left').fillna(0)\n",
    "join = pd.merge(join_Y, df_N, on='Status', how='left').fillna(0)\n",
    "print('join_Y :\\n', join_Y, '\\n\\njoin :\\n',join)"
   ]
  },
  {
   "cell_type": "code",
   "execution_count": 43,
   "metadata": {
    "collapsed": false
   },
   "outputs": [
    {
     "data": {
      "text/html": [
       "<div>\n",
       "<style>\n",
       "    .dataframe thead tr:only-child th {\n",
       "        text-align: right;\n",
       "    }\n",
       "\n",
       "    .dataframe thead th {\n",
       "        text-align: left;\n",
       "    }\n",
       "\n",
       "    .dataframe tbody tr th {\n",
       "        vertical-align: top;\n",
       "    }\n",
       "</style>\n",
       "<table border=\"1\" class=\"dataframe\">\n",
       "  <thead>\n",
       "    <tr style=\"text-align: right;\">\n",
       "      <th></th>\n",
       "      <th>Status</th>\n",
       "      <th>Total</th>\n",
       "      <th>Y</th>\n",
       "      <th>N</th>\n",
       "      <th>Odds</th>\n",
       "    </tr>\n",
       "  </thead>\n",
       "  <tbody>\n",
       "    <tr>\n",
       "      <th>0</th>\n",
       "      <td>I</td>\n",
       "      <td>4</td>\n",
       "      <td>2.0</td>\n",
       "      <td>2</td>\n",
       "      <td>0.500000</td>\n",
       "    </tr>\n",
       "    <tr>\n",
       "      <th>1</th>\n",
       "      <td>Missing</td>\n",
       "      <td>2</td>\n",
       "      <td>1.0</td>\n",
       "      <td>1</td>\n",
       "      <td>0.500000</td>\n",
       "    </tr>\n",
       "    <tr>\n",
       "      <th>2</th>\n",
       "      <td>O</td>\n",
       "      <td>3</td>\n",
       "      <td>2.0</td>\n",
       "      <td>1</td>\n",
       "      <td>0.666667</td>\n",
       "    </tr>\n",
       "    <tr>\n",
       "      <th>3</th>\n",
       "      <td>Q</td>\n",
       "      <td>1</td>\n",
       "      <td>0.0</td>\n",
       "      <td>1</td>\n",
       "      <td>0.000000</td>\n",
       "    </tr>\n",
       "    <tr>\n",
       "      <th>4</th>\n",
       "      <td>R</td>\n",
       "      <td>4</td>\n",
       "      <td>3.0</td>\n",
       "      <td>1</td>\n",
       "      <td>0.750000</td>\n",
       "    </tr>\n",
       "  </tbody>\n",
       "</table>\n",
       "</div>"
      ],
      "text/plain": [
       "    Status  Total    Y  N      Odds\n",
       "0        I      4  2.0  2  0.500000\n",
       "1  Missing      2  1.0  1  0.500000\n",
       "2        O      3  2.0  1  0.666667\n",
       "3        Q      1  0.0  1  0.000000\n",
       "4        R      4  3.0  1  0.750000"
      ]
     },
     "execution_count": 43,
     "metadata": {},
     "output_type": "execute_result"
    }
   ],
   "source": [
    "join['Odds'] = join['Y']/join['Total']\n",
    "join"
   ]
  },
  {
   "cell_type": "code",
   "execution_count": 44,
   "metadata": {
    "collapsed": false
   },
   "outputs": [
    {
     "data": {
      "text/html": [
       "<div>\n",
       "<style>\n",
       "    .dataframe thead tr:only-child th {\n",
       "        text-align: right;\n",
       "    }\n",
       "\n",
       "    .dataframe thead th {\n",
       "        text-align: left;\n",
       "    }\n",
       "\n",
       "    .dataframe tbody tr th {\n",
       "        vertical-align: top;\n",
       "    }\n",
       "</style>\n",
       "<table border=\"1\" class=\"dataframe\">\n",
       "  <thead>\n",
       "    <tr style=\"text-align: right;\">\n",
       "      <th></th>\n",
       "      <th>Status</th>\n",
       "      <th>Total</th>\n",
       "      <th>Y</th>\n",
       "      <th>N</th>\n",
       "      <th>Odds</th>\n",
       "      <th>BaseOdds</th>\n",
       "    </tr>\n",
       "  </thead>\n",
       "  <tbody>\n",
       "    <tr>\n",
       "      <th>0</th>\n",
       "      <td>I</td>\n",
       "      <td>4</td>\n",
       "      <td>2.0</td>\n",
       "      <td>2</td>\n",
       "      <td>0.500000</td>\n",
       "      <td>0.571429</td>\n",
       "    </tr>\n",
       "    <tr>\n",
       "      <th>1</th>\n",
       "      <td>Missing</td>\n",
       "      <td>2</td>\n",
       "      <td>1.0</td>\n",
       "      <td>1</td>\n",
       "      <td>0.500000</td>\n",
       "      <td>0.571429</td>\n",
       "    </tr>\n",
       "    <tr>\n",
       "      <th>2</th>\n",
       "      <td>O</td>\n",
       "      <td>3</td>\n",
       "      <td>2.0</td>\n",
       "      <td>1</td>\n",
       "      <td>0.666667</td>\n",
       "      <td>0.571429</td>\n",
       "    </tr>\n",
       "    <tr>\n",
       "      <th>3</th>\n",
       "      <td>Q</td>\n",
       "      <td>1</td>\n",
       "      <td>0.0</td>\n",
       "      <td>1</td>\n",
       "      <td>0.000000</td>\n",
       "      <td>0.571429</td>\n",
       "    </tr>\n",
       "    <tr>\n",
       "      <th>4</th>\n",
       "      <td>R</td>\n",
       "      <td>4</td>\n",
       "      <td>3.0</td>\n",
       "      <td>1</td>\n",
       "      <td>0.750000</td>\n",
       "      <td>0.571429</td>\n",
       "    </tr>\n",
       "  </tbody>\n",
       "</table>\n",
       "</div>"
      ],
      "text/plain": [
       "    Status  Total    Y  N      Odds  BaseOdds\n",
       "0        I      4  2.0  2  0.500000  0.571429\n",
       "1  Missing      2  1.0  1  0.500000  0.571429\n",
       "2        O      3  2.0  1  0.666667  0.571429\n",
       "3        Q      1  0.0  1  0.000000  0.571429\n",
       "4        R      4  3.0  1  0.750000  0.571429"
      ]
     },
     "execution_count": 44,
     "metadata": {},
     "output_type": "execute_result"
    }
   ],
   "source": [
    "join['BaseOdds'] = join['Y'].sum()/join['Total'].sum()\n",
    "join"
   ]
  },
  {
   "cell_type": "code",
   "execution_count": 45,
   "metadata": {
    "collapsed": false
   },
   "outputs": [
    {
     "data": {
      "text/html": [
       "<div>\n",
       "<style>\n",
       "    .dataframe thead tr:only-child th {\n",
       "        text-align: right;\n",
       "    }\n",
       "\n",
       "    .dataframe thead th {\n",
       "        text-align: left;\n",
       "    }\n",
       "\n",
       "    .dataframe tbody tr th {\n",
       "        vertical-align: top;\n",
       "    }\n",
       "</style>\n",
       "<table border=\"1\" class=\"dataframe\">\n",
       "  <thead>\n",
       "    <tr style=\"text-align: right;\">\n",
       "      <th></th>\n",
       "      <th>Status</th>\n",
       "      <th>Total</th>\n",
       "      <th>Y</th>\n",
       "      <th>N</th>\n",
       "      <th>Odds</th>\n",
       "      <th>BaseOdds</th>\n",
       "      <th>OddsRatio</th>\n",
       "    </tr>\n",
       "  </thead>\n",
       "  <tbody>\n",
       "    <tr>\n",
       "      <th>0</th>\n",
       "      <td>I</td>\n",
       "      <td>4</td>\n",
       "      <td>2.0</td>\n",
       "      <td>2</td>\n",
       "      <td>0.500000</td>\n",
       "      <td>0.571429</td>\n",
       "      <td>0.875000</td>\n",
       "    </tr>\n",
       "    <tr>\n",
       "      <th>1</th>\n",
       "      <td>Missing</td>\n",
       "      <td>2</td>\n",
       "      <td>1.0</td>\n",
       "      <td>1</td>\n",
       "      <td>0.500000</td>\n",
       "      <td>0.571429</td>\n",
       "      <td>0.875000</td>\n",
       "    </tr>\n",
       "    <tr>\n",
       "      <th>2</th>\n",
       "      <td>O</td>\n",
       "      <td>3</td>\n",
       "      <td>2.0</td>\n",
       "      <td>1</td>\n",
       "      <td>0.666667</td>\n",
       "      <td>0.571429</td>\n",
       "      <td>1.166667</td>\n",
       "    </tr>\n",
       "    <tr>\n",
       "      <th>3</th>\n",
       "      <td>Q</td>\n",
       "      <td>1</td>\n",
       "      <td>0.0</td>\n",
       "      <td>1</td>\n",
       "      <td>0.000000</td>\n",
       "      <td>0.571429</td>\n",
       "      <td>0.000000</td>\n",
       "    </tr>\n",
       "    <tr>\n",
       "      <th>4</th>\n",
       "      <td>R</td>\n",
       "      <td>4</td>\n",
       "      <td>3.0</td>\n",
       "      <td>1</td>\n",
       "      <td>0.750000</td>\n",
       "      <td>0.571429</td>\n",
       "      <td>1.312500</td>\n",
       "    </tr>\n",
       "  </tbody>\n",
       "</table>\n",
       "</div>"
      ],
      "text/plain": [
       "    Status  Total    Y  N      Odds  BaseOdds  OddsRatio\n",
       "0        I      4  2.0  2  0.500000  0.571429   0.875000\n",
       "1  Missing      2  1.0  1  0.500000  0.571429   0.875000\n",
       "2        O      3  2.0  1  0.666667  0.571429   1.166667\n",
       "3        Q      1  0.0  1  0.000000  0.571429   0.000000\n",
       "4        R      4  3.0  1  0.750000  0.571429   1.312500"
      ]
     },
     "execution_count": 45,
     "metadata": {},
     "output_type": "execute_result"
    }
   ],
   "source": [
    "join['OddsRatio'] = join['Odds']/join['BaseOdds']\n",
    "join"
   ]
  },
  {
   "cell_type": "markdown",
   "metadata": {},
   "source": [
    "# Reference\n",
    "* Ref : [Python & SQL](https://pandas.pydata.org/pandas-docs/stable/comparison_with_sql.html)"
   ]
  }
 ],
 "metadata": {
  "kernelspec": {
   "display_name": "Python 3",
   "language": "python",
   "name": "python3"
  },
  "language_info": {
   "codemirror_mode": {
    "name": "ipython",
    "version": 3
   },
   "file_extension": ".py",
   "mimetype": "text/x-python",
   "name": "python",
   "nbconvert_exporter": "python",
   "pygments_lexer": "ipython3",
   "version": "3.4.3"
  }
 },
 "nbformat": 4,
 "nbformat_minor": 0
}
