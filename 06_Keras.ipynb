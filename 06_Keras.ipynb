{
 "cells": [
  {
   "cell_type": "markdown",
   "metadata": {},
   "source": [
    "# [Keras](https://keras.io/)\n",
    "* Environment require **Python 3+**\n",
    "* Guide of how to do Deep learning with Keras module\n",
    "---"
   ]
  },
  {
   "cell_type": "markdown",
   "metadata": {},
   "source": [
    "## Before as a Deep Leaner... You Should Know...\n",
    "---\n",
    "## Artificial Neural Networks\n",
    "## [DNN - Deep Neural Network](https://www.slideshare.net/tw_dsconf/ss-70083878)\n",
    "* Fully Connected Neural Network \n",
    "* CNN (Convolution Neural Network)\n",
    "* RNN (Recurrent Neural Network)\n",
    "    * LSTM (Long Short-Term Memory)\n",
    "    * GRU (Gated Recurrent Unit)"
   ]
  },
  {
   "cell_type": "markdown",
   "metadata": {
    "collapsed": true
   },
   "source": [
    "## Shopping Windows of Deep Leanrning\n",
    "---"
   ]
  },
  {
   "cell_type": "markdown",
   "metadata": {
    "collapsed": true
   },
   "source": [
    "### Layers\n",
    "   * Input \n",
    "   * Hidden\n",
    "   * Output\n",
    "<img src=\"https://content-static.upwork.com/blog/uploads/sites/3/2017/06/27095907/image-26.png\"></img>\n",
    "\n",
    "### Batch Size\n",
    "  * Total/(Batch Size) = Weight Update Times per Epoch\n",
    "\n",
    "### Epoch\n",
    "  * Epoch * Total/(Batch Size) = Total Update Times\n",
    "\n",
    "### Vanishing/Exploding Gradient\n",
    "\n",
    "### [Weight Initializer](https://keras.io/initializers/#usage-of-initializers)\n",
    "\n",
    "### [Activation Function](https://keras.io/activations/)\n",
    "  * Sigmoid \n",
    "      * ★ **act='sigmoid'**\n",
    "  * Relu, Elu \n",
    "      * ★ **act='relu'**\n",
    "  * Elu \n",
    "      * ★ **act='elu'**\n",
    "  * Hyperbolic Tangent \n",
    "      * ★ **act='tanh'**\n",
    "  * Softmax \n",
    "      * ★ **act='softmax'**... \n",
    "  \n",
    "\n",
    "       \n",
    "### [Gradient Optimizer](https://keras.io/optimizers/)\n",
    "\n",
    "  * SDG \n",
    "      * ★ **optimizer = SGD()**\n",
    "  * Momenetum Optmization \n",
    "      * ★ **optimizer = SGD(momentum=0.5)**\n",
    "  * NAG (Nesterove Accelerated Gradient) \n",
    "      * ★ **optimizer = SGD(momentum=0.5, nesterov=True)**\n",
    "  * AdaGrad \n",
    "      * ★ **optimizer = Adagrad()**\n",
    "  * RMSProp \n",
    "      * ★ **optimizer = RMSprop()**\n",
    "  * Adam\n",
    "      * ★ **optimizer = Adam()**\n",
    "  \n",
    "  <img src='http://2.bp.blogspot.com/-q6l20Vs4P_w/VPmIC7sEhnI/AAAAAAAACC4/g3UOUX2r_yA/s400/s25RsOr%2B-%2BImgur.gif' height='50' width='500'></img> \n",
    "<img src='http://1.bp.blogspot.com/-K_X-yud8nj8/VPmIBxwGlsI/AAAAAAAACC0/JS-h1fa09EQ/s400/Saddle%2BPoint%2B-%2BImgur.gif' height='50' width='600'></img>\n",
    "\n",
    "\n",
    "\n",
    "### [Learning Rate](https://medium.com/towards-data-science/learning-rate-schedules-and-adaptive-learning-rate-methods-for-deep-learning-2c8f433990d1)\n",
    "  * [Learning Rate Scheduling](https://machinelearningmastery.com/using-learning-rate-schedules-deep-learning-models-python-keras/)\n",
    "  <img src='https://cdn-images-1.medium.com/max/1600/1*OjcTfMw6dmOmP4lRE7Ud-A.jpeg' height='50' width='900'></img>\n",
    "  \n",
    "\n",
    "### [Loss & Cost Function](https://keras.io/losses/#usage-of-loss-functions)\n",
    "   * binary_crossentropy \n",
    "       * ★ **loss='binary_crossentropy'**\n",
    "   * categorical_crossentropy \n",
    "       * ★ **loss='categorical_crossentropy'**\n",
    "   * mean_squared_error \n",
    "       * ★ **loss='mean_squared_error'**\n",
    "       \n",
    "### [Accuracy](https://keras.io/metrics/#usage-of-metrics)\n",
    "\n",
    "\n",
    "### Conquer Over Fitting\n",
    "   * [Drop Out](https://keras.io/layers/core/#dropout) \n",
    "       * ★ **Dropout(0.5)**\n",
    "   * [Early Stopping](https://keras.io/callbacks/)\n",
    "       * ★ EarlyStopping(monitor = 'val_loss', patience = 3)\n",
    "   * [l1 & l2 Weight Regularization](https://keras.io/regularizers/)\n",
    "   * [Max-Norm Regularization](https://keras.io/constraints/#available-constraints)\n",
    "   * [Data Augmentation](https://keras.io/preprocessing/image/)\n",
    "\n",
    "## Others\n",
    "* Reusing Pretrained Layers\n",
    "* Freezing Lower Layer\n",
    "* Transfer Learning\n",
    "* Semi-supervised Learning"
   ]
  },
  {
   "cell_type": "markdown",
   "metadata": {
    "collapsed": true
   },
   "source": [
    "# Let's Keras"
   ]
  },
  {
   "cell_type": "code",
   "execution_count": 55,
   "metadata": {
    "collapsed": false
   },
   "outputs": [],
   "source": [
    "%matplotlib inline\n",
    "\n",
    "import pandas as pd\n",
    "import numpy as np\n",
    "import matplotlib.pyplot as plt\n",
    "#from sklearn.datasets import make_blobs, make_circles\n",
    "from sklearn.model_selection import train_test_split\n",
    "from keras.models import Sequential\n",
    "from keras.layers import Dense, Activation, Dropout\n",
    "from keras.callbacks import EarlyStopping\n",
    "from keras.optimizers import SGD, RMSprop, Adagrad, Adam\n",
    "from keras.utils import np_utils\n",
    "from sklearn import preprocessing"
   ]
  },
  {
   "cell_type": "code",
   "execution_count": 4,
   "metadata": {
    "collapsed": false
   },
   "outputs": [],
   "source": [
    "def plot_AccLoss(his):\n",
    "    for k, v in his.history.items():\n",
    "        if (k == 'acc') | (k == 'val_acc'):\n",
    "            plt.subplot(211)\n",
    "            v = np.array(historyA.history[k])*100\n",
    "            if k == 'acc': \n",
    "                label = 'Train Acc. = {}'.format(v[-1])\n",
    "                plt.plot(range(len(v)), v, label=label, color='red')\n",
    "            if k == 'val_acc': \n",
    "                label = 'Validation Acc. = {}'.format(v[-1])\n",
    "                plt.plot(range(len(v)), v, label=label, color='green')\n",
    "            plt.xlabel(\"Epochs\")\n",
    "            plt.ylabel(\"Accuracy %\")\n",
    "            plt.legend()\n",
    "        if (k == 'loss') | (k == 'val_loss'):\n",
    "            plt.subplot(212)\n",
    "            v = historyA.history[k]\n",
    "            if k == 'loss': \n",
    "                label = 'Train Loss. = {}'.format(v[-1])\n",
    "                plt.plot(range(len(v)), v, label=label, color='red')\n",
    "            if k == 'val_loss': \n",
    "                label = 'Validation Loss. = {}'.format(v[-1])\n",
    "                plt.plot(range(len(v)), v, label=label, color='green')\n",
    "            plt.xlabel(\"Epochs\")\n",
    "            plt.ylabel(\"Loss %\")\n",
    "            plt.legend()\n",
    "        plt.tight_layout()"
   ]
  },
  {
   "cell_type": "markdown",
   "metadata": {},
   "source": [
    "# DNN - Deep Neural Network"
   ]
  },
  {
   "cell_type": "markdown",
   "metadata": {},
   "source": [
    "* Load Data Set"
   ]
  },
  {
   "cell_type": "code",
   "execution_count": 5,
   "metadata": {
    "collapsed": false
   },
   "outputs": [
    {
     "name": "stdout",
     "output_type": "stream",
     "text": [
      "★ Training size : Testing size =  614 : 154\n",
      "\tDimension of Xtr =  2\n",
      "\tShape of Xtr =  (614, 8)\n",
      "\tDimension of ytr =  2\n",
      "\tShape of ytr =  (614, 2)\n"
     ]
    }
   ],
   "source": [
    "# load dataset\n",
    "var = ['preg', 'plas', 'pres', 'skin', 'test', 'mass', 'pedi', 'age', 'class']\n",
    "df = pd.read_csv('DataBase/ForModelCamparison.csv', names=var)\n",
    "array = df.values\n",
    "\n",
    "Features = array[:,0:8]\n",
    "MinMax_Scale = preprocessing.MinMaxScaler(feature_range=(0,1))\n",
    "X = MinMax_Scale.fit_transform(Features)\n",
    "y = np_utils.to_categorical(array[:,8])\n",
    "\n",
    "Xtr, Xte, ytr, yte = train_test_split(X, y, test_size=0.20)\n",
    "print('★ Training size : Testing size = ', len(ytr), ':', len(yte))\n",
    "print('\\tDimension of Xtr = ', Xtr.ndim)\n",
    "print('\\tShape of Xtr = ', Xtr.shape)\n",
    "print('\\tDimension of ytr = ', ytr.ndim)\n",
    "print('\\tShape of ytr = ', ytr.shape)"
   ]
  },
  {
   "cell_type": "code",
   "execution_count": 57,
   "metadata": {
    "collapsed": false
   },
   "outputs": [
    {
     "name": "stdout",
     "output_type": "stream",
     "text": [
      " 32/154 [=====>........................] - ETA: 1s\n",
      "Test set accuracy:  66.2337660789\n",
      "Test set loss:  0.226620495319\n"
     ]
    },
    {
     "data": {
      "image/png": "[encoded data removed]",
      "text/plain": [
       "<matplotlib.figure.Figure at 0x7f09bee2eac8>"
      ]
     },
     "metadata": {},
     "output_type": "display_data"
    }
   ],
   "source": [
    "modelA = Sequential()\n",
    "\n",
    "modelA.add(Dense(100, input_dim=8))\n",
    "modelA.add(Activation('relu'))\n",
    "# modelA.add(Dropout(0.5))\n",
    "\n",
    "modelA.add(Dense(40))\n",
    "modelA.add(Activation('relu'))\n",
    "# modelA.add(Dropout(0.5))\n",
    "\n",
    "modelA.add(Dense(2))\n",
    "modelA.add(Activation('softmax'))\n",
    "\n",
    "modelA.compile(loss='mean_squared_error',\n",
    "               optimizer=SGD(lr=0.01, momentum=0.5, nesterov=True),\n",
    "               metrics=['accuracy'])\n",
    "\n",
    "# earlyStop = EarlyStopping(monitor = 'val_loss', patience = 3)\n",
    "\n",
    "\n",
    "historyA = modelA.fit(Xtr, ytr, epochs=100,\n",
    "                      batch_size=32, verbose=0,\n",
    "                      validation_split=0.8,\n",
    "                      # callbacks=[earlyStop]\n",
    "                     )\n",
    "\n",
    "resultA = modelA.evaluate(Xte, yte, verbose=0)\n",
    "resultA_prob = modelA.predict_proba(Xte)\n",
    "\n",
    "print('\\nTest set accuracy: ', resultA[1]*100)\n",
    "print('Test set loss: ', resultA[0])\n",
    "\n",
    "plot_AccLoss(historyA)"
   ]
  },
  {
   "cell_type": "code",
   "execution_count": 58,
   "metadata": {
    "collapsed": false
   },
   "outputs": [
    {
     "name": "stdout",
     "output_type": "stream",
     "text": [
      "_________________________________________________________________\n",
      "Layer (type)                 Output Shape              Param #   \n",
      "=================================================================\n",
      "dense_61 (Dense)             (None, 100)               900       \n",
      "_________________________________________________________________\n",
      "activation_61 (Activation)   (None, 100)               0         \n",
      "_________________________________________________________________\n",
      "dense_62 (Dense)             (None, 40)                4040      \n",
      "_________________________________________________________________\n",
      "activation_62 (Activation)   (None, 40)                0         \n",
      "_________________________________________________________________\n",
      "dense_63 (Dense)             (None, 2)                 82        \n",
      "_________________________________________________________________\n",
      "activation_63 (Activation)   (None, 2)                 0         \n",
      "=================================================================\n",
      "Total params: 5,022\n",
      "Trainable params: 5,022\n",
      "Non-trainable params: 0\n",
      "_________________________________________________________________\n"
     ]
    }
   ],
   "source": [
    "modelA.summary()"
   ]
  },
  {
   "cell_type": "markdown",
   "metadata": {},
   "source": [
    "## Save Model as File"
   ]
  },
  {
   "cell_type": "markdown",
   "metadata": {},
   "source": [
    "* Saving/loading weight only"
   ]
  },
  {
   "cell_type": "code",
   "execution_count": 25,
   "metadata": {
    "collapsed": false
   },
   "outputs": [],
   "source": [
    "from keras.models import load_model"
   ]
  },
  {
   "cell_type": "code",
   "execution_count": 26,
   "metadata": {
    "collapsed": false
   },
   "outputs": [],
   "source": [
    "modelA.save_weights('Models/DNN_modelA.h5')"
   ]
  },
  {
   "cell_type": "code",
   "execution_count": 27,
   "metadata": {
    "collapsed": false
   },
   "outputs": [
    {
     "data": {
      "text/plain": [
       "<keras.models.Sequential at 0x7f09f4394d30>"
      ]
     },
     "execution_count": 27,
     "metadata": {},
     "output_type": "execute_result"
    }
   ],
   "source": [
    "modelA.load_weights('Models/DNN_modelA.h5')\n",
    "modelA"
   ]
  },
  {
   "cell_type": "markdown",
   "metadata": {},
   "source": [
    "* Saving/loading whole models (architecture + weights + optimizer state)"
   ]
  },
  {
   "cell_type": "code",
   "execution_count": 40,
   "metadata": {
    "collapsed": false
   },
   "outputs": [],
   "source": [
    "modelA.save('Models/Keras/DNN_modelA.h5')"
   ]
  },
  {
   "cell_type": "code",
   "execution_count": 41,
   "metadata": {
    "collapsed": true
   },
   "outputs": [],
   "source": [
    "modelA_Load = load_model('Models/Keras/DNN_modelA.h5')"
   ]
  },
  {
   "cell_type": "markdown",
   "metadata": {},
   "source": [
    "## Evaluate With New Data"
   ]
  },
  {
   "cell_type": "code",
   "execution_count": 42,
   "metadata": {
    "collapsed": false
   },
   "outputs": [
    {
     "name": "stdout",
     "output_type": "stream",
     "text": [
      "New set accuracy:  66.2337660789\n",
      "New set loss:  0.22765758982\n"
     ]
    }
   ],
   "source": [
    "resultA_Load = modelA_Load.evaluate(Xte, yte, verbose=0)\n",
    "print('New set accuracy: ', resultA_Load[1]*100)\n",
    "print('New set loss: ', resultA_Load[0])"
   ]
  },
  {
   "cell_type": "code",
   "execution_count": 43,
   "metadata": {
    "collapsed": false
   },
   "outputs": [
    {
     "name": "stdout",
     "output_type": "stream",
     "text": [
      "\r",
      " 32/154 [=====>........................] - ETA: 0s"
     ]
    }
   ],
   "source": [
    "# Predict\n",
    "resultA_Load_prob = modelA_Load.predict_proba(Xte)"
   ]
  },
  {
   "cell_type": "markdown",
   "metadata": {},
   "source": [
    "* Sections Evaluate *(**PredValue** & **TrueValue** could be arrary or list)*"
   ]
  },
  {
   "cell_type": "code",
   "execution_count": 44,
   "metadata": {
    "collapsed": false
   },
   "outputs": [],
   "source": [
    "import pandas as pd\n",
    "TrueValue = yte[:,1]\n",
    "PredValue = resultA_Load_prob[:, 1]"
   ]
  },
  {
   "cell_type": "code",
   "execution_count": 45,
   "metadata": {
    "collapsed": false
   },
   "outputs": [],
   "source": [
    "def Section14Eval(PredValue, TrueValue):\n",
    "    df = pd.DataFrame({'Predict':['A_100_95','B_94-90','C_89-85','D_84-80','E_79-75','F_74-70','G_69-60',\n",
    "                                  'H_59_50','I_49-40','J_39-30','K_29-20','L_19-10','M_09-05','N_04-00']})\n",
    "    t = np.zeros(14, dtype=int)\n",
    "    y = np.zeros(14, dtype=int)\n",
    "    for i in range(0, len(PredValue)):\n",
    "        if ((PredValue[i]<=1.0) & (PredValue[i]>=0.95)):\n",
    "            t[0] = t[0]+1\n",
    "            if TrueValue[i]==1:\n",
    "                y[0] = y[0]+1\n",
    "        elif ((PredValue[i]<0.95) & (PredValue[i]>=0.90)):\n",
    "            t[1] = t[1]+1\n",
    "            if TrueValue[i]==1:\n",
    "                y[1] = y[1]+1\n",
    "        elif ((PredValue[i]<0.90) & (PredValue[i]>=0.85)):\n",
    "            t[2] = t[2]+1\n",
    "            if TrueValue[i]==1:\n",
    "                y[2] = y[2]+1\n",
    "        elif ((PredValue[i]<0.85) & (PredValue[i]>=0.80)):\n",
    "            t[3] = t[3]+1\n",
    "            if TrueValue[i]==1:\n",
    "                y[3] = y[3]+1\n",
    "        elif ((PredValue[i]<0.80) & (PredValue[i]>=0.75)):\n",
    "            t[4] = t[4]+1\n",
    "            if TrueValue[i]==1:\n",
    "                y[4] = y[4]+1\n",
    "        elif ((PredValue[i]<0.75) & (PredValue[i]>=0.70)):\n",
    "            t[5] = t[5]+1\n",
    "            if TrueValue[i]==1:\n",
    "                y[5] = y[5]+1\n",
    "        elif ((PredValue[i]<0.70) & (PredValue[i]>=0.60)):\n",
    "            t[6] = t[6]+1\n",
    "            if TrueValue[i]==1:\n",
    "                y[6] = y[6]+1\n",
    "        elif ((PredValue[i]<0.60) & (PredValue[i]>=0.50)):\n",
    "            t[7] = t[7]+1\n",
    "            if TrueValue[i]==1:\n",
    "                y[7] = y[7]+1\n",
    "        elif ((PredValue[i]<0.50) & (PredValue[i]>=0.40)):\n",
    "            t[8] = t[8]+1\n",
    "            if TrueValue[i]==1:\n",
    "                y[8] = y[8]+1\n",
    "        elif ((PredValue[i]<0.40) & (PredValue[i]>=0.30)):\n",
    "            t[9] = t[9]+1\n",
    "            if TrueValue[i]==1:\n",
    "                y[9] = y[9]+1\n",
    "        elif ((PredValue[i]<0.30) & (PredValue[i]>=0.20)):\n",
    "            t[10] = t[10]+1\n",
    "            if TrueValue[i]==1:\n",
    "                y[10] = y[10]+1\n",
    "        elif ((PredValue[i]<0.20) & (PredValue[i]>=0.10)):\n",
    "            t[11] = t[11]+1\n",
    "            if TrueValue[i]==1:\n",
    "                y[11] = y[11]+1\n",
    "        elif ((PredValue[i]<0.10) & (PredValue[i]>=0.5)):\n",
    "            t[12] = t[12]+1\n",
    "            if TrueValue[i]==1:\n",
    "                y[12] = y[12]+1\n",
    "        else:\n",
    "            t[13] = t[13]+1\n",
    "            if TrueValue[i]==1:\n",
    "                y[13] = y[13]+1\n",
    "    df['Total'] = t\n",
    "    df['True Y'] = y\n",
    "    df['True N'] = df['Total']-df['True Y']\n",
    "    return df"
   ]
  },
  {
   "cell_type": "code",
   "execution_count": 46,
   "metadata": {
    "collapsed": false
   },
   "outputs": [
    {
     "data": {
      "text/html": [
       "<div>\n",
       "<style>\n",
       "    .dataframe thead tr:only-child th {\n",
       "        text-align: right;\n",
       "    }\n",
       "\n",
       "    .dataframe thead th {\n",
       "        text-align: left;\n",
       "    }\n",
       "\n",
       "    .dataframe tbody tr th {\n",
       "        vertical-align: top;\n",
       "    }\n",
       "</style>\n",
       "<table border=\"1\" class=\"dataframe\">\n",
       "  <thead>\n",
       "    <tr style=\"text-align: right;\">\n",
       "      <th></th>\n",
       "      <th>Predict</th>\n",
       "      <th>Total</th>\n",
       "      <th>True Y</th>\n",
       "      <th>True N</th>\n",
       "    </tr>\n",
       "  </thead>\n",
       "  <tbody>\n",
       "    <tr>\n",
       "      <th>0</th>\n",
       "      <td>A_100_95</td>\n",
       "      <td>0</td>\n",
       "      <td>0</td>\n",
       "      <td>0</td>\n",
       "    </tr>\n",
       "    <tr>\n",
       "      <th>1</th>\n",
       "      <td>B_94-90</td>\n",
       "      <td>0</td>\n",
       "      <td>0</td>\n",
       "      <td>0</td>\n",
       "    </tr>\n",
       "    <tr>\n",
       "      <th>2</th>\n",
       "      <td>C_89-85</td>\n",
       "      <td>0</td>\n",
       "      <td>0</td>\n",
       "      <td>0</td>\n",
       "    </tr>\n",
       "    <tr>\n",
       "      <th>3</th>\n",
       "      <td>D_84-80</td>\n",
       "      <td>0</td>\n",
       "      <td>0</td>\n",
       "      <td>0</td>\n",
       "    </tr>\n",
       "    <tr>\n",
       "      <th>4</th>\n",
       "      <td>E_79-75</td>\n",
       "      <td>0</td>\n",
       "      <td>0</td>\n",
       "      <td>0</td>\n",
       "    </tr>\n",
       "    <tr>\n",
       "      <th>5</th>\n",
       "      <td>F_74-70</td>\n",
       "      <td>0</td>\n",
       "      <td>0</td>\n",
       "      <td>0</td>\n",
       "    </tr>\n",
       "    <tr>\n",
       "      <th>6</th>\n",
       "      <td>G_69-60</td>\n",
       "      <td>0</td>\n",
       "      <td>0</td>\n",
       "      <td>0</td>\n",
       "    </tr>\n",
       "    <tr>\n",
       "      <th>7</th>\n",
       "      <td>H_59_50</td>\n",
       "      <td>0</td>\n",
       "      <td>0</td>\n",
       "      <td>0</td>\n",
       "    </tr>\n",
       "    <tr>\n",
       "      <th>8</th>\n",
       "      <td>I_49-40</td>\n",
       "      <td>3</td>\n",
       "      <td>1</td>\n",
       "      <td>2</td>\n",
       "    </tr>\n",
       "    <tr>\n",
       "      <th>9</th>\n",
       "      <td>J_39-30</td>\n",
       "      <td>16</td>\n",
       "      <td>10</td>\n",
       "      <td>6</td>\n",
       "    </tr>\n",
       "    <tr>\n",
       "      <th>10</th>\n",
       "      <td>K_29-20</td>\n",
       "      <td>84</td>\n",
       "      <td>35</td>\n",
       "      <td>49</td>\n",
       "    </tr>\n",
       "    <tr>\n",
       "      <th>11</th>\n",
       "      <td>L_19-10</td>\n",
       "      <td>50</td>\n",
       "      <td>6</td>\n",
       "      <td>44</td>\n",
       "    </tr>\n",
       "    <tr>\n",
       "      <th>12</th>\n",
       "      <td>M_09-05</td>\n",
       "      <td>0</td>\n",
       "      <td>0</td>\n",
       "      <td>0</td>\n",
       "    </tr>\n",
       "    <tr>\n",
       "      <th>13</th>\n",
       "      <td>N_04-00</td>\n",
       "      <td>1</td>\n",
       "      <td>0</td>\n",
       "      <td>1</td>\n",
       "    </tr>\n",
       "  </tbody>\n",
       "</table>\n",
       "</div>"
      ],
      "text/plain": [
       "     Predict  Total  True Y  True N\n",
       "0   A_100_95      0       0       0\n",
       "1    B_94-90      0       0       0\n",
       "2    C_89-85      0       0       0\n",
       "3    D_84-80      0       0       0\n",
       "4    E_79-75      0       0       0\n",
       "5    F_74-70      0       0       0\n",
       "6    G_69-60      0       0       0\n",
       "7    H_59_50      0       0       0\n",
       "8    I_49-40      3       1       2\n",
       "9    J_39-30     16      10       6\n",
       "10   K_29-20     84      35      49\n",
       "11   L_19-10     50       6      44\n",
       "12   M_09-05      0       0       0\n",
       "13   N_04-00      1       0       1"
      ]
     },
     "execution_count": 46,
     "metadata": {},
     "output_type": "execute_result"
    }
   ],
   "source": [
    "Section14Eval(PredValue, TrueValue)"
   ]
  },
  {
   "cell_type": "code",
   "execution_count": 35,
   "metadata": {
    "collapsed": false
   },
   "outputs": [],
   "source": [
    "def Section2Eval(PredValue, TrueValue, cutoff=0.5):\n",
    "    df = pd.DataFrame({})\n",
    "    y_hat = PredValue>=cutoff\n",
    "    y_actual = TrueValue \n",
    "    TP, FP, TN, FN = [0, 0, 0, 0]\n",
    "    FN = 0\n",
    "    for i in range(len(y_hat)): \n",
    "        if y_actual[i]==y_hat[i]==1:\n",
    "           TP += 1\n",
    "    for i in range(len(y_hat)): \n",
    "        if y_hat[i]==1 and y_actual[i]!=y_hat[i]:\n",
    "           FP += 1\n",
    "    for i in range(len(y_hat)): \n",
    "        if y_actual[i]==y_hat[i]==0:\n",
    "           TN += 1\n",
    "    for i in range(len(y_hat)): \n",
    "        if y_hat[i]==0 and y_actual[i]!=y_hat[i]:\n",
    "           FN += 1\n",
    "    df['True Y'] = [TP, FN]\n",
    "    df['True N'] = [FP, TN]\n",
    "    df.index=['Predict Y','Predict N']\n",
    "    return  'Sen.:{:.4f}'.format(TP/(TP+FP*1.0+0.00001)),\\\n",
    "            'PPV.:{:.4f}'.format(TP/(TP+FN*1.0+0.00001)), \\\n",
    "            'Spe.:{:.4f}'.format(TN/(TN+FN*1.0+0.00001)),\\\n",
    "            'NPV.:{:.4f}'.format(TN/(TN+FP*1.0+0.00001)),\\\n",
    "            df"
   ]
  },
  {
   "cell_type": "code",
   "execution_count": 36,
   "metadata": {
    "collapsed": false
   },
   "outputs": [
    {
     "name": "stdout",
     "output_type": "stream",
     "text": [
      "Sen.:0.0000 PPV.:0.0000 Spe.:0.6623 NPV.:1.0000\n"
     ]
    },
    {
     "data": {
      "text/html": [
       "<div>\n",
       "<style>\n",
       "    .dataframe thead tr:only-child th {\n",
       "        text-align: right;\n",
       "    }\n",
       "\n",
       "    .dataframe thead th {\n",
       "        text-align: left;\n",
       "    }\n",
       "\n",
       "    .dataframe tbody tr th {\n",
       "        vertical-align: top;\n",
       "    }\n",
       "</style>\n",
       "<table border=\"1\" class=\"dataframe\">\n",
       "  <thead>\n",
       "    <tr style=\"text-align: right;\">\n",
       "      <th></th>\n",
       "      <th>True Y</th>\n",
       "      <th>True N</th>\n",
       "    </tr>\n",
       "  </thead>\n",
       "  <tbody>\n",
       "    <tr>\n",
       "      <th>Predict Y</th>\n",
       "      <td>0</td>\n",
       "      <td>0</td>\n",
       "    </tr>\n",
       "    <tr>\n",
       "      <th>Predict N</th>\n",
       "      <td>52</td>\n",
       "      <td>102</td>\n",
       "    </tr>\n",
       "  </tbody>\n",
       "</table>\n",
       "</div>"
      ],
      "text/plain": [
       "           True Y  True N\n",
       "Predict Y       0       0\n",
       "Predict N      52     102"
      ]
     },
     "execution_count": 36,
     "metadata": {},
     "output_type": "execute_result"
    }
   ],
   "source": [
    "Sen,PPV,Spe,NPV,df= Section2Eval(PredValue,TrueValue,cutoff=0.5)\n",
    "print(Sen,PPV,Spe,NPV)\n",
    "df"
   ]
  },
  {
   "cell_type": "markdown",
   "metadata": {},
   "source": [
    "# CNN - Convolution Neural Network\n",
    "### [Convolution Layer](https://keras.io/layers/convolutional/)/Stride\n",
    "<a href='https://deeplearning4j.org/convolutionalnets.html'>Show action</a>\n",
    "<img src='https://deeplearning4j.org/img/karpathy-convnet-labels.png' heights='200' width='600'></img>\n",
    "\n",
    "\n",
    "### [Pooling Layer](https://keras.io/layers/pooling/)\n",
    "<img src='http://d3kbpzbmcynnmx.cloudfront.net/wp-content/uploads/2015/11/Screen-Shot-2015-11-05-at-2.18.38-PM.png' heights='300' width='500'></img>\n",
    "\n",
    "### Stride\n",
    "* Stride = 1\n",
    "<img src='https://adeshpande3.github.io/assets/Stride1.png' heights='200' width='600'></img>\n",
    "* Stride = 2\n",
    "<img src='https://adeshpande3.github.io/assets/Stride2.png' heights='200' width='600'></img>\n",
    "\n",
    "## Question?\n",
    "* 9 $*$ 9 fiter with 3 $*$ 3 Stride 1 = ?\n",
    "* 9 $*$ 9 fiter wtih 3 $*$ 3 Stride 2 = ?"
   ]
  },
  {
   "cell_type": "markdown",
   "metadata": {},
   "source": [
    "* Load Data Set"
   ]
  },
  {
   "cell_type": "code",
   "execution_count": 60,
   "metadata": {
    "collapsed": true
   },
   "outputs": [],
   "source": [
    "from tensorflow.examples.tutorials.mnist import input_data\n",
    "from keras.layers.core import Dense, Dropout, Activation\n",
    "from keras.layers import Conv2D, MaxPool2D, AveragePooling2D, Flatten\n",
    "import matplotlib.pyplot as plt"
   ]
  },
  {
   "cell_type": "code",
   "execution_count": 61,
   "metadata": {
    "collapsed": false
   },
   "outputs": [
    {
     "name": "stdout",
     "output_type": "stream",
     "text": [
      "Extracting DataBase/train-images-idx3-ubyte.gz\n",
      "Extracting DataBase/train-labels-idx1-ubyte.gz\n",
      "Extracting DataBase/t10k-images-idx3-ubyte.gz\n",
      "Extracting DataBase/t10k-labels-idx1-ubyte.gz\n"
     ]
    }
   ],
   "source": [
    "mnist = input_data.read_data_sets(\"DataBase/\")\n",
    "X_train = mnist.train.images\n",
    "y_train = mnist.train.labels\n",
    "X_test = mnist.test.images\n",
    "y_test = mnist.test.labels"
   ]
  },
  {
   "cell_type": "code",
   "execution_count": 62,
   "metadata": {
    "collapsed": false
   },
   "outputs": [
    {
     "name": "stdout",
     "output_type": "stream",
     "text": [
      "★ Shape of train data =  (55000, 784)\n",
      "★ Shape of test data =  (10000, 784)\n",
      "★ X look like:\n",
      " [[ 0.  0.  0. ...,  0.  0.  0.]\n",
      " [ 0.  0.  0. ...,  0.  0.  0.]\n",
      " [ 0.  0.  0. ...,  0.  0.  0.]\n",
      " ..., \n",
      " [ 0.  0.  0. ...,  0.  0.  0.]\n",
      " [ 0.  0.  0. ...,  0.  0.  0.]\n",
      " [ 0.  0.  0. ...,  0.  0.  0.]]\n",
      "★ y look like:\n",
      " [7 2 1 ..., 4 5 6]\n"
     ]
    }
   ],
   "source": [
    "print('★ Shape of train data = ', X_train.shape)\n",
    "print('★ Shape of test data = ', X_test.shape)\n",
    "print('★ X look like:\\n',X_test)\n",
    "print('★ y look like:\\n', y_test)"
   ]
  },
  {
   "cell_type": "code",
   "execution_count": 63,
   "metadata": {
    "collapsed": false
   },
   "outputs": [
    {
     "name": "stdout",
     "output_type": "stream",
     "text": [
      "★ Shape of X_tr =  (55000, 28, 28, 1)\n"
     ]
    }
   ],
   "source": [
    "X_tr = X_train.reshape(55000, 28, 28, 1).astype('float32')\n",
    "X_te = X_test.reshape(10000, 28, 28, 1).astype('float32')\n",
    "print('★ Shape of X_tr = ',X_tr.shape)"
   ]
  },
  {
   "cell_type": "code",
   "execution_count": 64,
   "metadata": {
    "collapsed": false
   },
   "outputs": [
    {
     "name": "stdout",
     "output_type": "stream",
     "text": [
      "Answer =  0\n"
     ]
    },
    {
     "data": {
      "image/png": "[encoded data removed]",
      "text/plain": [
       "<matplotlib.figure.Figure at 0x7f09bf275240>"
      ]
     },
     "metadata": {},
     "output_type": "display_data"
    }
   ],
   "source": [
    "X_tr_img = X_train.reshape(55000, 28, 28).astype('float32')\n",
    "plt.imshow(X_tr_img[10])\n",
    "print('Answer = ', y_train[10])"
   ]
  },
  {
   "cell_type": "markdown",
   "metadata": {},
   "source": [
    "* Category variable 1 hot transformation"
   ]
  },
  {
   "cell_type": "code",
   "execution_count": 65,
   "metadata": {
    "collapsed": true
   },
   "outputs": [],
   "source": [
    "y_tr_1h = np_utils.to_categorical(y_train, 10)\n",
    "y_te_1h = np_utils.to_categorical(y_test, 10)"
   ]
  },
  {
   "cell_type": "code",
   "execution_count": 69,
   "metadata": {
    "collapsed": false
   },
   "outputs": [
    {
     "name": "stdout",
     "output_type": "stream",
     "text": [
      "Train on 55000 samples, validate on 10000 samples\n",
      "Epoch 1/2\n",
      "55000/55000 [==============================] - 508s - loss: 0.4458 - acc: 0.8571 - val_loss: 0.1441 - val_acc: 0.9572\n",
      "Epoch 2/2\n",
      "55000/55000 [==============================] - 515s - loss: 0.1670 - acc: 0.9498 - val_loss: 0.0848 - val_acc: 0.9742\n",
      " 9984/10000 [============================>.] - ETA: 0s\n",
      "Test set accuracy:  97.42\n",
      "Test set loss:  0.0847954378963\n"
     ]
    },
    {
     "data": {
      "image/png": "[encoded data removed]",
      "text/plain": [
       "<matplotlib.figure.Figure at 0x7f09bebf8b70>"
      ]
     },
     "metadata": {},
     "output_type": "display_data"
    }
   ],
   "source": [
    "modelB = Sequential()\n",
    "\n",
    "modelB.add(Conv2D(300, (2, 2),\n",
    "                 padding='same',\n",
    "                 input_shape=(28, 28, 1),\n",
    "                 activation='relu'))\n",
    "modelB.add(MaxPool2D(pool_size=(2, 2)))\n",
    "modelB.add(Dropout(0.5))\n",
    "\n",
    "modelB.add(Conv2D(50, (2, 2), \n",
    "                 padding='same',\n",
    "                 activation='relu'))\n",
    "modelB.add(MaxPool2D(pool_size=(2, 2)))\n",
    "modelB.add(Dropout(0.5))\n",
    "\n",
    "modelB.add(Flatten())\n",
    "modelB.add(Dense(10, activation='softmax'))\n",
    "\n",
    "modelB.compile(loss='categorical_crossentropy',\n",
    "              optimizer=RMSprop(),\n",
    "              metrics=['accuracy'])\n",
    "\n",
    "# Fit your model\n",
    "historyB = modelB.fit(X_tr, y_tr_1h, epochs=2,\n",
    "                     batch_size=200, verbose=1,\n",
    "                     validation_data=(X_te, y_te_1h),\n",
    "                     shuffle=True)\n",
    "\n",
    "\n",
    "resultB = modelB.evaluate(X_te, y_te_1h, verbose=0)\n",
    "resultB_prob = modelB.predict_proba(X_te)\n",
    "\n",
    "print('\\nTest set accuracy: ', resultB[1]*100)\n",
    "print('Test set loss: ', resultB[0])\n",
    "\n",
    "plot_AccLoss(historyB)"
   ]
  },
  {
   "cell_type": "code",
   "execution_count": 151,
   "metadata": {
    "collapsed": true
   },
   "outputs": [],
   "source": [
    "modelB.save('Models/Keras/DNN_modelB.h5')"
   ]
  },
  {
   "cell_type": "code",
   "execution_count": 147,
   "metadata": {
    "collapsed": true
   },
   "outputs": [],
   "source": [
    "modelB_Load = load_model('Models/Keras/DNN_modelB.h5')"
   ]
  },
  {
   "cell_type": "code",
   "execution_count": 148,
   "metadata": {
    "collapsed": false
   },
   "outputs": [
    {
     "name": "stdout",
     "output_type": "stream",
     "text": [
      "New set accuracy:  97.54\n",
      "New set loss:  0.0737456482816\n"
     ]
    }
   ],
   "source": [
    "resultB_Load = modelB_Load.evaluate(X_te, y_te_1h, verbose=0)\n",
    "print('New set accuracy: ', resultB_Load[1]*100)\n",
    "print('New set loss: ', resultB_Load[0])"
   ]
  },
  {
   "cell_type": "markdown",
   "metadata": {},
   "source": [
    "## RNN - Recurrent Neural Network"
   ]
  },
  {
   "cell_type": "markdown",
   "metadata": {},
   "source": [
    "## GRU - Gated Recurrent Unit"
   ]
  },
  {
   "cell_type": "markdown",
   "metadata": {},
   "source": [
    "## LSTM - Long Short-Term Memory"
   ]
  },
  {
   "cell_type": "code",
   "execution_count": null,
   "metadata": {
    "collapsed": true
   },
   "outputs": [],
   "source": [
    "Lab07"
   ]
  }
 ],
 "metadata": {
  "kernelspec": {
   "display_name": "Python 3",
   "language": "python",
   "name": "python3"
  },
  "language_info": {
   "codemirror_mode": {
    "name": "ipython",
    "version": 3
   },
   "file_extension": ".py",
   "mimetype": "text/x-python",
   "name": "python",
   "nbconvert_exporter": "python",
   "pygments_lexer": "ipython3",
   "version": "3.4.3"
  }
 },
 "nbformat": 4,
 "nbformat_minor": 0
}
