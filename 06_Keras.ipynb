{
 "cells": [
  {
   "cell_type": "markdown",
   "metadata": {},
   "source": [
    "# Keras\n",
    "* Environment require **Python 3+**\n",
    "* Guide of how to do Deep learning with Keras module\n",
    "---"
   ]
  },
  {
   "cell_type": "markdown",
   "metadata": {},
   "source": [
    "## Before as a Deep Leaner... You Should Know...\n",
    "---\n",
    "## Artificial Neural Networks\n",
    "## DNN - Deep Neural Network\n",
    "* Fully Connected Neural Network \n",
    "* CNN (Convolution Neural Network)\n",
    "* RNN (Recurrent Neural Network)\n",
    "    * LSTM (Long Short-Term Memory)\n",
    "    * GRU (Gated Recurrent Unit)"
   ]
  },
  {
   "cell_type": "markdown",
   "metadata": {
    "collapsed": true
   },
   "source": [
    "## Shopping Windows of Deep Leanrning\n",
    "---"
   ]
  },
  {
   "cell_type": "markdown",
   "metadata": {
    "collapsed": true
   },
   "source": [
    "### Layers\n",
    "   * Input \n",
    "   * Hidden\n",
    "   * Output\n",
    "<img src=\"https://content-static.upwork.com/blog/uploads/sites/3/2017/06/27095907/image-26.png\"></img>\n",
    "   \n",
    "### [Weight Initializer](https://keras.io/initializers/#usage-of-initializers)\n",
    "\n",
    "### [Activation Function](https://keras.io/activations/)\n",
    "  * Sigmoid \n",
    "      * ★ **act='sigmoid'**\n",
    "  * Relu, Elu \n",
    "      * ★ **act='relu'**\n",
    "  * Elu \n",
    "      * ★ **act='elu'**\n",
    "  * Hyperbolic Tangent \n",
    "      * ★ **act='tanh'**\n",
    "  * Softmax \n",
    "      * ★ **act='softmax'**... \n",
    "  \n",
    "\n",
    "### Learning Rate\n",
    "  * Learning Rate Scheduling\n",
    "  * Auto Learning Rate\n",
    "\n",
    "       \n",
    "### [Gradient Optimizer](https://keras.io/optimizers/)\n",
    "  * SDG \n",
    "      * ★ **optimizer=SGD()**\n",
    "  * Momenetum Optmization \n",
    "      * ★ **optimizer=SGD(momentum=0.5)**\n",
    "  * NAG (Nesterove Accelerated Gradient) \n",
    "      * ★ **optimizer=SGD(momentum=0.5, nesterov=True)**\n",
    "  * AdaGrad \n",
    "      * ★ **optimizer='Adagrad'**\n",
    "  * RMSProp \n",
    "      * ★ **optimizer=RMSprop()**\n",
    "  * Adam\n",
    "      * ★ **optimizer='Adam'**\n",
    "  \n",
    "### Batch Size\n",
    "### Epoch\n",
    "\n",
    "### [Loss & Cost](https://keras.io/losses/#usage-of-loss-functions)\n",
    "   * binary_crossentropy \n",
    "       * ★ **loss='binary_crossentropy'**\n",
    "   * categorical_crossentropy \n",
    "       * ★ **loss='categorical_crossentropy'**\n",
    "   * mean_squared_error \n",
    "       * ★ **loss='mean_squared_error'**\n",
    "       \n",
    "### [Accuracy](https://keras.io/metrics/#usage-of-metrics)...\n",
    "\n",
    "### Conquer Over Fitting\n",
    "   * [Drop Out](https://keras.io/layers/core/#dropout) \n",
    "       * ★ **Dropout(0.5)**\n",
    "   * [Early Stopping](https://keras.io/callbacks/)\n",
    "   * [l1 & l2 Weight Regularization](https://keras.io/regularizers/)\n",
    "   * [Max-Norm Regularization](https://keras.io/constraints/#available-constraints)\n",
    "   * [Data Augmentation](https://keras.io/preprocessing/image/)\n",
    "\n",
    "## Others\n",
    "* Reusing Pretrained Layers\n",
    "* Freezing Lower Layer"
   ]
  },
  {
   "cell_type": "code",
   "execution_count": null,
   "metadata": {
    "collapsed": true
   },
   "outputs": [],
   "source": [
    "..."
   ]
  },
  {
   "cell_type": "markdown",
   "metadata": {
    "collapsed": true
   },
   "source": [
    "# Let's Keras"
   ]
  },
  {
   "cell_type": "code",
   "execution_count": 376,
   "metadata": {
    "collapsed": false
   },
   "outputs": [],
   "source": [
    "%matplotlib inline\n",
    "\n",
    "import pandas as pd\n",
    "import numpy as np\n",
    "import matplotlib.pyplot as plt\n",
    "from sklearn.datasets import make_blobs, make_circles\n",
    "from sklearn.model_selection import train_test_split\n",
    "from keras.models import Sequential\n",
    "from keras.layers import Dense, Activation, Dropout\n",
    "from keras.optimizers import SGD, RMSprop\n",
    "from keras.utils import np_utils"
   ]
  },
  {
   "cell_type": "code",
   "execution_count": 377,
   "metadata": {
    "collapsed": false
   },
   "outputs": [],
   "source": [
    "def plot_AccLoss(his):\n",
    "    for k, v in his.history.items():\n",
    "        if (k == 'acc') | (k == 'val_acc'):\n",
    "            plt.subplot(211)\n",
    "            v = np.array(historyA.history[k])*100\n",
    "            if k == 'acc': \n",
    "                label = 'Train Acc. = {}'.format(v[-1])\n",
    "                plt.plot(range(len(v)), v, label=label, color='red')\n",
    "            if k == 'val_acc': \n",
    "                label = 'Validation Acc. = {}'.format(v[-1])\n",
    "                plt.plot(range(len(v)), v, label=label, color='green')\n",
    "            plt.xlabel(\"Epochs\")\n",
    "            plt.ylabel(\"Accuracy %\")\n",
    "            plt.legend()\n",
    "        if (k == 'loss') | (k == 'val_loss'):\n",
    "            plt.subplot(212)\n",
    "            v = historyA.history[k]\n",
    "            if k == 'loss': \n",
    "                label = 'Train Loss. = {}'.format(v[-1])\n",
    "                plt.plot(range(len(v)), v, label=label, color='red')\n",
    "            if k == 'val_loss': \n",
    "                label = 'Validation Loss. = {}'.format(v[-1])\n",
    "                plt.plot(range(len(v)), v, label=label, color='green')\n",
    "            plt.xlabel(\"Epochs\")\n",
    "            plt.ylabel(\"Loss %\")\n",
    "            plt.legend()\n",
    "        plt.tight_layout()"
   ]
  },
  {
   "cell_type": "markdown",
   "metadata": {},
   "source": [
    "## DNN - Deep Neural Network"
   ]
  },
  {
   "cell_type": "markdown",
   "metadata": {},
   "source": [
    "* Load Data Set"
   ]
  },
  {
   "cell_type": "code",
   "execution_count": 374,
   "metadata": {
    "collapsed": false
   },
   "outputs": [
    {
     "name": "stdout",
     "output_type": "stream",
     "text": [
      "★ Training size : Testing size =  614 : 154\n",
      "\tDimension of Xtr =  2\n",
      "\tShape of Xtr =  (614, 8)\n",
      "\tDimension of ytr =  2\n",
      "\tShape of ytr =  (614, 2)\n"
     ]
    }
   ],
   "source": [
    "# load dataset\n",
    "var = ['preg', 'plas', 'pres', 'skin', 'test', 'mass', 'pedi', 'age', 'class']\n",
    "df = pd.read_csv('DataBase/ForModelCamparison.csv', names=var)\n",
    "array = df.values\n",
    "\n",
    "X = array[:,0:8]\n",
    "y = np_utils.to_categorical(array[:,8])\n",
    "\n",
    "Xtr, Xte, ytr, yte = train_test_split(X, y, test_size=0.20)\n",
    "print('★ Training size : Testing size = ', len(ytr), ':', len(yte))\n",
    "print('\\tDimension of Xtr = ', Xtr.ndim)\n",
    "print('\\tShape of Xtr = ', Xtr.shape)\n",
    "print('\\tDimension of ytr = ', ytr.ndim)\n",
    "print('\\tShape of ytr = ', ytr.shape)"
   ]
  },
  {
   "cell_type": "code",
   "execution_count": 375,
   "metadata": {
    "collapsed": false
   },
   "outputs": [
    {
     "name": "stdout",
     "output_type": "stream",
     "text": [
      " 32/154 [=====>........................] - ETA: 6s\n",
      "Test set accuracy:  60.3896107767\n",
      "Test set loss:  0.671408342077\n"
     ]
    },
    {
     "data": {
      "image/png": "[encoded data removed]",
      "text/plain": [
       "<matplotlib.figure.Figure at 0x7f96a8cb1a20>"
      ]
     },
     "metadata": {},
     "output_type": "display_data"
    }
   ],
   "source": [
    "modelA = Sequential()\n",
    "\n",
    "modelA.add(Dense(6, input_dim=8))\n",
    "modelA.add(Activation('relu'))\n",
    "modelA.add(Dropout(0.5))\n",
    "\n",
    "modelA.add(Dense(4))\n",
    "modelA.add(Activation('relu'))\n",
    "modelA.add(Dropout(0.5))\n",
    "\n",
    "modelA.add(Dense(2))\n",
    "modelA.add(Activation('softmax'))\n",
    "\n",
    "modelA.compile(loss='categorical_crossentropy',\n",
    "               optimizer=SGD(momentum=0.5, nesterov=True),\n",
    "               metrics=['accuracy'])\n",
    "\n",
    "historyA = modelA.fit(Xtr, ytr, epochs=100,\n",
    "                      batch_size=200, verbose=0,\n",
    "                      validation_split=0.7)\n",
    "\n",
    "resultA = modelA.evaluate(Xte, yte, verbose=0)\n",
    "resultA_prob = modelA.predict_proba(Xte)\n",
    "\n",
    "print('\\nTest set accuracy: ', resultA[1]*100)\n",
    "print('Test set loss: ', resultA[0])\n",
    "\n",
    "plot_AccLoss(historyA)"
   ]
  },
  {
   "cell_type": "markdown",
   "metadata": {},
   "source": [
    "## CNN - Convolution Neural Network\n",
    "* [Convolution Layer](https://keras.io/layers/convolutional/)\n",
    "* [Pooling Layer](https://keras.io/layers/pooling/)\n",
    "* Padding/Stride"
   ]
  },
  {
   "cell_type": "code",
   "execution_count": null,
   "metadata": {
    "collapsed": true
   },
   "outputs": [],
   "source": [
    "L9a"
   ]
  },
  {
   "cell_type": "markdown",
   "metadata": {},
   "source": [
    "## RNN - Recurrent Neural Network"
   ]
  },
  {
   "cell_type": "markdown",
   "metadata": {},
   "source": [
    "## GRU - Gated Recurrent Unit"
   ]
  },
  {
   "cell_type": "markdown",
   "metadata": {},
   "source": [
    "## LSTM - Long Short-Term Memory"
   ]
  },
  {
   "cell_type": "code",
   "execution_count": null,
   "metadata": {
    "collapsed": true
   },
   "outputs": [],
   "source": [
    "Lab07"
   ]
  }
 ],
 "metadata": {
  "kernelspec": {
   "display_name": "Python 3",
   "language": "python",
   "name": "python3"
  },
  "language_info": {
   "codemirror_mode": {
    "name": "ipython",
    "version": 3
   },
   "file_extension": ".py",
   "mimetype": "text/x-python",
   "name": "python",
   "nbconvert_exporter": "python",
   "pygments_lexer": "ipython3",
   "version": "3.4.3"
  }
 },
 "nbformat": 4,
 "nbformat_minor": 0
}
