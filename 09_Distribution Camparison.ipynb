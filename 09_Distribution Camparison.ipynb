{
 "cells": [
  {
   "cell_type": "markdown",
   "metadata": {},
   "source": [
    "# Distribution Camparison\n",
    "* Environment require **Python 3+**"
   ]
  },
  {
   "cell_type": "code",
   "execution_count": 48,
   "metadata": {
    "collapsed": true
   },
   "outputs": [],
   "source": [
    "import pandas as pd"
   ]
  },
  {
   "cell_type": "code",
   "execution_count": 49,
   "metadata": {
    "collapsed": false
   },
   "outputs": [],
   "source": [
    "df = pd.read_csv('DataBase\\CSVData.csv')\n",
    "df['Total Customer'].fillna(value=df['Total Customer'].mean(),inplace=True)"
   ]
  },
  {
   "cell_type": "markdown",
   "metadata": {},
   "source": [
    "## Normal Distribution Test"
   ]
  },
  {
   "cell_type": "code",
   "execution_count": 50,
   "metadata": {
    "collapsed": true
   },
   "outputs": [],
   "source": [
    "from scipy.stats import normaltest"
   ]
  },
  {
   "cell_type": "code",
   "execution_count": 51,
   "metadata": {
    "collapsed": false
   },
   "outputs": [
    {
     "name": "stderr",
     "output_type": "stream",
     "text": [
      "C:\\Miniconda3\\lib\\site-packages\\scipy\\stats\\stats.py:1535: UserWarning: kurtosistest only valid for n>=20 ... continuing anyway, n=14\n",
      "  \"anyway, n=%i\" % int(n))\n"
     ]
    },
    {
     "data": {
      "text/plain": [
       "NormaltestResult(statistic=6.6413399862779485, pvalue=0.03612861771734175)"
      ]
     },
     "execution_count": 51,
     "metadata": {},
     "output_type": "execute_result"
    }
   ],
   "source": [
    "normaltest(df['Total Customer'])"
   ]
  },
  {
   "cell_type": "markdown",
   "metadata": {},
   "source": [
    "## Chi-squre Test"
   ]
  },
  {
   "cell_type": "code",
   "execution_count": 52,
   "metadata": {
    "collapsed": true
   },
   "outputs": [],
   "source": [
    "from scipy.stats import chi2_contingency"
   ]
  },
  {
   "cell_type": "code",
   "execution_count": 53,
   "metadata": {
    "collapsed": false
   },
   "outputs": [
    {
     "data": {
      "text/html": [
       "<div>\n",
       "<table border=\"1\" class=\"dataframe\">\n",
       "  <thead>\n",
       "    <tr style=\"text-align: right;\">\n",
       "      <th>Target</th>\n",
       "      <th>N</th>\n",
       "      <th>Y</th>\n",
       "    </tr>\n",
       "    <tr>\n",
       "      <th>Status</th>\n",
       "      <th></th>\n",
       "      <th></th>\n",
       "    </tr>\n",
       "  </thead>\n",
       "  <tbody>\n",
       "    <tr>\n",
       "      <th>I</th>\n",
       "      <td>2</td>\n",
       "      <td>2</td>\n",
       "    </tr>\n",
       "    <tr>\n",
       "      <th>O</th>\n",
       "      <td>1</td>\n",
       "      <td>2</td>\n",
       "    </tr>\n",
       "    <tr>\n",
       "      <th>Q</th>\n",
       "      <td>1</td>\n",
       "      <td>0</td>\n",
       "    </tr>\n",
       "    <tr>\n",
       "      <th>R</th>\n",
       "      <td>1</td>\n",
       "      <td>3</td>\n",
       "    </tr>\n",
       "  </tbody>\n",
       "</table>\n",
       "</div>"
      ],
      "text/plain": [
       "Target  N  Y\n",
       "Status      \n",
       "I       2  2\n",
       "O       1  2\n",
       "Q       1  0\n",
       "R       1  3"
      ]
     },
     "execution_count": 53,
     "metadata": {},
     "output_type": "execute_result"
    }
   ],
   "source": [
    "pd.crosstab(df['Status'], df['Target'])"
   ]
  },
  {
   "cell_type": "code",
   "execution_count": 54,
   "metadata": {
    "collapsed": false
   },
   "outputs": [],
   "source": [
    "chi2 = chi2_contingency(pd.crosstab(df['Status'], df['Target']))"
   ]
  },
  {
   "cell_type": "code",
   "execution_count": 55,
   "metadata": {
    "collapsed": false
   },
   "outputs": [
    {
     "name": "stdout",
     "output_type": "stream",
     "text": [
      "The results of the independent Chi-square Test are: \n",
      "\tChi-square test value = 2.057\n",
      "\tp-value = 0.561\n"
     ]
    }
   ],
   "source": [
    "print('The results of the independent Chi-square Test are: \\n\\tChi-square test value = {:.3f}\\n\\tp-value = {:.3f}'.format(chi2[0],chi2[1]))"
   ]
  },
  {
   "cell_type": "markdown",
   "metadata": {},
   "source": [
    "## Student-T Test"
   ]
  },
  {
   "cell_type": "code",
   "execution_count": 56,
   "metadata": {
    "collapsed": false
   },
   "outputs": [],
   "source": [
    "from scipy.stats import ttest_ind"
   ]
  },
  {
   "cell_type": "code",
   "execution_count": 57,
   "metadata": {
    "collapsed": false
   },
   "outputs": [],
   "source": [
    "Grp_A = df[df['Target']=='Y']\n",
    "Grp_B = df[df['Target']=='N']"
   ]
  },
  {
   "cell_type": "code",
   "execution_count": 58,
   "metadata": {
    "collapsed": false
   },
   "outputs": [],
   "source": [
    "ind_ttest  = ttest_ind(Grp_A['Total Customer'], Grp_B['Total Customer'], equal_var=False)"
   ]
  },
  {
   "cell_type": "code",
   "execution_count": 59,
   "metadata": {
    "collapsed": false
   },
   "outputs": [
    {
     "name": "stdout",
     "output_type": "stream",
     "text": [
      "The results of the independent t-test are: \n",
      "\tt-value = 3.931\n",
      "\tp-value = 0.006\n"
     ]
    }
   ],
   "source": [
    "print('The results of the independent t-test are: \\n\\tt-value = {:.3f}\\n\\tp-value = {:.3f}'.format(ind_ttest[0],ind_ttest[1]))"
   ]
  },
  {
   "cell_type": "markdown",
   "metadata": {},
   "source": [
    "* **CI of difference mean**"
   ]
  },
  {
   "cell_type": "code",
   "execution_count": 60,
   "metadata": {
    "collapsed": true
   },
   "outputs": [],
   "source": [
    "from math import sqrt\n",
    "from scipy.stats import t"
   ]
  },
  {
   "cell_type": "code",
   "execution_count": 61,
   "metadata": {
    "collapsed": true
   },
   "outputs": [],
   "source": [
    "def ttest_Welchs(Var=None, equal_var=False):\n",
    "    ind_ttest  = ttest_ind(Grp_A[Var], Grp_B[Var], equal_var=equal_var)\n",
    "    N1 = Grp_A.shape[0]\n",
    "    N2 = Grp_B.shape[0]\n",
    "    mean1 = Grp_A[Var].mean()\n",
    "    mean2 = Grp_B[Var].mean()\n",
    "    diff_mean = mean1 - mean2\n",
    "    std1 = Grp_A[Var].std()\n",
    "    std2 = Grp_B[Var].std()\n",
    "    sem1 = Grp_A[Var].sem()\n",
    "    sem2 = Grp_B[Var].sem()\n",
    "    if equal_var==True: \n",
    "        dfree = (N1 + N2 - 2)\n",
    "        Sp = sqrt(((N1 - 1)*(std1)**2 + (N2 - 1)*(std2)**2) / (1.0*dfree)) \n",
    "        MoE = t.ppf(0.975, dfree) * Sp * sqrt(1/(1.0*N1) + 1/(1.0*N2))\n",
    "    elif equal_var==False:        \n",
    "        dfree = (((std1**2/(1.0*N1))+(std2**2/(1.0*N2)))**2)/((std1**4)/(1.0*(N1-1)*(N1**2))+(std2**4)/((1.0*N2-1)*(N2**2)))\n",
    "        MoE = t.ppf(0.975, dfree) * sqrt(sem1**2 + sem2**2) # un-equal Variance MoE\n",
    "    return('Grp_A : mean is {:.4f}, SEM is {:.5f}\\nGrp_B : mean is {:.4f}, SEM is {:.5f}\\nThe results of the independent t-test are: \\n\\tt-value = {:.3f}\\n\\tp-value = {:.4f}\\nThe difference between groups is {:.4f} [{:.4f} - {:.4f}] (mean [95% CI])'.format(mean1,sem1,mean2,sem2,ind_ttest[0],ind_ttest[1],diff_mean, diff_mean - MoE, diff_mean + MoE)) "
   ]
  },
  {
   "cell_type": "code",
   "execution_count": 62,
   "metadata": {
    "collapsed": false
   },
   "outputs": [
    {
     "name": "stdout",
     "output_type": "stream",
     "text": [
      "Grp_A : mean is 4584714.5865, SEM is 374203.40792\n",
      "Grp_B : mean is 967576.8333, SEM is 840703.89513\n",
      "The results of the independent t-test are: \n",
      "\tt-value = 3.931\n",
      "\tp-value = 0.0057\n",
      "The difference between groups is 3617137.7532 [1439999.3782 - 5794276.1282] (mean [95% CI])\n"
     ]
    }
   ],
   "source": [
    "print(ttest_Welchs(Var='Total Customer', equal_var=False))"
   ]
  },
  {
   "cell_type": "markdown",
   "metadata": {},
   "source": [
    "* **CI of each groups**"
   ]
  },
  {
   "cell_type": "code",
   "execution_count": 63,
   "metadata": {
    "collapsed": false
   },
   "outputs": [],
   "source": [
    "Grp_A_CI = t.interval(0.95, N1-1, loc=Grp_A['Total Customer'].mean(), scale=Grp_A['Total Customer'].sem())\n",
    "Grp_B_CI = t.interval(0.95, N1-1, loc=Grp_B['Total Customer'].mean(), scale=Grp_B['Total Customer'].sem())"
   ]
  },
  {
   "cell_type": "code",
   "execution_count": 64,
   "metadata": {
    "collapsed": false
   },
   "outputs": [
    {
     "name": "stdout",
     "output_type": "stream",
     "text": [
      "The mean of GroupA is: 4584714.587 [3699864.133 to 5469565.040] (mean [95% CI])\n",
      "The mean  of GroupB is: 967576.833 [-1020371.985 to 2955525.652] (mean [95% CI])\n"
     ]
    }
   ],
   "source": [
    "print ('The mean of GroupA is: {:.3f} [{:.3f} to {:.3f}] (mean [95% CI])'\n",
    "       .format(Grp_A['Total Customer'].mean(), Grp_A_CI[0], Grp_A_CI[1]))\n",
    "print ('The mean  of GroupB is: {:.3f} [{:.3f} to {:.3f}] (mean [95% CI])'\n",
    "       .format(Grp_B['Total Customer'].mean(), Grp_B_CI[0], Grp_B_CI[1]))"
   ]
  },
  {
   "cell_type": "markdown",
   "metadata": {},
   "source": [
    "## Z Test"
   ]
  },
  {
   "cell_type": "markdown",
   "metadata": {},
   "source": [
    "* Two probability comparison"
   ]
  },
  {
   "cell_type": "code",
   "execution_count": 65,
   "metadata": {
    "collapsed": true
   },
   "outputs": [],
   "source": [
    "from math import sqrt\n",
    "from scipy.stats import norm"
   ]
  },
  {
   "cell_type": "code",
   "execution_count": 66,
   "metadata": {
    "collapsed": false
   },
   "outputs": [
    {
     "name": "stdout",
     "output_type": "stream",
     "text": [
      "8 6\n",
      "0.5 0.6666666666666666\n",
      "0.5714285714285714 0.4285714285714286\n"
     ]
    }
   ],
   "source": [
    "N1 = len(df[df['Target']=='Y'])\n",
    "P1 = len(df[df['Status']=='I'])/len(df[df['Target']=='Y'])\n",
    "N2 = len(df[df['Target']=='N'])\n",
    "P2 = len(df[df['Status']=='I'])/len(df[df['Target']=='N'])\n",
    "p = (N1*P1+N2*P2)/(N1+N2)\n",
    "q = 1-p\n",
    "print(N1,N2)\n",
    "print(P1,P2)\n",
    "print(p,q)"
   ]
  },
  {
   "cell_type": "code",
   "execution_count": 67,
   "metadata": {
    "collapsed": false
   },
   "outputs": [],
   "source": [
    "z = ((P1-P2)-0)/sqrt(p*q/N1+p*q/N2)\n",
    "pval = 2*(1 - norm.cdf(abs(z)))"
   ]
  },
  {
   "cell_type": "code",
   "execution_count": 68,
   "metadata": {
    "collapsed": false
   },
   "outputs": [
    {
     "name": "stdout",
     "output_type": "stream",
     "text": [
      "The results of the tow sample probability z-test are: \n",
      "\tz-value = -0.624\n",
      "\tp-value = 0.533\n"
     ]
    }
   ],
   "source": [
    "print('The results of the tow sample probability z-test are: \\n\\tz-value = {:.3f}\\n\\tp-value = {:.3f}'.format(z,pval))"
   ]
  },
  {
   "cell_type": "markdown",
   "metadata": {},
   "source": [
    "* **CI of difference probability**\n",
    "    * Set 0.975 for 95% CI with two tail"
   ]
  },
  {
   "cell_type": "code",
   "execution_count": 69,
   "metadata": {
    "collapsed": false
   },
   "outputs": [],
   "source": [
    "diff_prob = P1-P2\n",
    "MoE = norm.ppf(0.975)*sqrt((p*q/N1)+(p*q/N2))"
   ]
  },
  {
   "cell_type": "code",
   "execution_count": 70,
   "metadata": {
    "collapsed": false
   },
   "outputs": [
    {
     "name": "stdout",
     "output_type": "stream",
     "text": [
      "The difference between groups is -0.167 [-0.690 to 0.357] (mean [95% CI])\n"
     ]
    }
   ],
   "source": [
    "print ('The difference between groups is {:.3f} [{:.3f} to {:.3f}] (mean [95% CI])'.format(diff_prob, diff_prob - MoE, diff_prob + MoE))"
   ]
  },
  {
   "cell_type": "markdown",
   "metadata": {},
   "source": [
    "* **CI of each groups**\n",
    "    * You can set as below to get 95%CI also\n",
    "```PYTHON\n",
    "norm.interval(alpha = 0.95,loc = P1, scale = sqrt((P1*(1-P1))/N1)) \n",
    "norm.interval(alpha = 0.95,loc = P2, scale = sqrt((P2*(1-P2))/N2)) \n",
    "```"
   ]
  },
  {
   "cell_type": "code",
   "execution_count": 71,
   "metadata": {
    "collapsed": true
   },
   "outputs": [],
   "source": [
    "Grp_A_MoE = norm.ppf(0.975)*sqrt((P1*(1-P1))/N1)\n",
    "Grp_B_MoE = norm.ppf(0.975)*sqrt((P2*(1-P2))/N2)"
   ]
  },
  {
   "cell_type": "code",
   "execution_count": 72,
   "metadata": {
    "collapsed": false
   },
   "outputs": [
    {
     "name": "stdout",
     "output_type": "stream",
     "text": [
      "The probability of GroupA is: 0.500 [0.154 to 0.846] (prob [95% CI])\n",
      "The probability  of GroupB is: 0.667 [0.289 to 1.044] (prob [95% CI])\n"
     ]
    }
   ],
   "source": [
    "print ('The probability of GroupA is: {:.3f} [{:.3f} to {:.3f}] (prob [95% CI])'\n",
    "       .format(P1, P1-Grp_A_MoE, P1+Grp_A_MoE))\n",
    "print ('The probability  of GroupB is: {:.3f} [{:.3f} to {:.3f}] (prob [95% CI])'\n",
    "       .format(P2, P2-Grp_B_MoE, P2+Grp_B_MoE))"
   ]
  },
  {
   "cell_type": "markdown",
   "metadata": {},
   "source": [
    "## Oneway ANOVA Test"
   ]
  },
  {
   "cell_type": "code",
   "execution_count": 73,
   "metadata": {
    "collapsed": true
   },
   "outputs": [],
   "source": [
    "from scipy.stats import f_oneway"
   ]
  },
  {
   "cell_type": "code",
   "execution_count": 74,
   "metadata": {
    "collapsed": true
   },
   "outputs": [],
   "source": [
    "Grp_1 = df[df['Status']=='I']\n",
    "Grp_2 = df[df['Status']=='R']\n",
    "Grp_3 = df[df['Status']=='O']"
   ]
  },
  {
   "cell_type": "code",
   "execution_count": 75,
   "metadata": {
    "collapsed": false
   },
   "outputs": [],
   "source": [
    "anova = f_oneway(Grp_1['Total Customer'], Grp_2['Total Customer'], Grp_3['Total Customer'])"
   ]
  },
  {
   "cell_type": "code",
   "execution_count": 76,
   "metadata": {
    "collapsed": false
   },
   "outputs": [
    {
     "name": "stdout",
     "output_type": "stream",
     "text": [
      "The results of the independent F-test are: \n",
      "\tF-value = 0.124\n",
      "\tp-value = 0.885\n"
     ]
    }
   ],
   "source": [
    "print('The results of the independent F-test are: \\n\\tF-value = {:4.3f}\\n\\tp-value = {:4.3f}'.format(anova[0],anova[1]))"
   ]
  },
  {
   "cell_type": "markdown",
   "metadata": {},
   "source": [
    "* **CI of each groups**"
   ]
  },
  {
   "cell_type": "code",
   "execution_count": 77,
   "metadata": {
    "collapsed": false
   },
   "outputs": [],
   "source": [
    "Grp_1_CI = t.interval(0.95, N1-1, loc=Grp_1['Total Customer'].mean(), scale=Grp_1['Total Customer'].sem())\n",
    "Grp_2_CI = t.interval(0.95, N1-1, loc=Grp_2['Total Customer'].mean(), scale=Grp_2['Total Customer'].sem())\n",
    "Grp_3_CI = t.interval(0.95, N1-1, loc=Grp_3['Total Customer'].mean(), scale=Grp_3['Total Customer'].sem())"
   ]
  },
  {
   "cell_type": "code",
   "execution_count": 78,
   "metadata": {
    "collapsed": false
   },
   "outputs": [
    {
     "name": "stdout",
     "output_type": "stream",
     "text": [
      "The mean of Group1 is: 2708612.250 [-710651.501 to 6127876.001] (mean [95% CI])\n",
      "The mean  of Group2 is: 3059079.750 [569733.779 to 5548425.721] (mean [95% CI])\n",
      "The mean  of Group3 is: 3730893.333 [-586416.798 to 8048203.465] (mean [95% CI])\n"
     ]
    }
   ],
   "source": [
    "print ('The mean of Group1 is: {:.3f} [{:.3f} to {:.3f}] (mean [95% CI])'\n",
    "       .format(Grp_1['Total Customer'].mean(), Grp_1_CI[0], Grp_1_CI[1]))\n",
    "print ('The mean  of Group2 is: {:.3f} [{:.3f} to {:.3f}] (mean [95% CI])'\n",
    "       .format(Grp_2['Total Customer'].mean(), Grp_2_CI[0], Grp_2_CI[1]))\n",
    "print ('The mean  of Group3 is: {:.3f} [{:.3f} to {:.3f}] (mean [95% CI])'\n",
    "       .format(Grp_3['Total Customer'].mean(), Grp_3_CI[0], Grp_3_CI[1]))"
   ]
  }
 ],
 "metadata": {
  "kernelspec": {
   "display_name": "Python 3",
   "language": "python",
   "name": "python3"
  },
  "language_info": {
   "codemirror_mode": {
    "name": "ipython",
    "version": 3
   },
   "file_extension": ".py",
   "mimetype": "text/x-python",
   "name": "python",
   "nbconvert_exporter": "python",
   "pygments_lexer": "ipython3",
   "version": "3.5.2"
  }
 },
 "nbformat": 4,
 "nbformat_minor": 0
}
