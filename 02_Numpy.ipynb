{
 "cells": [
  {
   "cell_type": "markdown",
   "metadata": {
    "collapsed": true
   },
   "source": [
    "# [Numpy](https://docs.scipy.org/doc/numpy-dev/user/quickstart.html)\n",
    "\n",
    "* Environment require **Python 3+**\n",
    "* 3-Party module\n",
    "---"
   ]
  },
  {
   "cell_type": "code",
   "execution_count": 4,
   "metadata": {
    "collapsed": true
   },
   "outputs": [],
   "source": [
    "import numpy as np"
   ]
  },
  {
   "cell_type": "markdown",
   "metadata": {},
   "source": [
    "## Create a Simple Numpy Array"
   ]
  },
  {
   "cell_type": "code",
   "execution_count": 82,
   "metadata": {
    "collapsed": false
   },
   "outputs": [
    {
     "name": "stdout",
     "output_type": "stream",
     "text": [
      "Type of np.array =  <class 'numpy.ndarray'>\n",
      "Data type in Array =  int64\n",
      "Dimension of Array =  1\n"
     ]
    }
   ],
   "source": [
    "List_myHeight = [150, 160, 170]\n",
    "Np_myHeight =np.array(List_myHeight)\n",
    "\n",
    "print('Type of np.array = ', type(Np_myHeight))\n",
    "print('Data type in Array = ', Np_myHeight.dtype)\n",
    "print('Dimension of Array = ', Np_myHeight.ndim)"
   ]
  },
  {
   "cell_type": "markdown",
   "metadata": {},
   "source": [
    "* Numpy array could be caculated as below"
   ]
  },
  {
   "cell_type": "code",
   "execution_count": 21,
   "metadata": {
    "collapsed": false
   },
   "outputs": [
    {
     "name": "stdout",
     "output_type": "stream",
     "text": [
      "BMI = [ 22.22222222  21.09375     27.6816609 ]\n",
      "BMI>24 = [False False  True]\n"
     ]
    }
   ],
   "source": [
    "Np_myWeight = np.array([50,54,80])\n",
    "BMI = Np_myWeight/((Np_myHeight*0.01)**2)\n",
    "\n",
    "print('BMI =', BMI)\n",
    "print('BMI>24 =', BMI>24)"
   ]
  },
  {
   "cell_type": "markdown",
   "metadata": {},
   "source": [
    "## Create Simple Array\n",
    "* with np.arrange()\n",
    "\n",
    "## Stacking\n",
    "* np.vstack([array1, array2])\n",
    "* np.hstack([array1, array2])"
   ]
  },
  {
   "cell_type": "code",
   "execution_count": 112,
   "metadata": {
    "collapsed": false
   },
   "outputs": [
    {
     "name": "stdout",
     "output_type": "stream",
     "text": [
      "a = [ 0 20 40 60 80]\n",
      "b = [0 1 2 3 4]\n"
     ]
    }
   ],
   "source": [
    "a = np.arange(0, 100, 20)\n",
    "b = np.arange(5)\n",
    "\n",
    "print('a =', a)\n",
    "print('b =', b)"
   ]
  },
  {
   "cell_type": "code",
   "execution_count": 105,
   "metadata": {
    "collapsed": false
   },
   "outputs": [
    {
     "data": {
      "text/plain": [
       "array([[ 0, 20, 40, 60, 80],\n",
       "       [ 0,  1,  2,  3,  4]])"
      ]
     },
     "execution_count": 105,
     "metadata": {},
     "output_type": "execute_result"
    }
   ],
   "source": [
    "np.vstack([a,b])"
   ]
  },
  {
   "cell_type": "code",
   "execution_count": 78,
   "metadata": {
    "collapsed": false
   },
   "outputs": [
    {
     "data": {
      "text/plain": [
       "array([ 0, 20, 40, 60, 80,  0,  1,  2,  3,  4])"
      ]
     },
     "execution_count": 78,
     "metadata": {},
     "output_type": "execute_result"
    }
   ],
   "source": [
    "np.hstack([a,b])"
   ]
  },
  {
   "cell_type": "markdown",
   "metadata": {},
   "source": [
    "## Multiple Dimensions Array"
   ]
  },
  {
   "cell_type": "markdown",
   "metadata": {},
   "source": [
    "* 2 Dimensions"
   ]
  },
  {
   "cell_type": "code",
   "execution_count": 84,
   "metadata": {
    "collapsed": false
   },
   "outputs": [],
   "source": [
    "A = np.array( [[0,2],\n",
    "               [1,3]] )\n",
    "\n",
    "B = np.array( [[0,3], \n",
    "               [2,4]] )"
   ]
  },
  {
   "cell_type": "code",
   "execution_count": 142,
   "metadata": {
    "collapsed": false
   },
   "outputs": [
    {
     "name": "stdout",
     "output_type": "stream",
     "text": [
      "★ Dimension of Array =  2\n",
      "★ Shape of Array =  (2, 2)\n",
      "★ Number of elements of the array =  18\n",
      "★ Transpose A Array I=\n",
      " [[0 1]\n",
      " [2 3]]\n",
      "★ Transpose A Array II =\n",
      " [[0 1]\n",
      " [2 3]]\n"
     ]
    }
   ],
   "source": [
    "print('★ Dimension of Array = ', A.ndim)\n",
    "print('★ Shape of Array = ', A.shape)\n",
    "print('★ Number of elements of the array = ', C.size)\n",
    "print('★ Transpose A Array I=\\n', A.T)\n",
    "print('★ Transpose A Array II =\\n', A.transpose())"
   ]
  },
  {
   "cell_type": "markdown",
   "metadata": {},
   "source": [
    "* Caculate with Array\n",
    "\n",
    "|A Array                     |B Array  |\n",
    "|----------------------------|----------------------------|\n",
    "|[[0,2],<br> [1,3]]</br>     |[[0,3],<br> [2,4]]</br>|\n"
   ]
  },
  {
   "cell_type": "code",
   "execution_count": 127,
   "metadata": {
    "collapsed": false
   },
   "outputs": [
    {
     "name": "stdout",
     "output_type": "stream",
     "text": [
      "★ Aarry A Power 2 = \n",
      " [[0 4]\n",
      " [1 9]]\n",
      "★ Array A*B = \n",
      " [[ 0  6]\n",
      " [ 2 12]]\n",
      "★ Array A+B = \n",
      " [[0 5]\n",
      " [3 7]]\n",
      "★ Array A dot B = \n",
      " [[ 4  8]\n",
      " [ 6 15]]\n",
      "★ Array A dot B = \n",
      " [[ 4  8]\n",
      " [ 6 15]]\n",
      "★ Sum of Each Column = [1 5]\n",
      "★ Sum of Each Row = [2 4]\n",
      "★ Min of Each Row [0 1]\n",
      "★ Max of Each Row [2 3]\n"
     ]
    }
   ],
   "source": [
    "print('★ Aarry A Power 2 = \\n', A**2)\n",
    "print('★ Array A*B = \\n', A*B)\n",
    "print('★ Array A+B = \\n', A+B)\n",
    "print('★ Array A dot B = \\n', A.dot(B))\n",
    "print('★ Array A dot B = \\n', np.dot(A,B))\n",
    "print('★ Sum of Each Column =', A.sum(axis=0))\n",
    "print('★ Sum of Each Row =', A.sum(axis=1))\n",
    "print('★ Min of Each Row',A.min(axis=1))\n",
    "print('★ Max of Each Row',A.max(axis=1))"
   ]
  },
  {
   "cell_type": "markdown",
   "metadata": {},
   "source": [
    "* 3 Dimensions"
   ]
  },
  {
   "cell_type": "code",
   "execution_count": 139,
   "metadata": {
    "collapsed": false
   },
   "outputs": [
    {
     "name": "stdout",
     "output_type": "stream",
     "text": [
      "★ Dimension of Array =  3\n",
      "★ Shape of Array C =  (3, 2, 3)\n",
      "★ Value at location (2,1,1) =  60\n",
      "★ Cumulative Sum Along Each Column =\n",
      " [[[  0   8  10]\n",
      "  [  2   6  20]]\n",
      "\n",
      " [[  5  15  40]\n",
      "  [  4  15  60]]\n",
      "\n",
      " [[ 10  17  90]\n",
      "  [  8  18 120]]]\n",
      "18\n"
     ]
    }
   ],
   "source": [
    "C = np.array( [[[0, 8, 10], \n",
    "                [2, 6, 20]],\n",
    "               [[5, 7, 30], \n",
    "                [2, 9, 40]],\n",
    "               [[5, 2, 50], \n",
    "                [4, 3, 60]]])\n",
    "\n",
    "print('★ Dimension of Array = ', C.ndim)\n",
    "print('★ Shape of Array C = ', C.shape)\n",
    "print('★ Value at location (2,1,1) = ', C[2,1,2])\n",
    "print('★ Cumulative Sum Along Each Column =\\n', C.cumsum(axis=0))"
   ]
  },
  {
   "cell_type": "markdown",
   "metadata": {},
   "source": [
    "## Reshape Array"
   ]
  },
  {
   "cell_type": "code",
   "execution_count": 101,
   "metadata": {
    "collapsed": false
   },
   "outputs": [
    {
     "data": {
      "text/plain": [
       "array([[ 0,  8, 10,  2,  6, 20],\n",
       "       [ 5,  7, 30,  2,  9, 40],\n",
       "       [ 5,  2, 50,  4,  3, 60]])"
      ]
     },
     "execution_count": 101,
     "metadata": {},
     "output_type": "execute_result"
    }
   ],
   "source": [
    "C.reshape(3,6)"
   ]
  },
  {
   "cell_type": "code",
   "execution_count": 100,
   "metadata": {
    "collapsed": false
   },
   "outputs": [
    {
     "data": {
      "text/plain": [
       "array([[[ 0,  8, 10],\n",
       "        [ 2,  6, 20],\n",
       "        [ 5,  7, 30]],\n",
       "\n",
       "       [[ 2,  9, 40],\n",
       "        [ 5,  2, 50],\n",
       "        [ 4,  3, 60]]])"
      ]
     },
     "execution_count": 100,
     "metadata": {},
     "output_type": "execute_result"
    }
   ],
   "source": [
    "C.reshape(2, 3, 3)"
   ]
  },
  {
   "cell_type": "code",
   "execution_count": 102,
   "metadata": {
    "collapsed": false
   },
   "outputs": [
    {
     "data": {
      "text/plain": [
       "array([[ 0,  1,  2,  3],\n",
       "       [ 4,  5,  6,  7],\n",
       "       [ 8,  9, 10, 11]])"
      ]
     },
     "execution_count": 102,
     "metadata": {},
     "output_type": "execute_result"
    }
   ],
   "source": [
    "np.arange(12).reshape(3,4)"
   ]
  },
  {
   "cell_type": "markdown",
   "metadata": {},
   "source": [
    "## Place Holder"
   ]
  },
  {
   "cell_type": "code",
   "execution_count": 87,
   "metadata": {
    "collapsed": false
   },
   "outputs": [
    {
     "data": {
      "text/plain": [
       "array([[ 1.,  0.,  0.,  0.,  0.],\n",
       "       [ 0.,  1.,  0.,  0.,  0.],\n",
       "       [ 0.,  0.,  1.,  0.,  0.],\n",
       "       [ 0.,  0.,  0.,  1.,  0.],\n",
       "       [ 0.,  0.,  0.,  0.,  1.]])"
      ]
     },
     "execution_count": 87,
     "metadata": {},
     "output_type": "execute_result"
    }
   ],
   "source": [
    "np.eye(5)"
   ]
  },
  {
   "cell_type": "code",
   "execution_count": 133,
   "metadata": {
    "collapsed": false
   },
   "outputs": [
    {
     "data": {
      "text/plain": [
       "array([[ 0.43515648,  0.76728998,  0.06092244],\n",
       "       [ 0.16421167,  0.57816503,  0.25292271]])"
      ]
     },
     "execution_count": 133,
     "metadata": {},
     "output_type": "execute_result"
    }
   ],
   "source": [
    "np.random.random([2,3])"
   ]
  },
  {
   "cell_type": "code",
   "execution_count": 138,
   "metadata": {
    "collapsed": false
   },
   "outputs": [
    {
     "data": {
      "text/plain": [
       "array([[ 1.,  1.,  1.],\n",
       "       [ 1.,  1.,  1.]])"
      ]
     },
     "execution_count": 138,
     "metadata": {},
     "output_type": "execute_result"
    }
   ],
   "source": [
    "np.ones([2,3], dtype=int)"
   ]
  },
  {
   "cell_type": "code",
   "execution_count": 136,
   "metadata": {
    "collapsed": false
   },
   "outputs": [
    {
     "data": {
      "text/plain": [
       "array([[ 0.,  0.,  0.,  0.,  0.],\n",
       "       [ 0.,  0.,  0.,  0.,  0.],\n",
       "       [ 0.,  0.,  0.,  0.,  0.],\n",
       "       [ 0.,  0.,  0.,  0.,  0.],\n",
       "       [ 0.,  0.,  0.,  0.,  0.]])"
      ]
     },
     "execution_count": 136,
     "metadata": {},
     "output_type": "execute_result"
    }
   ],
   "source": [
    "np.zeros([5,5])"
   ]
  }
 ],
 "metadata": {
  "kernelspec": {
   "display_name": "Python 3",
   "language": "python",
   "name": "python3"
  },
  "language_info": {
   "codemirror_mode": {
    "name": "ipython",
    "version": 3
   },
   "file_extension": ".py",
   "mimetype": "text/x-python",
   "name": "python",
   "nbconvert_exporter": "python",
   "pygments_lexer": "ipython3",
   "version": "3.4.3"
  }
 },
 "nbformat": 4,
 "nbformat_minor": 0
}
