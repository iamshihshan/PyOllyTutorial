{
 "cells": [
  {
   "cell_type": "markdown",
   "metadata": {
    "slideshow": {
     "slide_type": "slide"
    }
   },
   "source": [
    "# Environmet\n",
    "\n",
    "* Jupyter Notebook (Download [Anaconda](https://www.anaconda.com/download/) or [Miniconda](https://conda.io/miniconda.html))\n",
    "    * Python2.7+/Python3+\n",
    "    * Jupyter Notebook write Markdown code\n",
    "\n",
    "---"
   ]
  },
  {
   "cell_type": "markdown",
   "metadata": {
    "slideshow": {
     "slide_type": "slide"
    }
   },
   "source": [
    "## Shortcut Key on Jupyter Notebook\n",
    "\n",
    "- Switch Green/Blue mode : **Esc**\n",
    "\n",
    "### In Green Status\n",
    "* Run cell : **Ctrl** + **Enter**\n",
    "* Run cell & move into next cell : **Shift** + **Enter**\n",
    "* Hide or un-hide commend : **Ctrl** + **/**\n",
    "\n",
    "### In Blue Status\n",
    "* Add empty cell above : **A**\n",
    "* Add empty cell below : **B**\n",
    "* Delete single cell : **Double hit D**\n",
    "* Edit cell : **Enter**\n",
    "* Change cell to Code : **Y**\n",
    "* Change cell to Markdown : **M**\n",
    "* Copy cell : **C**\n",
    "* Past cell : **V**"
   ]
  },
  {
   "cell_type": "code",
   "execution_count": null,
   "metadata": {
    "collapsed": true,
    "slideshow": {
     "slide_type": "skip"
    }
   },
   "outputs": [],
   "source": [
    "..."
   ]
  },
  {
   "cell_type": "markdown",
   "metadata": {
    "slideshow": {
     "slide_type": "slide"
    }
   },
   "source": [
    "## [Markdown Code](https://github.com/adam-p/markdown-here/wiki/Markdown-Cheatsheet)\n",
    "---\n",
    "# Head\n",
    "## Head\n",
    "### Head\n",
    "#### Head\n",
    "|Table|Table|Table|\n",
    "|-|-|-|\n",
    "|**Bold Text**|*Italic Text*|**Bold Text**|\n",
    "\n",
    "* Sub description\n",
    "\n",
    "\n"
   ]
  },
  {
   "cell_type": "code",
   "execution_count": null,
   "metadata": {
    "collapsed": true,
    "slideshow": {
     "slide_type": "skip"
    }
   },
   "outputs": [],
   "source": [
    "..."
   ]
  },
  {
   "cell_type": "markdown",
   "metadata": {
    "slideshow": {
     "slide_type": "slide"
    }
   },
   "source": [
    "## Other useful guide"
   ]
  },
  {
   "cell_type": "markdown",
   "metadata": {
    "slideshow": {
     "slide_type": "slide"
    }
   },
   "source": [
    "1. How to switch your XXX.ipnb between python2 and Python3 in Jupyter notebook?\n",
    "2. How to share your XXX.ipynb with others?\n",
    "3. How to show graph?\n",
    "4. How to show code with Markdown?"
   ]
  },
  {
   "cell_type": "markdown",
   "metadata": {
    "slideshow": {
     "slide_type": "slide"
    }
   },
   "source": [
    "<img src=\"https://www.cesarsway.com/sites/newcesarsway/files/styles/large_article_preview/public/Natural-Dog-Law-2-To-dogs%2C-energy-is-everything.jpg?itok=Z-ujUOUr\" width=\"400\" height=\"300\"/>"
   ]
  },
  {
   "cell_type": "markdown",
   "metadata": {},
   "source": [
    "* SQL\n",
    "```SQL\n",
    "SELECT    *\n",
    "FROM      YourTable\n",
    "```\n",
    "\n",
    "* Python\n",
    "```Python\n",
    "def Hello(me='Olly') :\n",
    "    print('My name is', me)\n",
    "```"
   ]
  }
 ],
 "metadata": {
  "kernelspec": {
   "display_name": "Python 3",
   "language": "python",
   "name": "python3"
  },
  "language_info": {
   "codemirror_mode": {
    "name": "ipython",
    "version": 3
   },
   "file_extension": ".py",
   "mimetype": "text/x-python",
   "name": "python",
   "nbconvert_exporter": "python",
   "pygments_lexer": "ipython3",
   "version": "3.4.3"
  }
 },
 "nbformat": 4,
 "nbformat_minor": 1
}
