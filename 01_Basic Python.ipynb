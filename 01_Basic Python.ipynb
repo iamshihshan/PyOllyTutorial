{
 "cells": [
  {
   "cell_type": "markdown",
   "metadata": {
    "collapsed": true
   },
   "source": [
    "# Basic Python\n",
    "\n",
    "* Environment require **Python 3+**\n",
    "* [PEP 8 Python Style Guide](https://www.python.org/dev/peps/pep-0008/)\n",
    "---"
   ]
  },
  {
   "cell_type": "markdown",
   "metadata": {},
   "source": [
    "## Before Start\n",
    "* Assigment Statment : a=1 or a='PythonCode'\n",
    "* Expression Statment : 1 or 1+2*3\n",
    "* Defult Funtion : print(), len(), input(), range()"
   ]
  },
  {
   "cell_type": "markdown",
   "metadata": {
    "collapsed": true
   },
   "source": [
    "## Hello Python\n",
    "* *Print* **String**"
   ]
  },
  {
   "cell_type": "code",
   "execution_count": 10,
   "metadata": {
    "collapsed": false
   },
   "outputs": [
    {
     "name": "stdout",
     "output_type": "stream",
     "text": [
      "Hello, I am Olly\n",
      "Hello, I am Hungry\n"
     ]
    }
   ],
   "source": [
    "print('Hello, I am Olly')\n",
    "s = 'Hello, I am Hungry'\n",
    "print(s)"
   ]
  },
  {
   "cell_type": "markdown",
   "metadata": {},
   "source": [
    "* *Print* **Number** (int or float)"
   ]
  },
  {
   "cell_type": "code",
   "execution_count": 15,
   "metadata": {
    "collapsed": false
   },
   "outputs": [
    {
     "name": "stdout",
     "output_type": "stream",
     "text": [
      "35.5\n",
      "91 Hello, I am Hungry 91\n"
     ]
    }
   ],
   "source": [
    "print(35.5)\n",
    "a = 91\n",
    "print(a, s, a)"
   ]
  },
  {
   "cell_type": "markdown",
   "metadata": {},
   "source": [
    "* len()"
   ]
  },
  {
   "cell_type": "code",
   "execution_count": 19,
   "metadata": {
    "collapsed": false
   },
   "outputs": [
    {
     "data": {
      "text/plain": [
       "18"
      ]
     },
     "execution_count": 19,
     "metadata": {},
     "output_type": "execute_result"
    }
   ],
   "source": [
    "len(s)"
   ]
  },
  {
   "cell_type": "markdown",
   "metadata": {},
   "source": [
    "## Calculator - Expression\n",
    "* *How to Use*  $+$ $-$ $\\times$ $\\div$ power sqart..."
   ]
  },
  {
   "cell_type": "code",
   "execution_count": 2,
   "metadata": {
    "collapsed": false
   },
   "outputs": [
    {
     "name": "stdout",
     "output_type": "stream",
     "text": [
      "9+3 =  12\n",
      "9-3 =  6\n",
      "9*3 =  27\n",
      "9/3 =  3.0\n",
      "5 power 3 = 125\n",
      "sqart 25  = 5.0\n",
      "|-100| = 100\n",
      "7//3 = 2\n",
      "7%3 = 1\n",
      "log(100) = 4.605170185988092\n",
      "exponential(1) = 2.718281828459045\n",
      "Pi =  3.141592653589793\n"
     ]
    }
   ],
   "source": [
    "print('9+3 = ', 9+3)\n",
    "print('9-3 = ', 9-3)\n",
    "print('9*3 = ', 9*3)\n",
    "print('9/3 = ', 9/3)\n",
    "print('5 power 3 =', 5**3)\n",
    "print('sqart 25  =', 25**(0.5))\n",
    "print('|-100| =', abs(-100))\n",
    "print('7//3 =', 7//3)\n",
    "print('7%3 =', 7%3)\n",
    "\n",
    "import math\n",
    "print('log(100) =', math.log(100))\n",
    "print('exponential(1) =', math.exp(1))\n",
    "print('Pi = ', math.pi)"
   ]
  },
  {
   "cell_type": "markdown",
   "metadata": {},
   "source": [
    "* String could be $+$ and $\\times$"
   ]
  },
  {
   "cell_type": "code",
   "execution_count": 24,
   "metadata": {
    "collapsed": false
   },
   "outputs": [
    {
     "name": "stdout",
     "output_type": "stream",
     "text": [
      "Multiply String a*3 = OllyOllyOlly\n",
      "Add strings a with string b = OllyDog\n"
     ]
    }
   ],
   "source": [
    "a = 'Olly'\n",
    "print('Multiply String a*3 =', a*3)\n",
    "b = 'Dog'\n",
    "print('Add strings a with string b =', a+b)"
   ]
  },
  {
   "cell_type": "markdown",
   "metadata": {},
   "source": [
    "## Main 3 Types - List, Dictionary, Tuples\n",
    "* *About* **List**"
   ]
  },
  {
   "cell_type": "code",
   "execution_count": 25,
   "metadata": {
    "collapsed": false
   },
   "outputs": [],
   "source": [
    "List1 = ['January','February','March']\n",
    "List2 = [1,2,'March']"
   ]
  },
  {
   "cell_type": "markdown",
   "metadata": {},
   "source": [
    "|List Value   |1|2|3|4|5|6|7|8|9||\n",
    "|--------|-|-|-|-|-|-|-|-|-|-||\n",
    "|Location ==>|0|1|2|3|4|5|6|7|8||\n",
    "||-9|-8|-7|-6|-5|-4|-3|-2|-1|<==Location |"
   ]
  },
  {
   "cell_type": "code",
   "execution_count": 8,
   "metadata": {
    "collapsed": false
   },
   "outputs": [
    {
     "name": "stdout",
     "output_type": "stream",
     "text": [
      "Original list : [1, 2, 3, 4, 5, 6, 7, 8, 9]\n",
      "1st of List =  1\n",
      "2st of List =  2\n",
      "2st - 5st of List =  [2, 3, 4, 5]\n",
      "3st - end of List =  [4, 5, 6, 7, 8, 9]\n",
      "1st end of List =  9\n",
      "2st - 5st end of List =  [5, 6, 7, 8]\n",
      "After Replace 1st of List from 1 to 100 = [100, 2, 3, 4, 5, 6, 7, 8, 9]\n",
      "After Delete 1st of List = [2, 3, 4, 5, 6, 7, 8, 9]\n",
      "After Add/Append 10 into List =  [2, 3, 4, 5, 6, 7, 8, 9, 10]\n",
      "Triple List = [2, 3, 4, 5, 6, 7, 8, 9, 10, 2, 3, 4, 5, 6, 7, 8, 9, 10, 2, 3, 4, 5, 6, 7, 8, 9, 10]\n"
     ]
    }
   ],
   "source": [
    "List = [1,2,3,4,5,6,7,8,9]\n",
    "\n",
    "print('Original list :', List)\n",
    "print('1st of List = ', List[0])\n",
    "print('2st of List = ', List[1])\n",
    "print('2st - 5st of List = ', List[1:5])\n",
    "print('3st - end of List = ', List[3:])\n",
    "print('1st end of List = ', List[-1])\n",
    "print('2st - 5st end of List = ', List[-5:-1])\n",
    "\n",
    "List[0]=100\n",
    "print('After Replace 1st of List from 1 to 100 =', List)\n",
    "\n",
    "del List[0]\n",
    "print('After Delete 1st of List =', List)\n",
    "\n",
    "List.append(10)\n",
    "print('After Add/Append 10 into List = ', List)\n",
    "\n",
    "List3X = List*3\n",
    "print('Triple List =', List3X)\n"
   ]
  },
  {
   "cell_type": "markdown",
   "metadata": {},
   "source": [
    "* *About* **Dictionary**"
   ]
  },
  {
   "cell_type": "code",
   "execution_count": 42,
   "metadata": {
    "collapsed": false
   },
   "outputs": [
    {
     "name": "stdout",
     "output_type": "stream",
     "text": [
      "Original Dictonary : {'Sera': 15, 'Rimo': 16, 'Olly': 14}\n",
      "ALL Dict Key = dict_keys(['Sera', 'Rimo', 'Olly'])\n",
      "ALL Dict Value = dict_values([15, 16, 14])\n",
      "Olly's Value= 14\n",
      "After Replace Olly 14 with 9999 in Dictonary : {'Sera': 15, 'Rimo': 16, 'Olly': 9999}\n",
      "After Delete Olly 14 in Dictonary : {'Sera': 15, 'Rimo': 16}\n",
      "After Add Hungry Olly 20 in Dictonary : {'Sera': 15, 'Rimo': 16, 'Hungry Olly': 20}\n"
     ]
    }
   ],
   "source": [
    "Dict = {'Olly':14, \\\n",
    "        'Sera':15, \\\n",
    "        'Rimo':16}\n",
    "print('Original Dictonary :', Dict)\n",
    "\n",
    "ALLKey = Dict.keys()\n",
    "print('ALL Dict Key =', ALLKey)\n",
    "\n",
    "ALLValue = Dict.values()\n",
    "print('ALL Dict Value =', ALLValue)\n",
    "\n",
    "print('Olly\\'s Value=', Dict['Olly'])\n",
    "\n",
    "Dict['Olly'] = 9999\n",
    "print('After Replace Olly 14 with 9999 in Dictonary :', Dict)\n",
    "\n",
    "del Dict['Olly']\n",
    "print('After Delete Olly 14 in Dictonary :', Dict)\n",
    "\n",
    "Dict['Hungry Olly'] = 20\n",
    "print('After Add Hungry Olly 20 in Dictonary :', Dict)"
   ]
  },
  {
   "cell_type": "markdown",
   "metadata": {},
   "source": [
    "* *About* **Tuples** : neither change, append  nor delete any value."
   ]
  },
  {
   "cell_type": "code",
   "execution_count": 25,
   "metadata": {
    "collapsed": false
   },
   "outputs": [
    {
     "name": "stdout",
     "output_type": "stream",
     "text": [
      "Orignial Tuple = (1, 2, 'March')\n"
     ]
    }
   ],
   "source": [
    "Tuples1 = ('January', 'February', 'March')\n",
    "Tuples2 = (1, 2, 'March')\n",
    "print('Orignial Tuple =', Tuples2)"
   ]
  },
  {
   "cell_type": "markdown",
   "metadata": {},
   "source": [
    "## Buleen Logic\n",
    "---\n",
    "\n",
    "<font color='red'>AND</font>\n",
    "\n",
    "|Logic                     |Ans       |\n",
    "|--------------------------|----------|\n",
    "|True **and** True         |True      |\n",
    "|True **and** False        |<font color='red'>False<font>|\n",
    "|False **and** False       |False     |"
   ]
  },
  {
   "cell_type": "markdown",
   "metadata": {},
   "source": [
    "<font color='red'>OR</font>\n",
    "\n",
    "|Logic                     |Ans       |\n",
    "|--------------------------|----------|\n",
    "|True **or** True          |True      |\n",
    "|True **or** False         |<font color='red'>True<font>|\n",
    "|False **or** False        |False     |"
   ]
  },
  {
   "cell_type": "code",
   "execution_count": 37,
   "metadata": {
    "collapsed": false
   },
   "outputs": [
    {
     "name": "stdout",
     "output_type": "stream",
     "text": [
      "False\n",
      "True\n",
      "False\n"
     ]
    }
   ],
   "source": [
    "print(True and False)\n",
    "print(True or False)\n",
    "print(not not not True)"
   ]
  },
  {
   "cell_type": "markdown",
   "metadata": {},
   "source": [
    "<font color='red'>Comparison</font>\n",
    "\n",
    "|Category                 |Example     |Ans       |\n",
    "|-------------------------|------------|----------|\n",
    "|Eaqual                   |3==3, 1==1.0|True      |\n",
    "|Un-eaqual                |1!=3        |True      |\n",
    "|Greater Than             |1>3         |False     |\n",
    "|Less Than                |1<3         |True     |\n",
    "|Less Than or Equal to    |1<=3        |True      |\n",
    "|Greater Than or Equal to |1>=3        |False     |"
   ]
  },
  {
   "cell_type": "code",
   "execution_count": 34,
   "metadata": {
    "collapsed": false
   },
   "outputs": [
    {
     "name": "stdout",
     "output_type": "stream",
     "text": [
      "True\n",
      "True\n",
      "True\n",
      "True\n",
      "False\n"
     ]
    }
   ],
   "source": [
    "print(3==3)\n",
    "print(1==1.0)\n",
    "print(1!=3)\n",
    "print(1<3)\n",
    "print(1>=3)"
   ]
  },
  {
   "cell_type": "markdown",
   "metadata": {},
   "source": [
    "## Loop\n",
    "* **if else**\n",
    "* if\n",
    "* elif\n",
    "* else\n"
   ]
  },
  {
   "cell_type": "code",
   "execution_count": 38,
   "metadata": {
    "collapsed": false
   },
   "outputs": [
    {
     "name": "stdout",
     "output_type": "stream",
     "text": [
      "Olly is neither Blue nor Green\n",
      "She is Yellow\n"
     ]
    }
   ],
   "source": [
    "Olly = 'Yellow'\n",
    "\n",
    "if Olly == 'Blue':\n",
    "    print('Olly is Blue')\n",
    "elif Olly == 'Green':\n",
    "    print('Olly is Green')\n",
    "else:\n",
    "    print('Olly is neither Blue nor Green')\n",
    "    print('She is', Olly)\n",
    "    "
   ]
  },
  {
   "cell_type": "markdown",
   "metadata": {},
   "source": [
    "* **while**"
   ]
  },
  {
   "cell_type": "code",
   "execution_count": 40,
   "metadata": {
    "collapsed": false
   },
   "outputs": [
    {
     "name": "stdout",
     "output_type": "stream",
     "text": [
      "Now is 8 o'clock, can not leave office\n",
      "Now is 9 o'clock, can not leave office\n",
      "Now is 10 o'clock, can not leave office\n",
      "Now is 11 o'clock, can not leave office\n",
      "Now is 12 o'clock, can not leave office\n",
      "Now is 13 o'clock, can not leave office\n",
      "Now is 14 o'clock, can not leave office\n",
      "Now is 15 o'clock, can not leave office\n",
      "Now is 16 o'clock, can not leave office\n",
      "Now is 17 o'clock, Let's Get Off!!!\n"
     ]
    }
   ],
   "source": [
    "a = 8\n",
    "while a < 17:\n",
    "    print('Now is', a, 'o\\'clock, can not leave office')\n",
    "    a = a+1\n",
    "print ('Now is', a, 'o\\'clock, Let\\'s Get Off!!!')"
   ]
  },
  {
   "cell_type": "markdown",
   "metadata": {},
   "source": [
    "* **for**"
   ]
  },
  {
   "cell_type": "code",
   "execution_count": 12,
   "metadata": {
    "collapsed": false
   },
   "outputs": [
    {
     "name": "stdout",
     "output_type": "stream",
     "text": [
      "Fish\n",
      "Puddin\n",
      "Chicken\n",
      "1\n",
      "2\n",
      "3\n",
      "4\n"
     ]
    }
   ],
   "source": [
    "MyFavorFood = ['Fish', 'Puddin', 'Chicken']\n",
    "for i in MyFavorFood:\n",
    "    print(i)\n",
    "    \n",
    "MyRange = range(1,5)\n",
    "for f in MyRange:\n",
    "    print(f)"
   ]
  },
  {
   "cell_type": "markdown",
   "metadata": {},
   "source": [
    "## Function"
   ]
  },
  {
   "cell_type": "code",
   "execution_count": 35,
   "metadata": {
    "collapsed": false
   },
   "outputs": [],
   "source": [
    "Dict = {'Olly':14, \\\n",
    "        'Sera':15, \\\n",
    "        'Rimo':16}\n",
    "Name=None\n",
    "def EveryBodyMyFriend(Name=None):\n",
    "    if Name==None:\n",
    "        Name = input(\"Please enter your name: \")\n",
    "        if Name in Dict.keys():\n",
    "            age = Dict[Name]\n",
    "            print('I know you', Name, 'you are', age, 'years old!')\n",
    "        else:\n",
    "            print('Nice to meet you,', Name, '!')\n",
    "    else:\n",
    "        if Name in Dict.keys():\n",
    "            age = Dict[Name]\n",
    "            print('I know you', Name, 'you are', age, 'years old!')\n",
    "        else:\n",
    "            print('Nice to meet you,', Name, '!')"
   ]
  },
  {
   "cell_type": "code",
   "execution_count": null,
   "metadata": {
    "collapsed": false
   },
   "outputs": [],
   "source": [
    "# Call your function 1\n",
    "EveryBodyMyFriend()"
   ]
  },
  {
   "cell_type": "code",
   "execution_count": 37,
   "metadata": {
    "collapsed": false
   },
   "outputs": [
    {
     "name": "stdout",
     "output_type": "stream",
     "text": [
      "I know you Olly you are 14 years old!\n"
     ]
    }
   ],
   "source": [
    "# Call your function 2\n",
    "EveryBodyMyFriend(Name='Olly')"
   ]
  },
  {
   "cell_type": "markdown",
   "metadata": {},
   "source": [
    "## Other Useful Tip"
   ]
  },
  {
   "cell_type": "markdown",
   "metadata": {},
   "source": [
    "If you do not want to run the code or just want to make an note for your code, you can:\n",
    "\n",
    "1. Deactive your specific line use : #\n",
    "2. Or just mark them as paragraph: ''' / \"\"\""
   ]
  },
  {
   "cell_type": "code",
   "execution_count": 28,
   "metadata": {
    "collapsed": false
   },
   "outputs": [
    {
     "data": {
      "text/plain": [
       "'\\nI am Paragragh\\n'"
      ]
     },
     "execution_count": 28,
     "metadata": {},
     "output_type": "execute_result"
    }
   ],
   "source": [
    "# I am blocked now\n",
    "\n",
    "'''\n",
    "I am Paragragh\n",
    "'''"
   ]
  }
 ],
 "metadata": {
  "kernelspec": {
   "display_name": "Python 3",
   "language": "python",
   "name": "python3"
  },
  "language_info": {
   "codemirror_mode": {
    "name": "ipython",
    "version": 3
   },
   "file_extension": ".py",
   "mimetype": "text/x-python",
   "name": "python",
   "nbconvert_exporter": "python",
   "pygments_lexer": "ipython3",
   "version": "3.4.3"
  }
 },
 "nbformat": 4,
 "nbformat_minor": 0
}
