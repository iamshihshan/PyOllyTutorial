{
 "cells": [
  {
   "cell_type": "markdown",
   "metadata": {
    "collapsed": true
   },
   "source": [
    "# Basic Python\n",
    "* Environment require **Python 3+**\n",
    "* This document is for python beginner, if you ever use python it is not for you.\n",
    "---"
   ]
  },
  {
   "cell_type": "markdown",
   "metadata": {
    "collapsed": true
   },
   "source": [
    "## Hello Python\n",
    "* *Print* **String**"
   ]
  },
  {
   "cell_type": "code",
   "execution_count": 43,
   "metadata": {
    "collapsed": false
   },
   "outputs": [
    {
     "name": "stdout",
     "output_type": "stream",
     "text": [
      "Hello, I am Olly\n",
      "Hello, I am Hungry\n"
     ]
    }
   ],
   "source": [
    "print('Hello, I am Olly')\n",
    "s = 'Hello, I am Hungry'\n",
    "print(s)"
   ]
  },
  {
   "cell_type": "markdown",
   "metadata": {},
   "source": [
    "* *Print* **Number**"
   ]
  },
  {
   "cell_type": "code",
   "execution_count": 46,
   "metadata": {
    "collapsed": false
   },
   "outputs": [
    {
     "name": "stdout",
     "output_type": "stream",
     "text": [
      "35\n",
      "91 Hello, I am Hungry 91\n"
     ]
    }
   ],
   "source": [
    "print(35)\n",
    "a = 91\n",
    "print(a,s,a)"
   ]
  },
  {
   "cell_type": "markdown",
   "metadata": {},
   "source": [
    "## Calculator\n",
    "* *How to Use*  $+$ $-$ $\\times$ $\\div$ power sqart..."
   ]
  },
  {
   "cell_type": "code",
   "execution_count": 247,
   "metadata": {
    "collapsed": false
   },
   "outputs": [
    {
     "name": "stdout",
     "output_type": "stream",
     "text": [
      "9+3 =  3\n",
      "9-3 =  2\n",
      "9*3 =  27\n",
      "9/3 =  3.0\n",
      "5 power 3 = 125\n",
      "25 sqart = 5.0\n",
      "|-100| = 100\n",
      "log(100) = 4.605170185988092\n",
      "exponential(100) = 100.00000000000004\n",
      "Pi =  3.141592653589793\n"
     ]
    }
   ],
   "source": [
    "print('9+3 = ',1+2)\n",
    "print('9-3 = ',5-3)\n",
    "print('9*3 = ',9*3)\n",
    "print('9/3 = ',9/3)\n",
    "print('5 power 3 =',5**3)\n",
    "print('25 sqart =',25**(0.5))\n",
    "print('|-100| =',abs(-100))\n",
    "\n",
    "import math\n",
    "print('log(100) =', math.log(100))\n",
    "print('exponential(100) =', math.exp(math.log(100)))\n",
    "print('Pi = ', math.pi)"
   ]
  },
  {
   "cell_type": "markdown",
   "metadata": {},
   "source": [
    "## Main 3 Types - List, Dictionary, Tuples\n",
    "* *About* **List**"
   ]
  },
  {
   "cell_type": "code",
   "execution_count": 236,
   "metadata": {
    "collapsed": false
   },
   "outputs": [],
   "source": [
    "List1 = ['January','February','March']\n",
    "List2 = [1,2,'March']"
   ]
  },
  {
   "cell_type": "code",
   "execution_count": 237,
   "metadata": {
    "collapsed": false
   },
   "outputs": [
    {
     "name": "stdout",
     "output_type": "stream",
     "text": [
      "Original list : [1, 2, 3, 4, 5, 6, 7, 8, 9]\n",
      "1st of List =  1\n",
      "2st of List =  2\n",
      "2st - 5st of List =  [2, 3, 4, 5]\n",
      "3st - end of List =  [4, 5, 6, 7, 8, 9]\n",
      "1st end of List =  9\n",
      "2st - 5st end of List =  [5, 6, 7, 8]\n",
      "After Replace 1st of List from 1 to 100 = [100, 2, 3, 4, 5, 6, 7, 8, 9]\n",
      "After Delete 1st of List = [2, 3, 4, 5, 6, 7, 8, 9]\n",
      "After Add/Append 10 into List =  [2, 3, 4, 5, 6, 7, 8, 9, 10]\n",
      "Triple List = [2, 3, 4, 5, 6, 7, 8, 9, 10, 2, 3, 4, 5, 6, 7, 8, 9, 10, 2, 3, 4, 5, 6, 7, 8, 9, 10]\n"
     ]
    }
   ],
   "source": [
    "List = [1,2,3,4,5,6,7,8,9]\n",
    "\n",
    "print('Original list :', List)\n",
    "print('1st of List = ', List[0])\n",
    "print('2st of List = ', List[1])\n",
    "print('2st - 5st of List = ', List[1:5])\n",
    "print('3st - end of List = ', List[3:])\n",
    "print('1st end of List = ', List[-1])\n",
    "print('2st - 5st end of List = ', List[-5:-1])\n",
    "\n",
    "List[0]=100\n",
    "print('After Replace 1st of List from 1 to 100 =', List)\n",
    "\n",
    "del List[0]\n",
    "print('After Delete 1st of List =', List)\n",
    "\n",
    "List.append(10)\n",
    "print('After Add/Append 10 into List = ', List)\n",
    "\n",
    "List3X = List*3\n",
    "print('Triple List =',List3X)"
   ]
  },
  {
   "cell_type": "markdown",
   "metadata": {},
   "source": [
    "* *About* **Dictionary**"
   ]
  },
  {
   "cell_type": "code",
   "execution_count": 238,
   "metadata": {
    "collapsed": false
   },
   "outputs": [
    {
     "name": "stdout",
     "output_type": "stream",
     "text": [
      "Original Dictonary : {'Rimo': 16, 'Olly': 14, 'Sera': 15}\n",
      "ALL Dict Key = dict_keys(['Rimo', 'Olly', 'Sera'])\n",
      "ALL Dict Value = dict_values([16, 14, 15])\n",
      "Olly's Value= 14\n",
      "After Replace Olly 14 with 9999 in Dictonary : {'Rimo': 16, 'Olly': 9999, 'Sera': 15}\n",
      "After Delete Olly 14 in Dictonary : {'Rimo': 16, 'Sera': 15}\n",
      "After Add Hungry Olly 20 in Dictonary : {'Rimo': 16, 'Hungry Olly': 20, 'Sera': 15}\n"
     ]
    }
   ],
   "source": [
    "Dict = {'Olly':14, \\\n",
    "        'Sera':15, \\\n",
    "        'Rimo':16}\n",
    "print('Original Dictonary :', Dict)\n",
    "\n",
    "ALLKey = Dict.keys()\n",
    "print('ALL Dict Key =', ALLKey)\n",
    "\n",
    "ALLValue = Dict.values()\n",
    "print('ALL Dict Value =', ALLValue)\n",
    "\n",
    "print('Olly\\'s Value=', Dict['Olly'])\n",
    "\n",
    "Dict['Olly'] = 9999\n",
    "print('After Replace Olly 14 with 9999 in Dictonary :',Dict)\n",
    "\n",
    "del Dict['Olly']\n",
    "print('After Delete Olly 14 in Dictonary :',Dict)\n",
    "\n",
    "Dict['Hungry Olly'] = 20\n",
    "print('After Add Hungry Olly 20 in Dictonary :',Dict)"
   ]
  },
  {
   "cell_type": "markdown",
   "metadata": {},
   "source": [
    "* *About* **Tuples** : neither change, append  nor delete any value."
   ]
  },
  {
   "cell_type": "code",
   "execution_count": 241,
   "metadata": {
    "collapsed": false
   },
   "outputs": [
    {
     "name": "stdout",
     "output_type": "stream",
     "text": [
      "Orignial Tuple = (1, 2, 'March')\n"
     ]
    }
   ],
   "source": [
    "Tuples1 = ('January','February','March')\n",
    "Tuples2 = (1,2,'March')\n",
    "print('Orignial Tuple =', Tuples2)"
   ]
  },
  {
   "cell_type": "markdown",
   "metadata": {},
   "source": [
    "## Buleen Logic\n",
    "\n",
    "|Logic                     |Ans       |\n",
    "|--------------------------|----------|\n",
    "|True **and** True         |True      |\n",
    "|True **and** False        |<font color='red'>False<font>|\n",
    "|False **and** False       |False     |\n",
    "|True **or** True          |True      |\n",
    "|True **or** False         |<font color='red'>True<font>|\n",
    "|False **or** False        |False     |"
   ]
  },
  {
   "cell_type": "code",
   "execution_count": 271,
   "metadata": {
    "collapsed": false
   },
   "outputs": [
    {
     "name": "stdout",
     "output_type": "stream",
     "text": [
      "False\n",
      "True\n",
      "False\n",
      "True\n",
      "True\n",
      "False\n"
     ]
    }
   ],
   "source": [
    "print(True and False)\n",
    "print(True or False)\n",
    "print(1==3)\n",
    "print(1!=3)\n",
    "print(1<3)\n",
    "print(1>=3)"
   ]
  },
  {
   "cell_type": "markdown",
   "metadata": {},
   "source": [
    "## Loop\n",
    "* **if else**\n"
   ]
  },
  {
   "cell_type": "code",
   "execution_count": 261,
   "metadata": {
    "collapsed": false
   },
   "outputs": [
    {
     "name": "stdout",
     "output_type": "stream",
     "text": [
      "Olly is neither Blue nor Green\n",
      "She is Happy\n"
     ]
    }
   ],
   "source": [
    "Olly = 'Happy'\n",
    "\n",
    "if Olly == 'Blue':\n",
    "    print('Olly is Blue')\n",
    "elif Olly == 'Green':\n",
    "    print('Olly is Green')\n",
    "else:\n",
    "    print('Olly is neither Blue nor Green')\n",
    "    print('She is', Olly)\n",
    "    "
   ]
  },
  {
   "cell_type": "markdown",
   "metadata": {},
   "source": [
    "* **while**"
   ]
  },
  {
   "cell_type": "code",
   "execution_count": 288,
   "metadata": {
    "collapsed": false
   },
   "outputs": [
    {
     "name": "stdout",
     "output_type": "stream",
     "text": [
      "Now is 8 o'clock, can not leave office\n",
      "Now is 9 o'clock, can not leave office\n",
      "Now is 10 o'clock, can not leave office\n",
      "Now is 11 o'clock, can not leave office\n",
      "Now is 12 o'clock, can not leave office\n",
      "Now is 13 o'clock, can not leave office\n",
      "Now is 14 o'clock, can not leave office\n",
      "Now is 15 o'clock, can not leave office\n",
      "Now is 16 o'clock, can not leave office\n",
      "Now is 17 o'clock, Let's Get Off!!!\n"
     ]
    }
   ],
   "source": [
    "a = 8\n",
    "while a < 17:\n",
    "    print('Now is', a, 'o\\'clock, can not leave office')\n",
    "    a = a+1\n",
    "else:\n",
    "    print ('Now is', a, 'o\\'clock, Let\\'s Get Off!!!')"
   ]
  },
  {
   "cell_type": "markdown",
   "metadata": {},
   "source": [
    "* **for**"
   ]
  },
  {
   "cell_type": "code",
   "execution_count": 294,
   "metadata": {
    "collapsed": false
   },
   "outputs": [
    {
     "name": "stdout",
     "output_type": "stream",
     "text": [
      "Fish\n",
      "Puddin\n",
      "Chicken\n",
      "1\n",
      "2\n",
      "3\n",
      "4\n"
     ]
    }
   ],
   "source": [
    "MyFavorFood = ['Fish', 'Puddin', 'Chicken']\n",
    "for i in MyFavorFood:\n",
    "    print(i)\n",
    "    \n",
    "MyRange = range(1,5)\n",
    "for f in MyRange:\n",
    "    print(f)"
   ]
  },
  {
   "cell_type": "markdown",
   "metadata": {},
   "source": [
    "## Function"
   ]
  },
  {
   "cell_type": "code",
   "execution_count": 9,
   "metadata": {
    "collapsed": false
   },
   "outputs": [],
   "source": [
    "Dict = {'Olly':14, \\\n",
    "        'Sera':15, \\\n",
    "        'Rimo':16}\n",
    "Name=None\n",
    "def EveryBodyMyFriend(Name=None):\n",
    "    if Name==None:\n",
    "        Name = input(\"Please enter your name: \")\n",
    "        if Name in Dict.keys():\n",
    "            age = Dict[Name]\n",
    "            print('I know you', Name, 'you are', age, 'years old!')\n",
    "        else:\n",
    "            print('Nice to meet you,', Name, '!')\n",
    "    else:\n",
    "        if Name in Dict.keys():\n",
    "            age = Dict[Name]\n",
    "            print('I know you', Name, 'you are', age, 'years old!')\n",
    "        else:\n",
    "            print('Nice to meet you,', Name, '!')"
   ]
  },
  {
   "cell_type": "code",
   "execution_count": 10,
   "metadata": {
    "collapsed": false
   },
   "outputs": [
    {
     "name": "stdout",
     "output_type": "stream",
     "text": [
      "Please enter your name: Olly\n",
      "I know you Olly you are 14 years old!\n"
     ]
    }
   ],
   "source": [
    "# Call your function 1\n",
    "EveryBodyMyFriend()"
   ]
  },
  {
   "cell_type": "code",
   "execution_count": 11,
   "metadata": {
    "collapsed": false
   },
   "outputs": [
    {
     "name": "stdout",
     "output_type": "stream",
     "text": [
      "I know you Olly you are 14 years old!\n"
     ]
    }
   ],
   "source": [
    "# Call your function 2\n",
    "EveryBodyMyFriend(Name='Olly')"
   ]
  },
  {
   "cell_type": "markdown",
   "metadata": {},
   "source": [
    "## Other Useful Tip"
   ]
  },
  {
   "cell_type": "markdown",
   "metadata": {},
   "source": [
    "If you do not want to run the code or just want to make a description for your code, you can:\n",
    "\n",
    "1. Deactive your specific line use : #\n",
    "2. Or just mark them as paragraph: ''' / \"\"\""
   ]
  },
  {
   "cell_type": "code",
   "execution_count": 301,
   "metadata": {
    "collapsed": false
   },
   "outputs": [
    {
     "data": {
      "text/plain": [
       "'\\nI am Paragragh\\n'"
      ]
     },
     "execution_count": 301,
     "metadata": {},
     "output_type": "execute_result"
    }
   ],
   "source": [
    "# I am blocked now\n",
    "\n",
    "'''\n",
    "I am Paragragh\n",
    "'''"
   ]
  }
 ],
 "metadata": {
  "kernelspec": {
   "display_name": "Python 3",
   "language": "python",
   "name": "python3"
  },
  "language_info": {
   "codemirror_mode": {
    "name": "ipython",
    "version": 3
   },
   "file_extension": ".py",
   "mimetype": "text/x-python",
   "name": "python",
   "nbconvert_exporter": "python",
   "pygments_lexer": "ipython3",
   "version": "3.5.2"
  }
 },
 "nbformat": 4,
 "nbformat_minor": 0
}
